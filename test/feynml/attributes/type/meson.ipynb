{
 "cells": [
  {
   "cell_type": "markdown",
   "metadata": {},
   "source": [
    "# meson"
   ]
  },
  {
   "cell_type": "code",
   "execution_count": 1,
   "metadata": {},
   "outputs": [
    {
     "name": "stdout",
     "output_type": "stream",
     "text": [
      "tikz:\n"
     ]
    },
    {
     "data": {
      "image/png": "[encoded data removed]",
      "text/plain": [
       "<wand.image.Image: ee6f7be 'PDF' (163x18)>"
      ]
     },
     "metadata": {},
     "output_type": "display_data"
    },
    {
     "name": "stdout",
     "output_type": "stream",
     "text": [
      "pyx:\n",
      "pyx failed:\n",
      "Traceback (most recent call last):\n",
      "  File \"/home/apn/git/pyfeyn2/pyfeyn2/render/all.py\", line 109, in render\n",
      "    render(fd).render(dirpath + \"/\" + name + \".pdf\", **dynarg)\n",
      "  File \"/home/apn/git/pyfeyn2/pyfeyn2/render/pyx/pyxrender.py\", line 66, in render\n",
      "    nl = NamedLine[lname](Point(src.x, src.y), Point(tar.x, tar.y))\n",
      "         ~~~~~~~~~^^^^^^^\n",
      "KeyError: 'meson'\n",
      "\n",
      "feynmp:\n",
      "feynmp failed:\n",
      "Traceback (most recent call last):\n",
      "  File \"/home/apn/git/pyfeyn2/pyfeyn2/render/all.py\", line 109, in render\n",
      "    render(fd).render(dirpath + \"/\" + name + \".pdf\", **dynarg)\n",
      "    ^^^^^^^^^^\n",
      "  File \"/home/apn/git/pyfeyn2/pyfeyn2/render/latex/feynmp.py\", line 181, in __init__\n",
      "    self.set_feynman_diagram(fd)\n",
      "  File \"/home/apn/git/pyfeyn2/pyfeyn2/render/latex/feynmp.py\", line 185, in set_feynman_diagram\n",
      "    self.set_src_diag(NoEscape(feynman_to_feynmp(fd)))\n",
      "                               ^^^^^^^^^^^^^^^^^^^^^\n",
      "  File \"/home/apn/git/pyfeyn2/pyfeyn2/render/latex/feynmp.py\", line 139, in feynman_to_feynmp\n",
      "    tttype = type_map[pstyle.getProperty(\"line\").value]\n",
      "             ~~~~~~~~^^^^^^^^^^^^^^^^^^^^^^^^^^^^^^^^^^\n",
      "KeyError: 'meson'\n",
      "\n",
      "feynman:\n",
      "feynman failed:\n",
      "Traceback (most recent call last):\n",
      "  File \"/home/apn/git/pyfeyn2/pyfeyn2/render/all.py\", line 109, in render\n",
      "    render(fd).render(dirpath + \"/\" + name + \".pdf\", **dynarg)\n",
      "  File \"/home/apn/git/pyfeyn2/pyfeyn2/render/mpl/feynmanrender.py\", line 169, in render\n",
      "    for style in get_styled_lines(self.fd, p):\n",
      "                 ^^^^^^^^^^^^^^^^^^^^^^^^^^^^\n",
      "  File \"/home/apn/git/pyfeyn2/pyfeyn2/render/mpl/feynmanrender.py\", line 40, in get_styled_lines\n",
      "    for i in namedlines[lname]:\n",
      "             ~~~~~~~~~~^^^^^^^\n",
      "KeyError: 'meson'\n",
      "\n",
      "dot:\n",
      "dot failed:\n",
      "Traceback (most recent call last):\n",
      "  File \"/home/apn/git/pyfeyn2/pyfeyn2/render/all.py\", line 109, in render\n",
      "    render(fd).render(dirpath + \"/\" + name + \".pdf\", **dynarg)\n",
      "    ^^^^^^^^^^\n",
      "  File \"/home/apn/git/pyfeyn2/pyfeyn2/render/latex/dot.py\", line 80, in __init__\n",
      "    self.set_feynman_diagram(fd)\n",
      "  File \"/home/apn/git/pyfeyn2/pyfeyn2/render/latex/dot.py\", line 84, in set_feynman_diagram\n",
      "    self.src_dot = feynman_to_dot(\n",
      "                   ^^^^^^^^^^^^^^^\n",
      "  File \"/home/apn/git/pyfeyn2/pyfeyn2/interface/dot.py\", line 61, in feynman_to_dot\n",
      "    thestyle = styler(fd, p)\n",
      "               ^^^^^^^^^^^^^\n",
      "  File \"/home/apn/git/pyfeyn2/pyfeyn2/render/latex/dot.py\", line 40, in stylize_connect\n",
      "    style = 'style=\"{}\",texmode=\"raw\"'.format(map_feyn_to_tikz[lname])\n",
      "                                              ~~~~~~~~~~~~~~~~^^^^^^^\n",
      "KeyError: 'meson'\n",
      "\n",
      "asciipdf:\n",
      "asciipdf failed:\n",
      "Traceback (most recent call last):\n",
      "  File \"/home/apn/git/pyfeyn2/pyfeyn2/render/all.py\", line 109, in render\n",
      "    render(fd).render(dirpath + \"/\" + name + \".pdf\", **dynarg)\n",
      "  File \"/home/apn/git/pyfeyn2/pyfeyn2/render/text/asciipdf.py\", line 25, in render\n",
      "    ASCIIRender.render(\n",
      "  File \"/home/apn/git/pyfeyn2/pyfeyn2/render/text/ascii.py\", line 244, in render\n",
      "    self.draw_connector(pane, p, src, tar, fmt)\n",
      "  File \"/home/apn/git/pyfeyn2/pyfeyn2/render/text/ascii.py\", line 198, in draw_connector\n",
      "    self.namedlines[lname]().draw(pane, src, tar, **fmt, **tmp_fmt)\n",
      "    ~~~~~~~~~~~~~~~^^^^^^^\n",
      "KeyError: 'meson'\n",
      "\n",
      "unicodepdf:\n",
      "unicodepdf failed:\n",
      "Traceback (most recent call last):\n",
      "  File \"/home/apn/git/pyfeyn2/pyfeyn2/render/all.py\", line 109, in render\n",
      "    render(fd).render(dirpath + \"/\" + name + \".pdf\", **dynarg)\n",
      "  File \"/home/apn/git/pyfeyn2/pyfeyn2/render/text/unicodepdf.py\", line 64, in render\n",
      "    UnicodeRender.render(\n",
      "  File \"/home/apn/git/pyfeyn2/pyfeyn2/render/text/ascii.py\", line 244, in render\n",
      "    self.draw_connector(pane, p, src, tar, fmt)\n",
      "  File \"/home/apn/git/pyfeyn2/pyfeyn2/render/text/ascii.py\", line 198, in draw_connector\n",
      "    self.namedlines[lname]().draw(pane, src, tar, **fmt, **tmp_fmt)\n",
      "    ~~~~~~~~~~~~~~~^^^^^^^\n",
      "KeyError: 'meson'\n",
      "\n"
     ]
    },
    {
     "data": {
      "image/png": "[encoded data removed]",
      "text/plain": [
       "<Figure size 500x500 with 1 Axes>"
      ]
     },
     "metadata": {},
     "output_type": "display_data"
    }
   ],
   "source": [
    "from pyfeyn2.render.all import AllRender\n",
    "ar = AllRender().demo_propagator(\"meson\")"
   ]
  },
  {
   "cell_type": "code",
   "execution_count": null,
   "metadata": {},
   "outputs": [],
   "source": []
  }
 ],
 "metadata": {
  "kernelspec": {
   "display_name": "Python 3 (ipykernel)",
   "language": "python",
   "name": "python3"
  },
  "language_info": {
   "codemirror_mode": {
    "name": "ipython",
    "version": 3
   },
   "file_extension": ".py",
   "mimetype": "text/x-python",
   "name": "python",
   "nbconvert_exporter": "python",
   "pygments_lexer": "ipython3",
   "version": "3.11.5"
  },
  "vscode": {
   "interpreter": {
    "hash": "31f2aee4e71d21fbe5cf8b01ff0e069b9275f58929596ceb00d14d90e3e16cd6"
   }
  }
 },
 "nbformat": 4,
 "nbformat_minor": 4
}
