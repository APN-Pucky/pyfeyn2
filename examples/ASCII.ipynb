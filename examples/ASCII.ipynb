{
 "cells": [
  {
   "cell_type": "markdown",
   "id": "8755f09e",
   "metadata": {},
   "source": [
    "# ASCII"
   ]
  },
  {
   "cell_type": "markdown",
   "id": "4c4fe0ff",
   "metadata": {},
   "source": [
    "## Normal"
   ]
  },
  {
   "cell_type": "code",
   "execution_count": 1,
   "id": "00b27fa3",
   "metadata": {},
   "outputs": [],
   "source": [
    "from pyfeyn2.feynmandiagram import FeynmanDiagram, Leg, Propagator, Vertex\n",
    "from pyfeyn2.render.ascii import ASCIIRender\n",
    "from pyfeyn2.render.dot import feynman_adjust_points"
   ]
  },
  {
   "cell_type": "code",
   "execution_count": 2,
   "id": "b2236bc4",
   "metadata": {},
   "outputs": [],
   "source": [
    "fd = FeynmanDiagram()\n",
    "v1 = Vertex(\"v1\")\n",
    "v2 = Vertex(\"v2\")\n",
    "v3 = Vertex(\"v3\")\n",
    "v4 = Vertex(\"v4\")\n",
    "p1 = Propagator(\"p1\").connect(v1, v2).set_type(\"gluon\")\n",
    "p2 = Propagator(\"p2\").connect(v1, v3).set_type(\"gluon\")\n",
    "p3 = Propagator(\"p3\").connect(v3, v2).set_type(\"fermion\")\n",
    "p4 = Propagator(\"p4\").connect(v4, v3).set_type(\"gluon\")\n",
    "p5 = Propagator(\"p5\").connect(v4, v2).set_type(\"gluon\")\n",
    "l1 = Leg(\"l1\").set_target(v1).set_type(\"gluon\").set_incoming().set_xy(-2, 1)\n",
    "l2 = Leg(\"l2\").set_target(v1).set_type(\"gluon\").set_incoming().set_xy(-2, -1)\n",
    "l3 = Leg(\"l3\").set_target(v2).set_type(\"gluon\").set_outgoing().set_xy(2, -2)\n",
    "l4 = Leg(\"l4\").set_target(v3).set_type(\"gluon\").set_outgoing().set_xy(2, 2)\n",
    "l5 = Leg(\"l5\").set_target(v4).set_type(\"gluon\").set_outgoing().set_xy(2, 1)\n",
    "l6 = Leg(\"l6\").set_target(v4).set_type(\"gluon\").set_outgoing().set_xy(2, -1)\n",
    "\n",
    "fd.propagators.extend([p1, p2, p3, p4, p5])\n",
    "fd.vertices.extend([v1, v2, v3, v4])\n",
    "fd.legs.extend([l1, l2, l3, l4, l5, l6])\n",
    "fd= feynman_adjust_points(fd)"
   ]
  },
  {
   "cell_type": "code",
   "execution_count": 3,
   "id": "7ffda508",
   "metadata": {},
   "outputs": [
    {
     "name": "stdout",
     "output_type": "stream",
     "text": [
      "                                                                                \n",
      "                                                                              OO\n",
      "                                                                            OO  \n",
      "                                                                          OO    \n",
      "                                                                       OOO      \n",
      "                                                                     OO         \n",
      "                                                                   OO           \n",
      "                                                                OOO             \n",
      "      OO                                                      OO               O\n",
      "        OOOO                                                OO               OO \n",
      "            OOO                                          OOO               OO   \n",
      "               OOOO                                    OO                 O     \n",
      "                   OOO                               OO                 OO      \n",
      "                      OOOO                       OOOOO                 O        \n",
      "                          OOO              OOOOOO  |  OOOOO          OO         \n",
      "                             OOOO    OOOOOO        |       OOOOO   OO           \n",
      "                                OOOOO              v            OOOO            \n",
      "                            OOOO     OOOO          |         OOOO   OO          \n",
      "                       OOOOO             OOOO      |     OOOO         OO        \n",
      "                  OOOOO                      OOOO  v OOOO               OO      \n",
      "             OOOOO                               OOOO                     OO    \n",
      "         OOOO                                        OOO                    OO  \n",
      "      OOO                                               OOO                   OO\n",
      "                                                           OOO                  \n",
      "                                                              OOOO              \n",
      "                                                                  OOO           \n",
      "                                                                     OOO        \n",
      "                                                                        OOO     \n",
      "                                                                           OOO  \n",
      "                                                                              OO\n"
     ]
    }
   ],
   "source": [
    "tfd = ASCIIRender(fd)\n",
    "s= tfd.render(show=False,height=30,width=80)\n",
    "print(s)"
   ]
  },
  {
   "cell_type": "markdown",
   "id": "05c464b2",
   "metadata": {},
   "source": [
    "## PDF"
   ]
  },
  {
   "cell_type": "code",
   "execution_count": 8,
   "id": "c79ef31d",
   "metadata": {},
   "outputs": [
    {
     "data": {
      "image/png": "[encoded data removed]",
      "text/plain": [
       "<wand.image.Image: 245c37b 'PDF' (332x482)>"
      ]
     },
     "metadata": {},
     "output_type": "display_data"
    }
   ],
   "source": [
    "from pyfeyn2.render.asciipdf import ASCIIPDFRender\n",
    "tfd = ASCIIPDFRender(fd)\n",
    "tfd.render(show=True,height=30,width=40)"
   ]
  },
  {
   "cell_type": "code",
   "execution_count": null,
   "id": "cec929fe",
   "metadata": {},
   "outputs": [],
   "source": []
  }
 ],
 "metadata": {
  "kernelspec": {
   "display_name": "Python 3 (ipykernel)",
   "language": "python",
   "name": "python3"
  },
  "language_info": {
   "codemirror_mode": {
    "name": "ipython",
    "version": 3
   },
   "file_extension": ".py",
   "mimetype": "text/x-python",
   "name": "python",
   "nbconvert_exporter": "python",
   "pygments_lexer": "ipython3",
   "version": "3.9.16"
  },
  "vscode": {
   "interpreter": {
    "hash": "31f2aee4e71d21fbe5cf8b01ff0e069b9275f58929596ceb00d14d90e3e16cd6"
   }
  }
 },
 "nbformat": 4,
 "nbformat_minor": 5
}
