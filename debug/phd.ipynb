{
 "cells": [
  {
   "cell_type": "code",
   "execution_count": 2,
   "id": "2a2f44b7-6d11-4620-bf6e-f8357dd9488b",
   "metadata": {},
   "outputs": [
    {
     "name": "stdout",
     "output_type": "stream",
     "text": [
      "\n",
      "\tPlease cite the following papers if you use this code:\n",
      "\n",
      "      [1] Automatic Feynman graph generation J. Comput. Phys. 105 (1993) 279--289 https://doi.org/10.1006/jcph.1993.1074\n",
      "\n",
      "      [2] Abusing Qgraf Nucl. Instrum. Methods Phys. Res. A 559 (2006) 220--223 https://doi.org/10.1016/j.nima.2005.11.151\n",
      "\n",
      "      [3] Feynman graph generation and propagator mixing, I Comput. Phys. Commun. 269 (2021) 108103 https://doi.org/10.1016/j.cpc.2021.108103\n",
      "\n",
      "\t\n"
     ]
    }
   ],
   "source": [
    "import pyfeyn2\n",
    "from feynml import *\n",
    "# import renders\n",
    "from pyfeyn2.render.latex.tikzfeynman import TikzFeynmanRender\n",
    "from pyfeyn2.render.all import AllRender\n",
    "from pyfeyn2.render.text.ascii import ASCIIRender\n",
    "from pyfeyn2.render.text.unicode import UnicodeRender\n",
    "# auto\n",
    "from pyfeyn2.auto.position import  auto_align_legs, scale_positions\n",
    "from pyfeyn2.auto.position import feynman_adjust_points\n",
    "from pyfeyn2.auto.label import auto_label\n",
    "from pyfeyn2.auto.position import auto_align_legs,auto_grid\n",
    "from pyfeyn2.auto.position import auto_vdw,auto_grid\n",
    "from pyfeyn2.auto.bend import auto_bend\n",
    "# util\n",
    "import numpy as np\n",
    "from xsdata.formats.dataclass.parsers import XmlParser\n",
    "from pyqgraf import qgraf, model\n",
    "from feynml.interface.qgraf import style"
   ]
  },
  {
   "cell_type": "code",
   "execution_count": 3,
   "id": "17561a14-095f-4837-8565-bc65752eaab7",
   "metadata": {},
   "outputs": [
    {
     "data": {
      "image/png": "[encoded data removed]",
      "text/plain": [
       "<wand.image.Image: 4544602 'PDF' (138x103)>"
      ]
     },
     "metadata": {},
     "output_type": "display_data"
    },
    {
     "data": {
      "image/png": "[encoded data removed]",
      "text/plain": [
       "<wand.image.Image: 4544602 'PDF' (138x103)>"
      ]
     },
     "execution_count": 3,
     "metadata": {},
     "output_type": "execute_result"
    }
   ],
   "source": [
    "fd = FeynmanDiagram().add(\n",
    "    # Define the vertices\n",
    "    v1 := Vertex().with_xy(2.5,0),\n",
    "    v2 := Vertex().with_xy(7.5,0),\n",
    "\n",
    "    # Photon to boson loop\n",
    "    Propagator(pdgid=11,label=\"$f$\").connect(v1, v2).with_style_properties(**{\"bend-in\": 90,\"bend-out\": -270,\"bend-loop\":True,\"bend-min-distance\":\"1cm\"}),\n",
    "    Propagator(pdgid=11,label=\"$f$\").connect(v2, v1).with_style_properties(**{\"bend-in\": -90,\"bend-out\": 270,\"bend-loop\":True,\"bend-min-distance\":\"1cm\"}),\n",
    "\n",
    "    # Incoming and outgoing photons\n",
    "    Leg(pdgid=22, sense='incoming').with_target(v1).with_xy(0,0),\n",
    "    Leg(pdgid=22, sense='outgoing').with_target(v2).with_xy(10,0),\n",
    ")\n",
    "\n",
    "# Scale the diagram for better visibility\n",
    "scale_positions(fd, 0.35)\n",
    "\n",
    "# Render the diagram as a TikZ output\n",
    "auto_label([*fd.propagators, *fd.legs])\n",
    "TikzFeynmanRender(fd).render(show=True,file=\"/home/apn/git/phd/thesis/tex/chapters/theory/models/sm/qed/photon_boson_loop\")\n",
    "#fd.render(auto_position=False, auto_bend=False, render=\"tikz\", "
   ]
  },
  {
   "cell_type": "code",
   "execution_count": 36,
   "id": "e7a83f10-8b73-40a1-bece-d8e24ded1787",
   "metadata": {},
   "outputs": [
    {
     "data": {
      "image/png": "[encoded data removed]",
      "text/plain": [
       "<wand.image.Image: 8adbeb5 'PDF' (138x103)>"
      ]
     },
     "metadata": {},
     "output_type": "display_data"
    },
    {
     "data": {
      "image/png": "[encoded data removed]",
      "text/plain": [
       "<wand.image.Image: 8adbeb5 'PDF' (138x103)>"
      ]
     },
     "execution_count": 36,
     "metadata": {},
     "output_type": "execute_result"
    }
   ],
   "source": [
    "fd = FeynmanDiagram().add(\n",
    "    # Define the vertices\n",
    "    v1 := Vertex().with_xy(2.5,0),\n",
    "    v2 := Vertex().with_xy(7.5,0),\n",
    "\n",
    "    # Photon to boson loop\n",
    "    Propagator(pdgid=11,label=\"$f$\").connect(v1, v2).with_style_properties(**{\"bend-in\": 90,\"bend-out\": -270,\"bend-loop\":True,\"bend-min-distance\":\"1cm\"}),\n",
    "    Propagator(pdgid=11,label=\"$f$\").connect(v2, v1).with_style_properties(**{\"bend-in\": -90,\"bend-out\": 270,\"bend-loop\":True,\"bend-min-distance\":\"1cm\"}),\n",
    "\n",
    "    # Incoming and outgoing photons\n",
    "    Leg(pdgid=25, sense='incoming',label=\"$H$\").with_target(v1).with_xy(0,0),\n",
    "    Leg(pdgid=25, sense='outgoing',label=\"$H$\").with_target(v2).with_xy(10,0),\n",
    ")\n",
    "\n",
    "# Scale the diagram for better visibility\n",
    "scale_positions(fd, 0.35)\n",
    "\n",
    "# Render the diagram as a TikZ output\n",
    "auto_label([*fd.propagators, *fd.legs])\n",
    "TikzFeynmanRender(fd).render(show=True,file=\"/home/apn/git/phd/thesis/tex/chapters/resummino/susy/fermionloop\")\n",
    "#fd.render(auto_position=False, auto_bend=False, render=\"tikz\", "
   ]
  },
  {
   "cell_type": "code",
   "execution_count": 40,
   "id": "2447a7d1-c773-4ca4-b431-ae1d725bed38",
   "metadata": {},
   "outputs": [
    {
     "data": {
      "image/png": "[encoded data removed]",
      "text/plain": [
       "<wand.image.Image: 4ec6db6 'PDF' (138x61)>"
      ]
     },
     "metadata": {},
     "output_type": "display_data"
    },
    {
     "data": {
      "image/png": "[encoded data removed]",
      "text/plain": [
       "<wand.image.Image: 4ec6db6 'PDF' (138x61)>"
      ]
     },
     "execution_count": 40,
     "metadata": {},
     "output_type": "execute_result"
    }
   ],
   "source": [
    "fd = FeynmanDiagram().add(\n",
    "    # Define the vertices\n",
    "    v1 := Vertex().with_xy(5,0),\n",
    "\n",
    "    # Photon to boson loop\n",
    "    Propagator(pdgid=25,label=\"$S$\").connect(v1, v1).with_style_properties(**{\"bend-in\": 45,\"bend-out\": 135,\"bend-loop\":True,\"bend-min-distance\":\"2cm\"}),\n",
    "    #Propagator(pdgid=11,label=\"$f$\").connect(v2, v1).with_style_properties(**{\"bend-in\": -90,\"bend-out\": 270,\"bend-loop\":True,\"bend-min-distance\":\"1cm\"}),\n",
    "\n",
    "    # Incoming and outgoing photons\n",
    "    Leg(pdgid=25, sense='incoming',label=\"$H$\").with_target(v1).with_xy(0,0),\n",
    "    Leg(pdgid=25, sense='outgoing',label=\"$H$\").with_target(v1).with_xy(10,0),\n",
    ")\n",
    "\n",
    "# Scale the diagram for better visibility\n",
    "scale_positions(fd, 0.35)\n",
    "\n",
    "# Render the diagram as a TikZ output\n",
    "auto_label([*fd.propagators, *fd.legs])\n",
    "TikzFeynmanRender(fd).render(show=True,file=\"/home/apn/git/phd/thesis/tex/chapters/resummino/susy/scalarloop\")\n",
    "#fd.render(auto_position=False, auto_bend=False, render=\"tikz\", "
   ]
  },
  {
   "cell_type": "code",
   "execution_count": 60,
   "id": "07190a0a-9328-4c1a-a145-3048472a1495",
   "metadata": {},
   "outputs": [
    {
     "name": "stderr",
     "output_type": "stream",
     "text": [
      "<>:15: SyntaxWarning: invalid escape sequence '\\d'\n",
      "<>:18: SyntaxWarning: invalid escape sequence '\\d'\n",
      "<>:21: SyntaxWarning: invalid escape sequence '\\d'\n",
      "<>:15: SyntaxWarning: invalid escape sequence '\\d'\n",
      "<>:18: SyntaxWarning: invalid escape sequence '\\d'\n",
      "<>:21: SyntaxWarning: invalid escape sequence '\\d'\n",
      "/tmp/ipykernel_25397/2725558778.py:15: SyntaxWarning: invalid escape sequence '\\d'\n",
      "  Propagator(source=v4,target=v5).with_momentum(Momentum(\"$pz_1z_2\\dots z_{n-1}$\")).with_style(\"momentum-arrow: true\"),\n",
      "/tmp/ipykernel_25397/2725558778.py:18: SyntaxWarning: invalid escape sequence '\\d'\n",
      "  Leg(pdgid=21,sense='outgoing').with_target(v5).with_xy(v5.x+(v6.x-v5.x)/2,-3).with_momentum(Momentum(\"$pz_1z_2\\dots z_{n-1}(1-z_n)$\")).with_style_properties(**{\"momentum-arrow\": \"true\",\"momentum-arrow-sense\" : \"-1\"}),\n",
      "/tmp/ipykernel_25397/2725558778.py:21: SyntaxWarning: invalid escape sequence '\\d'\n",
      "  Leg(sense='outgoing').with_target(v5).with_xy(6*u,0).with_momentum(Momentum(\"$pz_1z_2\\dots z_{n}$\")).with_style(\"momentum-arrow: true\"),\n",
      "/home/apn/.local/lib/python3.12/site-packages/feynml/pdgid.py:113: UserWarning: Type ghost is not consistent with pdgid 25, which is higgs. Using ghost now.\n",
      "  warnings.warn(\n",
      "/home/apn/.local/lib/python3.12/site-packages/pyfeyn2/render/latex/tikzfeynman.py:81: UserWarning: No type or style set for connector  Propagator634 None None\n",
      "  warnings.warn(\n",
      "/home/apn/.local/lib/python3.12/site-packages/pyfeyn2/render/latex/tikzfeynman.py:81: UserWarning: No type or style set for connector  Propagator637 None None\n",
      "  warnings.warn(\n",
      "/home/apn/.local/lib/python3.12/site-packages/pyfeyn2/render/latex/tikzfeynman.py:81: UserWarning: No type or style set for connector  Propagator642 None None\n",
      "  warnings.warn(\n",
      "/home/apn/.local/lib/python3.12/site-packages/pyfeyn2/render/latex/tikzfeynman.py:81: UserWarning: No type or style set for connector  Leg645 None None\n",
      "  warnings.warn(\n",
      "/home/apn/.local/lib/python3.12/site-packages/pyfeyn2/render/latex/tikzfeynman.py:81: UserWarning: No type or style set for connector  Leg646 None None\n",
      "  warnings.warn(\n"
     ]
    },
    {
     "data": {
      "image/png": "[encoded data removed]",
      "text/plain": [
       "<wand.image.Image: efe7f75 'PDF' (709x149)>"
      ]
     },
     "metadata": {},
     "output_type": "display_data"
    },
    {
     "data": {
      "image/png": "[encoded data removed]",
      "text/plain": [
       "<wand.image.Image: efe7f75 'PDF' (709x149)>"
      ]
     },
     "execution_count": 60,
     "metadata": {},
     "output_type": "execute_result"
    }
   ],
   "source": [
    "u=3\n",
    "fd = FeynmanDiagram().add(\n",
    "    # Define the vertices\n",
    "    # Incoming and outgoing photons\n",
    "    v1 := Vertex().with_xy(u,0),\n",
    "    v2 := Vertex().with_xy(2*u,0),\n",
    "    Propagator(source=v1,target=v2).with_momentum(Momentum(\"$pz_1$\")).with_style(\"momentum-arrow: true\"),\n",
    "    Leg(pdgid=21,sense='outgoing').with_target(v1).with_xy(v1.x+(v2.x-v1.x)/2,-3).with_momentum(Momentum(\"$p(1-z_1)$\")).with_style_properties(**{\"momentum-arrow\": \"true\",\"momentum-arrow-sense\" : \"-1\"}),\n",
    "    v3 := Vertex().with_xy(3*u,0),\n",
    "    Propagator(source=v2,target=v3).with_momentum(Momentum(\"$pz_1z_2$\")).with_style(\"momentum-arrow: true\"),\n",
    "    Leg(pdgid=21,sense='outgoing').with_target(v2).with_xy(v2.x+(v3.x-v2.x)/2,-3).with_momentum(Momentum(\"$pz_1(1-z_2)$\")).with_style_properties(**{\"momentum-arrow\": \"true\",\"momentum-arrow-sense\" : \"-1\"}),\n",
    "    v4 := Vertex().with_xy(4*u,0),\n",
    "    Propagator(pdgid=25,label=\"\",source=v3,target=v4,type=\"ghost\"),\n",
    "    v5 := Vertex().with_xy(5*u,0),\n",
    "    Propagator(source=v4,target=v5).with_momentum(Momentum(\"$pz_1z_2\\dots z_{n-1}$\")).with_style(\"momentum-arrow: true\"),\n",
    "    v6 := Vertex().with_xy(6*u,0),\n",
    "    #Propagator(label=\"\",source=v5,target=v6),\n",
    "    Leg(pdgid=21,sense='outgoing').with_target(v5).with_xy(v5.x+(v6.x-v5.x)/2,-3).with_momentum(Momentum(\"$pz_1z_2\\dots z_{n-1}(1-z_n)$\")).with_style_properties(**{\"momentum-arrow\": \"true\",\"momentum-arrow-sense\" : \"-1\"}),\n",
    "    \n",
    "    Leg(sense='incoming').with_target(v1).with_xy(0,0).with_momentum(Momentum(\"$p$\")).with_style(\"momentum-arrow: true\"),\n",
    "    Leg(sense='outgoing').with_target(v5).with_xy(6*u,0).with_momentum(Momentum(\"$pz_1z_2\\dots z_{n}$\")).with_style(\"momentum-arrow: true\"),\n",
    "    \n",
    "\n",
    ")\n",
    "\n",
    "# Scale the diagram for better visibility\n",
    "scale_positions(fd, 1)\n",
    "\n",
    "# Render the diagram as a TikZ output\n",
    "auto_label([*fd.propagators, *fd.legs])\n",
    "TikzFeynmanRender(fd).render(show=True,file=\"/home/apn/git/phd/thesis/tex/chapters/resummino/resummation/threshold/softgluons\")\n",
    "#fd.render(auto_position=False, auto_bend=False, render=\"tikz\", "
   ]
  },
  {
   "cell_type": "code",
   "execution_count": null,
   "id": "88e75119-720e-401b-844b-84ef1e4df0c0",
   "metadata": {},
   "outputs": [],
   "source": []
  }
 ],
 "metadata": {
  "kernelspec": {
   "display_name": "Python 3 (ipykernel)",
   "language": "python",
   "name": "python3"
  },
  "language_info": {
   "codemirror_mode": {
    "name": "ipython",
    "version": 3
   },
   "file_extension": ".py",
   "mimetype": "text/x-python",
   "name": "python",
   "nbconvert_exporter": "python",
   "pygments_lexer": "ipython3",
   "version": "3.12.3"
  }
 },
 "nbformat": 4,
 "nbformat_minor": 5
}
