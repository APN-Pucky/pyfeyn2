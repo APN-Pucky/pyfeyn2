{
 "cells": [
  {
   "cell_type": "code",
   "execution_count": 1,
   "id": "cf0ac142",
   "metadata": {},
   "outputs": [],
   "source": [
    "import cssutils"
   ]
  },
  {
   "cell_type": "code",
   "execution_count": 2,
   "id": "b4f79c15",
   "metadata": {},
   "outputs": [
    {
     "name": "stderr",
     "output_type": "stream",
     "text": [
      "WARNING\tProperty: Unknown Property name. [8:13: test]\n",
      "WARNING\tProperty: Unknown Property name. [9:13: a]\n"
     ]
    }
   ],
   "source": [
    "css = u'''\n",
    "     #hi {color:green}\n",
    "     leg.class {}\n",
    "     leg { color:red }\n",
    "     vertex { color:green }\n",
    "     propagator { color:blue }\n",
    "     leg {color:black;color:red }\n",
    "     .a,.b {test:test}\n",
    "     [a=b] {a:A}\n",
    "     '''\n",
    "sheet = cssutils.parseString(css)"
   ]
  },
  {
   "cell_type": "code",
   "execution_count": 3,
   "id": "c4d5435a",
   "metadata": {},
   "outputs": [
    {
     "name": "stdout",
     "output_type": "stream",
     "text": [
      "list <cssutils.css.SelectorList object selectorText='#hi' _namespaces={} at 0x7f43ec091810>\n",
      "#hi\n",
      "color green\n",
      "list <cssutils.css.SelectorList object selectorText='leg.class' _namespaces={} at 0x7f43ec1620d0>\n",
      "leg.class\n",
      "list <cssutils.css.SelectorList object selectorText='leg' _namespaces={} at 0x7f43ec15f690>\n",
      "leg\n",
      "color red\n",
      "list <cssutils.css.SelectorList object selectorText='vertex' _namespaces={} at 0x7f43ec073ad0>\n",
      "vertex\n",
      "color green\n",
      "list <cssutils.css.SelectorList object selectorText='propagator' _namespaces={} at 0x7f43ec073a90>\n",
      "propagator\n",
      "color blue\n",
      "list <cssutils.css.SelectorList object selectorText='leg' _namespaces={} at 0x7f43ec0a1750>\n",
      "leg\n",
      "color red\n",
      "list <cssutils.css.SelectorList object selectorText='.a, .b' _namespaces={} at 0x7f43ec0a00d0>\n",
      ".a, .b\n",
      "test test\n",
      "list <cssutils.css.SelectorList object selectorText='[a=b]' _namespaces={} at 0x7f43ec0a57d0>\n",
      "[a=b]\n",
      "a A\n"
     ]
    }
   ],
   "source": [
    "for rule in sheet:\n",
    "    if rule.type == rule.STYLE_RULE:\n",
    "        print(\"list\", rule.selectorList)\n",
    "        print(rule.selectorText)\n",
    "        for s in rule.style:\n",
    "            print(s.name,s.value)"
   ]
  },
  {
   "cell_type": "code",
   "execution_count": 4,
   "id": "6dcc04fd",
   "metadata": {},
   "outputs": [
    {
     "data": {
      "text/plain": [
       "cssutils.css.cssstyledeclaration.CSSStyleDeclaration"
      ]
     },
     "execution_count": 4,
     "metadata": {},
     "output_type": "execute_result"
    }
   ],
   "source": [
    "type(rule.style)"
   ]
  },
  {
   "cell_type": "code",
   "execution_count": 5,
   "id": "6b44b845",
   "metadata": {},
   "outputs": [
    {
     "name": "stdout",
     "output_type": "stream",
     "text": [
      "<cssutils.css.CSSStyleRule object selectorText='#hi' style='color: green' _namespaces={} at 0x7f43ee333110>\n",
      "<cssutils.css.CSSStyleRule object selectorText='leg.class' style='' _namespaces={} at 0x7f43ee330550>\n",
      "<cssutils.css.CSSStyleRule object selectorText='leg' style='color: red' _namespaces={} at 0x7f43ee2c2590>\n",
      "<cssutils.css.CSSStyleRule object selectorText='vertex' style='color: green' _namespaces={} at 0x7f43ec162fd0>\n",
      "<cssutils.css.CSSStyleRule object selectorText='propagator' style='color: blue' _namespaces={} at 0x7f43ee33e350>\n",
      "<cssutils.css.CSSStyleRule object selectorText='leg' style='color: black;\\ncolor: red' _namespaces={} at 0x7f43ec15ec10>\n",
      "<cssutils.css.CSSStyleRule object selectorText='.a, .b' style='test: test' _namespaces={} at 0x7f43ee3418d0>\n",
      "<cssutils.css.CSSStyleRule object selectorText='[a=b]' style='a: A' _namespaces={} at 0x7f43ec073610>\n"
     ]
    }
   ],
   "source": [
    "for rule in sheet:\n",
    "    print(rule)"
   ]
  },
  {
   "cell_type": "code",
   "execution_count": 6,
   "id": "315fc816",
   "metadata": {},
   "outputs": [
    {
     "name": "stdout",
     "output_type": "stream",
     "text": [
      "<cssutils.css.CSSStyleRule object selectorText='#hi' style='color: green' _namespaces={} at 0x7f43ee333110>\n",
      "<cssutils.css.CSSStyleRule object selectorText='leg.class' style='' _namespaces={} at 0x7f43ee330550>\n",
      "<cssutils.css.CSSStyleRule object selectorText='leg' style='color: red' _namespaces={} at 0x7f43ee2c2590>\n",
      "<cssutils.css.CSSStyleRule object selectorText='vertex' style='color: green' _namespaces={} at 0x7f43ec162fd0>\n",
      "<cssutils.css.CSSStyleRule object selectorText='propagator' style='color: blue' _namespaces={} at 0x7f43ee33e350>\n",
      "<cssutils.css.CSSStyleRule object selectorText='leg' style='color: black;\\ncolor: red' _namespaces={} at 0x7f43ec15ec10>\n",
      "<cssutils.css.CSSStyleRule object selectorText='.a, .b' style='test: test' _namespaces={} at 0x7f43ee3418d0>\n",
      "<cssutils.css.CSSStyleRule object selectorText='[a=b]' style='a: A' _namespaces={} at 0x7f43ec073610>\n"
     ]
    }
   ],
   "source": [
    "for i in sheet.cssRules.rulesOfType(rule.STYLE_RULE):\n",
    "    print(i)"
   ]
  },
  {
   "cell_type": "code",
   "execution_count": 7,
   "id": "1b152184",
   "metadata": {},
   "outputs": [
    {
     "data": {
      "text/plain": [
       "b'#hi {\\n    color: green\\n    }\\nleg {\\n    color: red\\n    }\\nvertex {\\n    color: green\\n    }\\npropagator {\\n    color: blue\\n    }\\nleg {\\n    color: black;\\n    color: red\\n    }\\n.a, .b {\\n    test: test\\n    }\\n[a=b] {\\n    a: A\\n    }'"
      ]
     },
     "execution_count": 7,
     "metadata": {},
     "output_type": "execute_result"
    }
   ],
   "source": [
    "sheet.cssText"
   ]
  },
  {
   "cell_type": "code",
   "execution_count": 8,
   "id": "b5c619e2",
   "metadata": {},
   "outputs": [],
   "source": [
    "dic = {'heloo':\"hi\"}"
   ]
  },
  {
   "cell_type": "code",
   "execution_count": 9,
   "id": "deb1007f",
   "metadata": {},
   "outputs": [
    {
     "name": "stdout",
     "output_type": "stream",
     "text": [
      "descendant-or-self::*[@id = 'inner']\n"
     ]
    }
   ],
   "source": [
    "from cssselect import GenericTranslator, SelectorError\n",
    "try:\n",
    "     expression = GenericTranslator().css_to_xpath('[id=inner]')\n",
    "except SelectorError:\n",
    "     print('Invalid selector.')\n",
    "\n",
    "print(expression)"
   ]
  },
  {
   "cell_type": "code",
   "execution_count": 10,
   "id": "071bc50f",
   "metadata": {},
   "outputs": [
    {
     "data": {
      "text/plain": [
       "[<Element div at 0x7f43ec122e40>]"
      ]
     },
     "execution_count": 10,
     "metadata": {},
     "output_type": "execute_result"
    }
   ],
   "source": [
    "from lxml.etree import fromstring\n",
    "document = fromstring('''\n",
    "   <div id=\"outer\">\n",
    "     <div id=\"inner\" pdgid=\"5\" class=\"content body\">text</div>\n",
    "   </div>\n",
    "''')\n",
    "[e for e in document.xpath(expression)]"
   ]
  },
  {
   "cell_type": "code",
   "execution_count": 11,
   "id": "4c05266b",
   "metadata": {},
   "outputs": [
    {
     "data": {
      "text/plain": [
       "['#', '*', '.', ':', '[']"
      ]
     },
     "execution_count": 11,
     "metadata": {},
     "output_type": "execute_result"
    }
   ],
   "source": [
    "sorted(['[',':','#','.','*'])"
   ]
  },
  {
   "cell_type": "code",
   "execution_count": 12,
   "id": "6add5eaa",
   "metadata": {},
   "outputs": [],
   "source": [
    "from feynml.feynmandiagram import FeynmanDiagram\n",
    "from feynml.leg import Leg\n",
    "from feynml.propagator import Propagator\n",
    "from feynml.vertex import Vertex"
   ]
  },
  {
   "cell_type": "code",
   "execution_count": 13,
   "id": "55607279",
   "metadata": {},
   "outputs": [],
   "source": [
    "def get_test_fd():\n",
    "    v1 = Vertex(\"v1\").with_xy(-1, 0).with_shape(\"blob\")\n",
    "    v2 = Vertex(\"v2\").with_xy(1, 0).with_style(\"symbol : dot\")\n",
    "    fd = FeynmanDiagram().add(\n",
    "    v1,v2,\n",
    "    Propagator(name=\"g\").connect(v1, v2),\n",
    "    Leg(name=\"g\").with_target(v1).with_xy(-2, 1).with_incoming(),\n",
    "    Leg(name=\"g\").with_target(v1).with_xy(-2, -1).with_incoming().with_class(\"notred\"),\n",
    "    Leg(name=\"g\").with_target(v2).with_xy(2, 1).with_outgoing().with_class(\"red\"),\n",
    "    Leg(\"myid1\",name=\"g\").with_target(v2).with_xy(2, -1).with_outgoing().with_style_property(\"bend-direction\",\"right\")\n",
    "    )\n",
    "    return fd"
   ]
  },
  {
   "cell_type": "code",
   "execution_count": 33,
   "id": "656adaf9",
   "metadata": {},
   "outputs": [
    {
     "data": {
      "text/plain": [
       "FeynmanDiagram(id='FeynmanDiagram42', style=cssutils.css.CSSStyleDeclaration(cssText='layout: neato'), clazz=None, propagators=[Propagator(id='Propagator43', pdgid=21, name='g', type='gluon', particle=<Particle: name=\"g\", pdgid=21, mass=0.0 MeV>, style=cssutils.css.CSSStyleDeclaration(cssText=''), clazz=None, label=None, momentum=None, source='v1', target='v2')], vertices=[Vertex(id='v1', style=cssutils.css.CSSStyleDeclaration(cssText=''), clazz=None, x=-1.0, y=0.0, z=None, label=None, shape='blob'), Vertex(id='v2', style=cssutils.css.CSSStyleDeclaration(cssText='symbol: dot'), clazz=None, x=1.0, y=0.0, z=None, label=None, shape=None)], legs=[Leg(id='Leg44', pdgid=21, name='g', type='gluon', particle=<Particle: name=\"g\", pdgid=21, mass=0.0 MeV>, style=cssutils.css.CSSStyleDeclaration(cssText=''), clazz=None, label=None, momentum=None, target='v1', x=-2.0, y=1.0, z=None, sense='incoming', external=None), Leg(id='Leg45', pdgid=21, name='g', type='gluon', particle=<Particle: name=\"g\", pdgid=21, mass=0.0 MeV>, style=cssutils.css.CSSStyleDeclaration(cssText=''), clazz='notred', label=None, momentum=None, target='v1', x=-2.0, y=-1.0, z=None, sense='incoming', external=None), Leg(id='Leg46', pdgid=21, name='g', type='gluon', particle=<Particle: name=\"g\", pdgid=21, mass=0.0 MeV>, style=cssutils.css.CSSStyleDeclaration(cssText=''), clazz='red', label=None, momentum=None, target='v2', x=2.0, y=1.0, z=None, sense='outgoing', external=None), Leg(id='myid1', pdgid=21, name='g', type='gluon', particle=<Particle: name=\"g\", pdgid=21, mass=0.0 MeV>, style=cssutils.css.CSSStyleDeclaration(cssText='bend-direction: right'), clazz='notred', label=None, momentum=None, target='v2', x=2.0, y=-1.0, z=None, sense='outgoing', external=None)], sheet=cssutils.css.CSSStyleSheet(href=None, media=None, title=None))"
      ]
     },
     "execution_count": 33,
     "metadata": {},
     "output_type": "execute_result"
    }
   ],
   "source": [
    "fd = get_test_fd().with_style_property(\"layout\",\"neato\")\n",
    "l = fd.get_leg(\"myid1\").with_class(\"notred\")\n",
    "fd.add_rules(\"\"\"diagram { layout : dot} \n",
    "leg { color: blue }\"\"\")"
   ]
  },
  {
   "cell_type": "code",
   "execution_count": 34,
   "id": "999a0c50",
   "metadata": {},
   "outputs": [
    {
     "name": "stdout",
     "output_type": "stream",
     "text": [
      "<?xml version=\"1.0\" encoding=\"UTF-8\"?>\n",
      "<diagram id=\"FeynmanDiagram42\" style=\"layout: neato\" sheet=\"diagram {&#10;    layout: dot&#10;    }&#10;leg {&#10;    color: blue&#10;    }\">\n",
      "  <propagator id=\"Propagator43\" pdgid=\"21\" type=\"gluon\" style=\"\">\n",
      "    <name>g</name>\n",
      "    <source>v1</source>\n",
      "    <target>v2</target>\n",
      "  </propagator>\n",
      "  <vertex id=\"v1\" style=\"\" x=\"-1.0\" y=\"0.0\" shape=\"blob\"/>\n",
      "  <vertex id=\"v2\" style=\"symbol: dot\" x=\"1.0\" y=\"0.0\"/>\n",
      "  <leg id=\"Leg44\" pdgid=\"21\" type=\"gluon\" style=\"\" x=\"-2.0\" y=\"1.0\">\n",
      "    <name>g</name>\n",
      "    <target>v1</target>\n",
      "    <sense>incoming</sense>\n",
      "  </leg>\n",
      "  <leg id=\"Leg45\" pdgid=\"21\" type=\"gluon\" style=\"\" class=\"notred\" x=\"-2.0\" y=\"-1.0\">\n",
      "    <name>g</name>\n",
      "    <target>v1</target>\n",
      "    <sense>incoming</sense>\n",
      "  </leg>\n",
      "  <leg id=\"Leg46\" pdgid=\"21\" type=\"gluon\" style=\"\" class=\"red\" x=\"2.0\" y=\"1.0\">\n",
      "    <name>g</name>\n",
      "    <target>v2</target>\n",
      "    <sense>outgoing</sense>\n",
      "  </leg>\n",
      "  <leg id=\"myid1\" pdgid=\"21\" type=\"gluon\" style=\"bend-direction: right\" class=\"notred\" x=\"2.0\" y=\"-1.0\">\n",
      "    <name>g</name>\n",
      "    <target>v2</target>\n",
      "    <sense>outgoing</sense>\n",
      "  </leg>\n",
      "</diagram>\n",
      "\n"
     ]
    }
   ],
   "source": [
    "print(fd.to_xml())"
   ]
  },
  {
   "cell_type": "code",
   "execution_count": 35,
   "id": "d581e576",
   "metadata": {},
   "outputs": [
    {
     "data": {
      "text/plain": [
       "cssutils.css.CSSStyleDeclaration(cssText='direction: right; layout: neato; layout: dot; layout: neato')"
      ]
     },
     "execution_count": 35,
     "metadata": {},
     "output_type": "execute_result"
    }
   ],
   "source": [
    "fd.get_style(fd)"
   ]
  },
  {
   "cell_type": "code",
   "execution_count": 24,
   "id": "7c88b776",
   "metadata": {},
   "outputs": [
    {
     "data": {
      "text/plain": [
       "'dot'"
      ]
     },
     "execution_count": 24,
     "metadata": {},
     "output_type": "execute_result"
    }
   ],
   "source": [
    "fd.get_style_property(fd,\"layout\")"
   ]
  },
  {
   "cell_type": "code",
   "execution_count": null,
   "id": "b72f6f22",
   "metadata": {},
   "outputs": [],
   "source": []
  }
 ],
 "metadata": {
  "kernelspec": {
   "display_name": "Python 3 (ipykernel)",
   "language": "python",
   "name": "python3"
  },
  "language_info": {
   "codemirror_mode": {
    "name": "ipython",
    "version": 3
   },
   "file_extension": ".py",
   "mimetype": "text/x-python",
   "name": "python",
   "nbconvert_exporter": "python",
   "pygments_lexer": "ipython3",
   "version": "3.13.2"
  }
 },
 "nbformat": 4,
 "nbformat_minor": 5
}
