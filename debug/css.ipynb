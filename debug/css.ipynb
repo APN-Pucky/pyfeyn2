{
 "cells": [
  {
   "cell_type": "code",
   "execution_count": 1,
   "id": "cf0ac142",
   "metadata": {},
   "outputs": [],
   "source": [
    "import cssutils"
   ]
  },
  {
   "cell_type": "code",
   "execution_count": 55,
   "id": "b4f79c15",
   "metadata": {},
   "outputs": [],
   "source": [
    "css = u'''\n",
    "     #hi {color:green}\n",
    "     leg.class {}\n",
    "     leg { color:red }\n",
    "     vertex { color:green }\n",
    "     propagator { color:blue }\n",
    "     leg {color:black;color:red }\n",
    "     '''\n",
    "sheet = cssutils.parseString(css)"
   ]
  },
  {
   "cell_type": "code",
   "execution_count": 56,
   "id": "c4d5435a",
   "metadata": {},
   "outputs": [
    {
     "name": "stdout",
     "output_type": "stream",
     "text": [
      "#hi\n",
      "color green\n",
      "leg.class\n",
      "leg\n",
      "color red\n",
      "vertex\n",
      "color green\n",
      "propagator\n",
      "color blue\n",
      "leg\n",
      "color red\n"
     ]
    }
   ],
   "source": [
    "for rule in sheet:\n",
    "    if rule.type == rule.STYLE_RULE:\n",
    "        print(rule.selectorText)\n",
    "        for s in rule.style:\n",
    "            print(s.name,s.value)"
   ]
  },
  {
   "cell_type": "code",
   "execution_count": 42,
   "id": "6dcc04fd",
   "metadata": {},
   "outputs": [
    {
     "data": {
      "text/plain": [
       "cssutils.css.cssstyledeclaration.CSSStyleDeclaration"
      ]
     },
     "execution_count": 42,
     "metadata": {},
     "output_type": "execute_result"
    }
   ],
   "source": [
    "type(rule.style)"
   ]
  },
  {
   "cell_type": "code",
   "execution_count": 25,
   "id": "6b44b845",
   "metadata": {},
   "outputs": [
    {
     "name": "stdout",
     "output_type": "stream",
     "text": [
      "<cssutils.css.CSSStyleRule object selectorText='leg' style='color: red' _namespaces={} at 0x7f9a9851b130>\n",
      "<cssutils.css.CSSStyleRule object selectorText='vertex' style='color: green' _namespaces={} at 0x7f9a9851b3a0>\n",
      "<cssutils.css.CSSStyleRule object selectorText='propagator' style='color: blue' _namespaces={} at 0x7f9a82e03ee0>\n",
      "<cssutils.css.CSSStyleRule object selectorText='leg' style='color: black' _namespaces={} at 0x7f9a9851b460>\n"
     ]
    }
   ],
   "source": [
    "for rule in sheet:\n",
    "    print(rule)"
   ]
  },
  {
   "cell_type": "code",
   "execution_count": 26,
   "id": "315fc816",
   "metadata": {},
   "outputs": [
    {
     "name": "stdout",
     "output_type": "stream",
     "text": [
      "<cssutils.css.CSSStyleRule object selectorText='leg' style='color: red' _namespaces={} at 0x7f9a9851b130>\n",
      "<cssutils.css.CSSStyleRule object selectorText='vertex' style='color: green' _namespaces={} at 0x7f9a9851b3a0>\n",
      "<cssutils.css.CSSStyleRule object selectorText='propagator' style='color: blue' _namespaces={} at 0x7f9a82e03ee0>\n",
      "<cssutils.css.CSSStyleRule object selectorText='leg' style='color: black' _namespaces={} at 0x7f9a9851b460>\n"
     ]
    }
   ],
   "source": [
    "for i in sheet.cssRules.rulesOfType(rule.STYLE_RULE):\n",
    "    print(i)"
   ]
  },
  {
   "cell_type": "code",
   "execution_count": 28,
   "id": "1b152184",
   "metadata": {},
   "outputs": [
    {
     "data": {
      "text/plain": [
       "b'leg {\\n    color: red\\n    }\\nvertex {\\n    color: green\\n    }\\npropagator {\\n    color: blue\\n    }\\nleg {\\n    color: black\\n    }'"
      ]
     },
     "execution_count": 28,
     "metadata": {},
     "output_type": "execute_result"
    }
   ],
   "source": [
    "sheet.cssText"
   ]
  },
  {
   "cell_type": "code",
   "execution_count": 29,
   "id": "b5c619e2",
   "metadata": {},
   "outputs": [
    {
     "ename": "AttributeError",
     "evalue": "'dict' object has no attribute 'heloo'",
     "output_type": "error",
     "traceback": [
      "\u001b[0;31m---------------------------------------------------------------------------\u001b[0m",
      "\u001b[0;31mAttributeError\u001b[0m                            Traceback (most recent call last)",
      "Cell \u001b[0;32mIn[29], line 2\u001b[0m\n\u001b[1;32m      1\u001b[0m dic \u001b[38;5;241m=\u001b[39m {\u001b[38;5;124m'\u001b[39m\u001b[38;5;124mheloo\u001b[39m\u001b[38;5;124m'\u001b[39m:\u001b[38;5;124m\"\u001b[39m\u001b[38;5;124mhi\u001b[39m\u001b[38;5;124m\"\u001b[39m}\n\u001b[0;32m----> 2\u001b[0m \u001b[43mdic\u001b[49m\u001b[38;5;241;43m.\u001b[39;49m\u001b[43mheloo\u001b[49m\n",
      "\u001b[0;31mAttributeError\u001b[0m: 'dict' object has no attribute 'heloo'"
     ]
    }
   ],
   "source": [
    "dic = {'heloo':\"hi\"}\n",
    "dic.heloo"
   ]
  },
  {
   "cell_type": "code",
   "execution_count": null,
   "id": "deb1007f",
   "metadata": {},
   "outputs": [],
   "source": []
  }
 ],
 "metadata": {
  "kernelspec": {
   "display_name": "Python 3 (ipykernel)",
   "language": "python",
   "name": "python3"
  },
  "language_info": {
   "codemirror_mode": {
    "name": "ipython",
    "version": 3
   },
   "file_extension": ".py",
   "mimetype": "text/x-python",
   "name": "python",
   "nbconvert_exporter": "python",
   "pygments_lexer": "ipython3",
   "version": "3.9.16"
  }
 },
 "nbformat": 4,
 "nbformat_minor": 5
}
