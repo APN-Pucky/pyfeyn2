{
 "cells": [
  {
   "cell_type": "code",
   "execution_count": 1,
   "id": "cf0ac142",
   "metadata": {},
   "outputs": [],
   "source": [
    "import cssutils"
   ]
  },
  {
   "cell_type": "code",
   "execution_count": 2,
   "id": "b4f79c15",
   "metadata": {},
   "outputs": [
    {
     "name": "stderr",
     "output_type": "stream",
     "text": [
      "WARNING\tProperty: Unknown Property name. [8:13: test]\n",
      "WARNING\tProperty: Unknown Property name. [9:13: a]\n"
     ]
    }
   ],
   "source": [
    "css = u'''\n",
    "     #hi {color:green}\n",
    "     leg.class {}\n",
    "     leg { color:red }\n",
    "     vertex { color:green }\n",
    "     propagator { color:blue }\n",
    "     leg {color:black;color:red }\n",
    "     .a,.b {test:test}\n",
    "     [a=b] {a:A}\n",
    "     '''\n",
    "sheet = cssutils.parseString(css)"
   ]
  },
  {
   "cell_type": "code",
   "execution_count": 3,
   "id": "c4d5435a",
   "metadata": {},
   "outputs": [
    {
     "name": "stdout",
     "output_type": "stream",
     "text": [
      "list <cssutils.css.SelectorList object selectorText='#hi' _namespaces={} at 0x7f8ba42eb460>\n",
      "#hi\n",
      "color green\n",
      "list <cssutils.css.SelectorList object selectorText='leg.class' _namespaces={} at 0x7f8ba42f6220>\n",
      "leg.class\n",
      "list <cssutils.css.SelectorList object selectorText='leg' _namespaces={} at 0x7f8ba42f6b20>\n",
      "leg\n",
      "color red\n",
      "list <cssutils.css.SelectorList object selectorText='vertex' _namespaces={} at 0x7f8ba42f6af0>\n",
      "vertex\n",
      "color green\n",
      "list <cssutils.css.SelectorList object selectorText='propagator' _namespaces={} at 0x7f8ba42f6a30>\n",
      "propagator\n",
      "color blue\n",
      "list <cssutils.css.SelectorList object selectorText='leg' _namespaces={} at 0x7f8ba42f60a0>\n",
      "leg\n",
      "color red\n",
      "list <cssutils.css.SelectorList object selectorText='.a, .b' _namespaces={} at 0x7f8ba42eb6d0>\n",
      ".a, .b\n",
      "test test\n",
      "list <cssutils.css.SelectorList object selectorText='[a=b]' _namespaces={} at 0x7f8ba44594c0>\n",
      "[a=b]\n",
      "a A\n"
     ]
    }
   ],
   "source": [
    "for rule in sheet:\n",
    "    if rule.type == rule.STYLE_RULE:\n",
    "        print(\"list\", rule.selectorList)\n",
    "        print(rule.selectorText)\n",
    "        for s in rule.style:\n",
    "            print(s.name,s.value)"
   ]
  },
  {
   "cell_type": "code",
   "execution_count": 4,
   "id": "6dcc04fd",
   "metadata": {},
   "outputs": [
    {
     "data": {
      "text/plain": [
       "cssutils.css.cssstyledeclaration.CSSStyleDeclaration"
      ]
     },
     "execution_count": 4,
     "metadata": {},
     "output_type": "execute_result"
    }
   ],
   "source": [
    "type(rule.style)"
   ]
  },
  {
   "cell_type": "code",
   "execution_count": 5,
   "id": "6b44b845",
   "metadata": {},
   "outputs": [
    {
     "name": "stdout",
     "output_type": "stream",
     "text": [
      "<cssutils.css.CSSStyleRule object selectorText='#hi' style='color: green' _namespaces={} at 0x7f8ba4350eb0>\n",
      "<cssutils.css.CSSStyleRule object selectorText='leg.class' style='' _namespaces={} at 0x7f8ba42f6190>\n",
      "<cssutils.css.CSSStyleRule object selectorText='leg' style='color: red' _namespaces={} at 0x7f8ba42f6130>\n",
      "<cssutils.css.CSSStyleRule object selectorText='vertex' style='color: green' _namespaces={} at 0x7f8ba4459c10>\n",
      "<cssutils.css.CSSStyleRule object selectorText='propagator' style='color: blue' _namespaces={} at 0x7f8ba44594f0>\n",
      "<cssutils.css.CSSStyleRule object selectorText='leg' style='color: black;\\ncolor: red' _namespaces={} at 0x7f8ba42f6070>\n",
      "<cssutils.css.CSSStyleRule object selectorText='.a, .b' style='test: test' _namespaces={} at 0x7f8ba42f6fa0>\n",
      "<cssutils.css.CSSStyleRule object selectorText='[a=b]' style='a: A' _namespaces={} at 0x7f8ba4350ee0>\n"
     ]
    }
   ],
   "source": [
    "for rule in sheet:\n",
    "    print(rule)"
   ]
  },
  {
   "cell_type": "code",
   "execution_count": 6,
   "id": "315fc816",
   "metadata": {},
   "outputs": [
    {
     "name": "stdout",
     "output_type": "stream",
     "text": [
      "<cssutils.css.CSSStyleRule object selectorText='#hi' style='color: green' _namespaces={} at 0x7f8ba4350eb0>\n",
      "<cssutils.css.CSSStyleRule object selectorText='leg.class' style='' _namespaces={} at 0x7f8ba42f6190>\n",
      "<cssutils.css.CSSStyleRule object selectorText='leg' style='color: red' _namespaces={} at 0x7f8ba42f6130>\n",
      "<cssutils.css.CSSStyleRule object selectorText='vertex' style='color: green' _namespaces={} at 0x7f8ba4459c10>\n",
      "<cssutils.css.CSSStyleRule object selectorText='propagator' style='color: blue' _namespaces={} at 0x7f8ba44594f0>\n",
      "<cssutils.css.CSSStyleRule object selectorText='leg' style='color: black;\\ncolor: red' _namespaces={} at 0x7f8ba42f6070>\n",
      "<cssutils.css.CSSStyleRule object selectorText='.a, .b' style='test: test' _namespaces={} at 0x7f8ba42f6fa0>\n",
      "<cssutils.css.CSSStyleRule object selectorText='[a=b]' style='a: A' _namespaces={} at 0x7f8ba4350ee0>\n"
     ]
    }
   ],
   "source": [
    "for i in sheet.cssRules.rulesOfType(rule.STYLE_RULE):\n",
    "    print(i)"
   ]
  },
  {
   "cell_type": "code",
   "execution_count": 7,
   "id": "1b152184",
   "metadata": {},
   "outputs": [
    {
     "data": {
      "text/plain": [
       "b'#hi {\\n    color: green\\n    }\\nleg {\\n    color: red\\n    }\\nvertex {\\n    color: green\\n    }\\npropagator {\\n    color: blue\\n    }\\nleg {\\n    color: black;\\n    color: red\\n    }\\n.a, .b {\\n    test: test\\n    }\\n[a=b] {\\n    a: A\\n    }'"
      ]
     },
     "execution_count": 7,
     "metadata": {},
     "output_type": "execute_result"
    }
   ],
   "source": [
    "sheet.cssText"
   ]
  },
  {
   "cell_type": "code",
   "execution_count": 8,
   "id": "b5c619e2",
   "metadata": {},
   "outputs": [
    {
     "ename": "AttributeError",
     "evalue": "'dict' object has no attribute 'heloo'",
     "output_type": "error",
     "traceback": [
      "\u001b[0;31m---------------------------------------------------------------------------\u001b[0m",
      "\u001b[0;31mAttributeError\u001b[0m                            Traceback (most recent call last)",
      "Cell \u001b[0;32mIn[8], line 2\u001b[0m\n\u001b[1;32m      1\u001b[0m dic \u001b[38;5;241m=\u001b[39m {\u001b[38;5;124m'\u001b[39m\u001b[38;5;124mheloo\u001b[39m\u001b[38;5;124m'\u001b[39m:\u001b[38;5;124m\"\u001b[39m\u001b[38;5;124mhi\u001b[39m\u001b[38;5;124m\"\u001b[39m}\n\u001b[0;32m----> 2\u001b[0m \u001b[43mdic\u001b[49m\u001b[38;5;241;43m.\u001b[39;49m\u001b[43mheloo\u001b[49m\n",
      "\u001b[0;31mAttributeError\u001b[0m: 'dict' object has no attribute 'heloo'"
     ]
    }
   ],
   "source": [
    "dic = {'heloo':\"hi\"}\n",
    "dic.heloo"
   ]
  },
  {
   "cell_type": "code",
   "execution_count": 47,
   "id": "deb1007f",
   "metadata": {},
   "outputs": [
    {
     "name": "stdout",
     "output_type": "stream",
     "text": [
      "descendant-or-self::*[@id = 'inner']\n"
     ]
    }
   ],
   "source": [
    "from cssselect import GenericTranslator, SelectorError\n",
    "try:\n",
    "     expression = GenericTranslator().css_to_xpath('[id=inner]')\n",
    "except SelectorError:\n",
    "     print('Invalid selector.')\n",
    "\n",
    "print(expression)"
   ]
  },
  {
   "cell_type": "code",
   "execution_count": 45,
   "id": "071bc50f",
   "metadata": {},
   "outputs": [
    {
     "data": {
      "text/plain": [
       "[<Element div at 0x7f8b8e6e61c0>]"
      ]
     },
     "execution_count": 45,
     "metadata": {},
     "output_type": "execute_result"
    }
   ],
   "source": [
    "from lxml.etree import fromstring\n",
    "document = fromstring('''\n",
    "   <div id=\"outer\">\n",
    "     <div id=\"inner\" pdgid=\"5\" class=\"content body\">text</div>\n",
    "   </div>\n",
    "''')\n",
    "[e for e in document.xpath(expression)]"
   ]
  },
  {
   "cell_type": "code",
   "execution_count": 43,
   "id": "4c05266b",
   "metadata": {},
   "outputs": [
    {
     "data": {
      "text/plain": [
       "['#', '*', '.', ':', '[']"
      ]
     },
     "execution_count": 43,
     "metadata": {},
     "output_type": "execute_result"
    }
   ],
   "source": [
    "sorted(['[',':','#','.','*'])"
   ]
  },
  {
   "cell_type": "code",
   "execution_count": null,
   "id": "6add5eaa",
   "metadata": {},
   "outputs": [],
   "source": []
  }
 ],
 "metadata": {
  "kernelspec": {
   "display_name": "Python 3 (ipykernel)",
   "language": "python",
   "name": "python3"
  },
  "language_info": {
   "codemirror_mode": {
    "name": "ipython",
    "version": 3
   },
   "file_extension": ".py",
   "mimetype": "text/x-python",
   "name": "python",
   "nbconvert_exporter": "python",
   "pygments_lexer": "ipython3",
   "version": "3.9.16"
  }
 },
 "nbformat": 4,
 "nbformat_minor": 5
}
