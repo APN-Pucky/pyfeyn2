{
 "cells": [
  {
   "cell_type": "code",
   "execution_count": 1,
   "id": "754bba1e-a693-49ba-84e2-36b0b42b8285",
   "metadata": {},
   "outputs": [
    {
     "name": "stdout",
     "output_type": "stream",
     "text": [
      "\n",
      "\tPlease cite the following papers if you use this code:\n",
      "\n",
      "      [1] Automatic Feynman graph generation J. Comput. Phys. 105 (1993) 279--289 https://doi.org/10.1006/jcph.1993.1074\n",
      "\n",
      "      [2] Abusing Qgraf Nucl. Instrum. Methods Phys. Res. A 559 (2006) 220--223 https://doi.org/10.1016/j.nima.2005.11.151\n",
      "\n",
      "      [3] Feynman graph generation and propagator mixing, I Comput. Phys. Commun. 269 (2021) 108103 https://doi.org/10.1016/j.cpc.2021.108103\n",
      "\n",
      "\t\n"
     ]
    }
   ],
   "source": [
    "import pyfeyn2\n",
    "from feynml import *\n",
    "# import renders\n",
    "from pyfeyn2.render.latex.tikzfeynman import TikzFeynmanRender\n",
    "from pyfeyn2.render.all import AllRender\n",
    "from pyfeyn2.render.text.ascii import ASCIIRender\n",
    "from pyfeyn2.render.text.unicode import UnicodeRender\n",
    "# auto\n",
    "from pyfeyn2.auto.position import  auto_align_legs, scale_positions\n",
    "from pyfeyn2.auto.position import feynman_adjust_points\n",
    "from pyfeyn2.auto.label import auto_label\n",
    "from pyfeyn2.auto.position import auto_align_legs,auto_grid\n",
    "from pyfeyn2.auto.position import auto_vdw,auto_grid\n",
    "from pyfeyn2.auto.bend import auto_bend\n",
    "# util\n",
    "import numpy as np\n",
    "from xsdata.formats.dataclass.parsers import XmlParser\n",
    "from pyqgraf import qgraf, model\n",
    "from feynml.interface.qgraf import style"
   ]
  },
  {
   "cell_type": "code",
   "execution_count": 140,
   "id": "c67b47c1-3333-4588-9e04-593ed31490d7",
   "metadata": {},
   "outputs": [
    {
     "data": {
      "image/png": "[encoded data removed]",
      "text/plain": [
       "<wand.image.Image: 4207c61 'PDF' (91x90)>"
      ]
     },
     "metadata": {},
     "output_type": "display_data"
    },
    {
     "data": {
      "image/png": "[encoded data removed]",
      "text/plain": [
       "<wand.image.Image: 4207c61 'PDF' (91x90)>"
      ]
     },
     "execution_count": 140,
     "metadata": {},
     "output_type": "execute_result"
    }
   ],
   "source": [
    "fd = FeynmanDiagram().add(\n",
    "    # Define the vertices\n",
    "    #v1 := Vertex(text=r\"$- \\mathrm{i} g e_q \\gamma^\\mu \\delta_{\\alpha\\beta} \\delta_{IJ}$\",shape=\"blob\").with_xy(0,0),\n",
    "    v1 := Vertex().with_xy(0,0),\n",
    "   #v1 := Vertex(text=\"AAAAAAAAA\").with_xy(0,0),\n",
    "    # Incoming and outgoing photons\n",
    "    Leg(pdgid=2, sense='incoming',text=r\"$q_{I,\\beta}$\").with_target(v1).with_rphi(10,0*2*np.pi+np.pi),#.with_momentum(Momentum(\"$p_1$\")).with_style(\"momentum-arrow: true\"),\n",
    "    Leg(pdgid=-2, sense='incoming',text=r\"$\\bar{q}_{J,\\alpha}$\").with_target(v1).with_rphi(10,1/3*2*np.pi+np.pi),#.with_momentum(Momentum(\"$p_2$\")).with_style(\"momentum-arrow: true\"),\n",
    "    Leg(pdgid=22, sense='incoming',text=r\"$\\gamma^\\mu$\").with_target(v1).with_rphi(10,2/3*2*np.pi+np.pi),#.with_momentum(Momentum(\"$p_3$\")).with_style(\"momentum-arrow: true\"),\n",
    ")\n",
    "# Scale the diagram for better visibility\n",
    "scale_positions(fd, 0.1)\n",
    "\n",
    "# Render the diagram as a TikZ output\n",
    "#auto_label([*fd.propagators, *fd.legs])\n",
    "TikzFeynmanRender(fd).render(show=True,file=\"/home/apn/git/phd/thesis/tex/appendix/feynrules/qqa\")\n",
    "#fd.render(auto_position=False, auto_bend=False, render=\"tikz\", "
   ]
  },
  {
   "cell_type": "code",
   "execution_count": 143,
   "id": "6faa9873-943c-431a-96ac-51ff0b0f0fd9",
   "metadata": {},
   "outputs": [
    {
     "data": {
      "image/png": "[encoded data removed]",
      "text/plain": [
       "<wand.image.Image: 03f1885 'PDF' (91x90)>"
      ]
     },
     "metadata": {},
     "output_type": "display_data"
    },
    {
     "data": {
      "image/png": "[encoded data removed]",
      "text/plain": [
       "<wand.image.Image: 03f1885 'PDF' (91x90)>"
      ]
     },
     "execution_count": 143,
     "metadata": {},
     "output_type": "execute_result"
    }
   ],
   "source": [
    "fd = FeynmanDiagram().add(\n",
    "    # Define the vertices\n",
    "    #v1 := Vertex(text=r\"$- \\mathrm{i} g_s \\gamma^\\mu T^a_{\\alpha\\beta} \\delta_{IJ}$\",shape=\"blob\").with_xy(0,0),\n",
    "    v1 := Vertex().with_xy(0,0),\n",
    "   #v1 := Vertex(text=\"AAAAAAAAA\").with_xy(0,0),\n",
    "    # Incoming and outgoing photons\n",
    "    Leg(pdgid=2, sense='incoming',text=r\"$q_{I,\\beta}$\").with_target(v1).with_rphi(10,0*2*np.pi+np.pi),#.with_momentum(Momentum(\"$p_1$\")).with_style(\"momentum-arrow: true\"),\n",
    "    Leg(pdgid=-2, sense='incoming',text=r\"$\\bar{q}_{J,\\alpha}$\").with_target(v1).with_rphi(10,1/3*2*np.pi+np.pi),#.with_momentum(Momentum(\"$p_2$\")).with_style(\"momentum-arrow: true\"),\n",
    "    Leg(pdgid=21, sense='incoming',text=r\"$g^\\mu_a$\").with_target(v1).with_rphi(10,2/3*2*np.pi+np.pi),#.with_momentum(Momentum(\"$p_3$\")).with_style(\"momentum-arrow: true\"),\n",
    ")\n",
    "# Scale the diagram for better visibility\n",
    "scale_positions(fd, 0.1)\n",
    "\n",
    "# Render the diagram as a TikZ output\n",
    "#auto_label([*fd.propagators, *fd.legs])\n",
    "TikzFeynmanRender(fd).render(show=True,file=\"/home/apn/git/phd/thesis/tex/appendix/feynrules/qqg\")\n",
    "#fd.render(auto_position=False, auto_bend=False, render=\"tikz\", "
   ]
  },
  {
   "cell_type": "code",
   "execution_count": 151,
   "id": "944b90af-433c-49e8-a6e5-55c91814efc3",
   "metadata": {},
   "outputs": [
    {
     "name": "stderr",
     "output_type": "stream",
     "text": [
      "/home/apn/.local/lib/python3.12/site-packages/feynml/pdgid.py:113: UserWarning: Type ghost is not consistent with pdgid 2, which is fermion. Using ghost now.\n",
      "  warnings.warn(\n",
      "/home/apn/.local/lib/python3.12/site-packages/feynml/pdgid.py:113: UserWarning: Type ghost is not consistent with pdgid -2, which is anti fermion. Using ghost now.\n",
      "  warnings.warn(\n"
     ]
    },
    {
     "data": {
      "image/png": "[encoded data removed]",
      "text/plain": [
       "<wand.image.Image: 32ad11f 'PDF' (81x90)>"
      ]
     },
     "metadata": {},
     "output_type": "display_data"
    },
    {
     "data": {
      "image/png": "[encoded data removed]",
      "text/plain": [
       "<wand.image.Image: 32ad11f 'PDF' (81x90)>"
      ]
     },
     "execution_count": 151,
     "metadata": {},
     "output_type": "execute_result"
    }
   ],
   "source": [
    "fd = FeynmanDiagram().add(\n",
    "    # Define the vertices\n",
    "    #v1 := Vertex(text=r\"$g_s p^\\mu f^{abc}$\",shape=\"blob\").with_xy(0,0),\n",
    "    v1 := Vertex().with_xy(0,0),\n",
    "    # Incoming and outgoing photons\n",
    "    Leg(pdgid=2, type=\"ghost\", sense='incoming',text=r\"$\\bar c ^c$\").with_target(v1).with_rphi(10,0*2*np.pi+np.pi).with_momentum(Momentum(\"$p$\")).with_style(\"momentum-arrow: true\"),\n",
    "    Leg(pdgid=-2, type=\"ghost\",sense='incoming',text=r\"$c^b$\").with_target(v1).with_rphi(10,1/3*2*np.pi+np.pi),#.with_momentum(Momentum(\"$p_2$\")).with_style(\"momentum-arrow: true\"),\n",
    "    Leg(pdgid=21, sense='incoming',text=r\"$g^\\mu_a$\").with_target(v1).with_rphi(10,2/3*2*np.pi+np.pi),#.with_momentum(Momentum(\"$p_3$\")).with_style(\"momentum-arrow: true\"),\n",
    ")\n",
    "# Scale the diagram for better visibility\n",
    "scale_positions(fd, 0.1)\n",
    "\n",
    "# Render the diagram as a TikZ output\n",
    "#auto_label([*fd.propagators, *fd.legs])\n",
    "TikzFeynmanRender(fd).render(show=True,file=\"/home/apn/git/phd/thesis/tex/appendix/feynrules/ccg\")\n",
    "#fd.render(auto_position=False, auto_bend=False, render=\"tikz\", "
   ]
  },
  {
   "cell_type": "code",
   "execution_count": 147,
   "id": "659846a2-6413-4c3a-b846-3dd754b80f50",
   "metadata": {},
   "outputs": [
    {
     "name": "stderr",
     "output_type": "stream",
     "text": [
      "<>:9: SyntaxWarning: invalid escape sequence '\\m'\n",
      "<>:11: SyntaxWarning: invalid escape sequence '\\l'\n",
      "<>:9: SyntaxWarning: invalid escape sequence '\\m'\n",
      "<>:11: SyntaxWarning: invalid escape sequence '\\l'\n",
      "/tmp/ipykernel_20593/391229123.py:9: SyntaxWarning: invalid escape sequence '\\m'\n",
      "  Leg(pdgid=21, sense='incoming',text=\"$g^\\mu_a$\").with_target(v1).with_rphi(15,0*2*np.pi+np.pi).with_momentum(Momentum(\"$p_1$\")).with_style(\"momentum-arrow: true\"),\n",
      "/tmp/ipykernel_20593/391229123.py:11: SyntaxWarning: invalid escape sequence '\\l'\n",
      "  Leg(pdgid=21, sense='incoming',text=\"$g^\\lambda_c$\").with_target(v1).with_rphi(15,2/3*2*np.pi+np.pi).with_momentum(Momentum(\"$p_3$\")).with_style(\"momentum-arrow: true\"),\n"
     ]
    },
    {
     "data": {
      "image/png": "[encoded data removed]",
      "text/plain": [
       "<wand.image.Image: a4a96b6 'PDF' (115x126)>"
      ]
     },
     "metadata": {},
     "output_type": "display_data"
    },
    {
     "data": {
      "image/png": "[encoded data removed]",
      "text/plain": [
       "<wand.image.Image: a4a96b6 'PDF' (115x126)>"
      ]
     },
     "execution_count": 147,
     "metadata": {},
     "output_type": "execute_result"
    }
   ],
   "source": [
    "fd = FeynmanDiagram().add(\n",
    "    # Define the vertices\n",
    "    #v1 := Vertex(text=\"\\\\shortstack{$-\\\\big(\\\\phantom{\\\\big)}$\\\\\\\\ $\\\\phantom{-g_s f_{abc}\\\\big(}\\\\phantom{\\\\big)}$\\\\\\\\ $\\\\phantom{-g_s f_{abc}\\\\big(}+ g^{\\mu\\lambda} (p_3-p_1)^\\\\nu  \\\\big)$}\",shape=\"blob\").with_xy(0,0),\n",
    "   #v1 := Vertex(text=\"$-g_s f_{abc} \\\\left( \\\\vcenter{\\\\hbox{\\\\shortstack{$\\\\phantom{+} g^{\\\\mu\\\\nu} (p_1-p_2)^\\\\lambda $\\\\\\\\$ +  g^{\\\\nu\\\\lambda} (p_2-p_3)^\\\\mu$\\\\\\\\$ + g^{\\mu\\lambda} (p_3-p_1)^\\\\nu $}}}  \\\\right)$\",shape=\"blob\").with_xy(0,0),\n",
    "   \n",
    "    v1 := Vertex().with_xy(0,0),\n",
    "    #v1 := Vertex(text=\"AAAAAAAAA\").with_xy(0,0),\n",
    "    # Incoming and outgoing photons\n",
    "    Leg(pdgid=21, sense='incoming',text=\"$g^\\mu_a$\").with_target(v1).with_rphi(15,0*2*np.pi+np.pi).with_momentum(Momentum(\"$p_1$\")).with_style(\"momentum-arrow: true\"),\n",
    "    Leg(pdgid=21, sense='incoming',text=\"$g^\\nu_b$\").with_target(v1).with_rphi(15,1/3*2*np.pi+np.pi).with_momentum(Momentum(\"$p_2$\")).with_style(\"momentum-arrow: true\"),\n",
    "    Leg(pdgid=21, sense='incoming',text=\"$g^\\lambda_c$\").with_target(v1).with_rphi(15,2/3*2*np.pi+np.pi).with_momentum(Momentum(\"$p_3$\")).with_style(\"momentum-arrow: true\"),\n",
    ")\n",
    "# Scale the diagram for better visibility\n",
    "scale_positions(fd, 0.1)\n",
    "\n",
    "# Render the diagram as a TikZ output\n",
    "#auto_label([*fd.propagators, *fd.legs])\n",
    "TikzFeynmanRender(fd).render(show=True,file=\"/home/apn/git/phd/thesis/tex/appendix/feynrules/ggg\")\n",
    "#fd.render(auto_position=False, auto_bend=False, render=\"tikz\", "
   ]
  },
  {
   "cell_type": "code",
   "execution_count": 150,
   "id": "f807ed24-a324-4fe8-98b9-a391c9a82f55",
   "metadata": {},
   "outputs": [
    {
     "data": {
      "image/png": "[encoded data removed]",
      "text/plain": [
       "<wand.image.Image: 38ad52b 'PDF' (107x107)>"
      ]
     },
     "metadata": {},
     "output_type": "display_data"
    },
    {
     "data": {
      "image/png": "[encoded data removed]",
      "text/plain": [
       "<wand.image.Image: 38ad52b 'PDF' (107x107)>"
      ]
     },
     "execution_count": 150,
     "metadata": {},
     "output_type": "execute_result"
    }
   ],
   "source": [
    "fd = FeynmanDiagram().add(\n",
    "    # Define the vertices\n",
    "    #v1 := Vertex(text=\"\\\\shortstack{$-\\\\mathrm{i} g_s^2 \\\\big(+ \\\\phantom{\\\\big)}$\\\\\\\\$\\\\phantom{-\\\\mathrm{i} g_s^2 \\\\big(} \\\\phantom{\\\\big)}$\\\\\\\\$\\\\phantom{-\\\\mathrm{i} g_s^2 \\\\big(}   \\\\big)$}\",shape=\"blob\").with_xy(0,0),\n",
    "   #v1 := Vertex(text=\"$-\\\\mathrm{i} g_s^2 \\\\left( \\\\vcenter{\\\\hbox{\\\\shortstack{$\\\\phantom{+} f^{abc} f^{cde} (g^{\\\\kappa\\\\mu} g^{\\\\lambda \\\\nu} - g^{\\\\kappa\\\\nu} g^{\\\\lambda\\\\mu}) $\\\\\\\\$ + f^{ade} f^{bce} (g^{\\\\kappa\\\\lambda} g^{\\\\mu\\\\nu} - g^{\\\\kappa\\\\mu} g^{\\\\nu\\\\lambda}) $\\\\\\\\$ + f^{ace} f^{bde} (g^{\\\\kappa\\\\lambda} g^{\\\\nu \\\\mu} - g^{\\\\kappa\\\\nu} g^{\\\\mu\\\\lambda})  $}}}  \\\\right)$\",shape=\"blob\").with_xy(0,0),\n",
    "   #v1 := Vertex(text=\"$-\\\\mathrm{i} g_s^2 \\\\left( \\\\vcenter{\\\\hbox{\\\\shortstack{$ + f^{abc} f^{cde} (g^{\\\\alpha\\\\gamma} g^{\\\\beta \\\\delta} - g^{\\\\alpha\\\\delta} g^{\\\\beta\\\\gamma})$ \\\\\\\\ + B \\\\\\\\ C  }}}  \\\\right)$\",shape=\"blob\").with_xy(0,0),\n",
    "   \n",
    "    v1 := Vertex().with_xy(0,0),\n",
    "    #v1 := Vertex(text=\"AAAAAAAAA\").with_xy(0,0),\n",
    "    # Incoming and outgoing photons\n",
    "    Leg(pdgid=21, sense='incoming',text=r\"$g^\\kappa_a$\").with_target(v1).with_rphi(15,0*2*np.pi+np.pi/4),#.with_momentum(Momentum(\"$p_1$\")).with_style(\"momentum-arrow: true\"),\n",
    "    Leg(pdgid=21, sense='incoming',text=r\"$g^\\lambda_b$\").with_target(v1).with_rphi(15,1/4*2*np.pi+np.pi/4),#.with_momentum(Momentum(\"$p_2$\")).with_style(\"momentum-arrow: true\"),\n",
    "    Leg(pdgid=21, sense='incoming',text=r\"$g^\\mu_c$\").with_target(v1).with_rphi(15,2/4*2*np.pi+np.pi/4),#.with_momentum(Momentum(\"$p_3$\")).with_style(\"momentum-arrow: true\"),\n",
    "    Leg(pdgid=21, sense='incoming',text=r\"$g^\\nu_d$\").with_target(v1).with_rphi(15,3/4*2*np.pi+np.pi/4),#.with_momentum(Momentum(\"$p_4$\")).with_style(\"momentum-arrow: true\"),\n",
    "\n",
    ")\n",
    "# Scale the diagram for better visibility\n",
    "scale_positions(fd, 0.1)\n",
    "\n",
    "# Render the diagram as a TikZ output\n",
    "#auto_label([*fd.propagators, *fd.legs])\n",
    "TikzFeynmanRender(fd).render(show=True,file=\"/home/apn/git/phd/thesis/tex/appendix/feynrules/gggg\")\n",
    "#fd.render(auto_position=False, auto_bend=False, render=\"tikz\", "
   ]
  },
  {
   "cell_type": "code",
   "execution_count": 152,
   "id": "8b1c9046-eb3f-4899-9385-d3704af70181",
   "metadata": {},
   "outputs": [
    {
     "name": "stderr",
     "output_type": "stream",
     "text": [
      "/home/apn/.local/lib/python3.12/site-packages/feynml/pdgid.py:113: UserWarning: Type gluino is not consistent with pdgid 2, which is fermion. Using gluino now.\n",
      "  warnings.warn(\n",
      "/home/apn/.local/lib/python3.12/site-packages/feynml/pdgid.py:113: UserWarning: Type gluino is not consistent with pdgid -2, which is anti fermion. Using gluino now.\n",
      "  warnings.warn(\n"
     ]
    },
    {
     "data": {
      "image/png": "[encoded data removed]",
      "text/plain": [
       "<wand.image.Image: db4ca85 'PDF' (82x91)>"
      ]
     },
     "metadata": {},
     "output_type": "display_data"
    },
    {
     "data": {
      "image/png": "[encoded data removed]",
      "text/plain": [
       "<wand.image.Image: db4ca85 'PDF' (82x91)>"
      ]
     },
     "execution_count": 152,
     "metadata": {},
     "output_type": "execute_result"
    }
   ],
   "source": [
    "fd = FeynmanDiagram().add(\n",
    "    # Define the vertices\n",
    "    v1 := Vertex().with_xy(0,0),\n",
    "    #v1 := Vertex(text=r\"$- \\mathrm{i} g_s \\gamma^\\mu f_{abc}$\",shape=\"blob\").with_xy(0,0),\n",
    "   #v1 := Vertex(text=\"AAAAAAAAA\").with_xy(0,0),\n",
    "    # Incoming and outgoing photons\n",
    "    Leg(pdgid=2, type=\"gluino\",sense='incoming',text=r\"$\\tilde{g}_b$\").with_target(v1).with_rphi(10,0*2*np.pi+np.pi),#.with_momentum(Momentum(\"$p_1$\")).with_style(\"momentum-arrow: true\"),\n",
    "    Leg(pdgid=-2, type=\"gluino\",sense='incoming',text=r\"$\\bar{\\tilde{g}}_a$\").with_target(v1).with_rphi(10,1/3*2*np.pi+np.pi),#.with_momentum(Momentum(\"$p_2$\")).with_style(\"momentum-arrow: true\"),\n",
    "    Leg(pdgid=21, sense='incoming',text=r\"$g^\\mu_c$\").with_target(v1).with_rphi(10,2/3*2*np.pi+np.pi),#.with_momentum(Momentum(\"$p_3$\")).with_style(\"momentum-arrow: true\"),\n",
    ")\n",
    "# Scale the diagram for better visibility\n",
    "scale_positions(fd, 0.1)\n",
    "\n",
    "# Render the diagram as a TikZ output\n",
    "#auto_label([*fd.propagators, *fd.legs])\n",
    "TikzFeynmanRender(fd).render(show=True,file=\"/home/apn/git/phd/thesis/tex/appendix/feynrules/glglg\")\n",
    "#fd.render(auto_position=False, auto_bend=False, render=\"tikz\", "
   ]
  },
  {
   "cell_type": "code",
   "execution_count": 153,
   "id": "f3dff38a-1030-4e5d-a931-b33e011a9dc1",
   "metadata": {},
   "outputs": [
    {
     "name": "stderr",
     "output_type": "stream",
     "text": [
      "/home/apn/.local/lib/python3.12/site-packages/feynml/pdgid.py:113: UserWarning: Type squark is not consistent with pdgid 2, which is fermion. Using squark now.\n",
      "  warnings.warn(\n",
      "/home/apn/.local/lib/python3.12/site-packages/feynml/pdgid.py:113: UserWarning: Type anti squark is not consistent with pdgid -2, which is anti fermion. Using anti squark now.\n",
      "  warnings.warn(\n"
     ]
    },
    {
     "data": {
      "image/png": "[encoded data removed]",
      "text/plain": [
       "<wand.image.Image: 5602cb6 'PDF' (87x91)>"
      ]
     },
     "metadata": {},
     "output_type": "display_data"
    },
    {
     "data": {
      "image/png": "[encoded data removed]",
      "text/plain": [
       "<wand.image.Image: 5602cb6 'PDF' (87x91)>"
      ]
     },
     "execution_count": 153,
     "metadata": {},
     "output_type": "execute_result"
    }
   ],
   "source": [
    "fd = FeynmanDiagram().add(\n",
    "    # Define the vertices\n",
    "    v1 := Vertex().with_xy(0,0),\n",
    "    #v1 := Vertex(text=r\"$\\mathrm{i} g_s (p_2-p_1)^\\mu T^a_{\\alpha\\beta}\\delta{ij}$\",shape=\"blob\").with_xy(0,0),\n",
    "   #v1 := Vertex(text=\"AAAAAAAAA\").with_xy(0,0),\n",
    "    # Incoming and outgoing photons\n",
    "    Leg(pdgid=2, type=\"squark\",sense='incoming',text=r\"$\\tilde{q}_{i\\beta}$\").with_target(v1).with_rphi(10,0*2*np.pi+np.pi).with_momentum(Momentum(\"$p_1$\")).with_style(\"momentum-arrow: true\"),\n",
    "    Leg(pdgid=-2, type=\"anti squark\",sense='incoming',text=r\"$\\tilde{q}^*_{j\\alpha}$\").with_target(v1).with_rphi(10,1/3*2*np.pi+np.pi).with_momentum(Momentum(\"$p_2$\")).with_style(\"momentum-arrow: true\"),\n",
    "    Leg(pdgid=21, sense='incoming',text=r\"$g^\\mu_a$\").with_target(v1).with_rphi(10,2/3*2*np.pi+np.pi),#.with_momentum(Momentum(\"$p_3$\")).with_style(\"momentum-arrow: true\"),\n",
    ")\n",
    "# Scale the diagram for better visibility\n",
    "scale_positions(fd, 0.1)\n",
    "\n",
    "# Render the diagram as a TikZ output\n",
    "#auto_label([*fd.propagators, *fd.legs])\n",
    "TikzFeynmanRender(fd).render(show=True,file=\"/home/apn/git/phd/thesis/tex/appendix/feynrules/sqsqg\")\n",
    "#fd.render(auto_position=False, auto_bend=False, render=\"tikz\", "
   ]
  },
  {
   "cell_type": "code",
   "execution_count": 154,
   "id": "6dfe1565-fae2-4d97-85ef-e98c31ff4907",
   "metadata": {},
   "outputs": [
    {
     "name": "stderr",
     "output_type": "stream",
     "text": [
      "/home/apn/.local/lib/python3.12/site-packages/feynml/pdgid.py:113: UserWarning: Type squark is not consistent with pdgid 2, which is fermion. Using squark now.\n",
      "  warnings.warn(\n",
      "/home/apn/.local/lib/python3.12/site-packages/feynml/pdgid.py:113: UserWarning: Type gaugino is not consistent with pdgid 21, which is gluon. Using gaugino now.\n",
      "  warnings.warn(\n"
     ]
    },
    {
     "data": {
      "image/png": "[encoded data removed]",
      "text/plain": [
       "<wand.image.Image: d3a28b8 'PDF' (88x89)>"
      ]
     },
     "metadata": {},
     "output_type": "display_data"
    },
    {
     "data": {
      "image/png": "[encoded data removed]",
      "text/plain": [
       "<wand.image.Image: d3a28b8 'PDF' (88x89)>"
      ]
     },
     "execution_count": 154,
     "metadata": {},
     "output_type": "execute_result"
    }
   ],
   "source": [
    "fd = FeynmanDiagram().add(\n",
    "    # Define the vertices\n",
    "    v1 := Vertex().with_xy(0,0),\n",
    "    #v1 := Vertex(text=r\"$\\mathrm{i} (L_{Ijk} P_L + R_{Ijk}P_R) \\delta_{\\alpha\\beta}$\",shape=\"blob\").with_xy(0,0),\n",
    "   #v1 := Vertex(text=\"AAAAAAAAA\").with_xy(0,0),\n",
    "    # Incoming and outgoing photons\n",
    "    Leg(pdgid=2, type=\"squark\",sense='incoming',text=r\"$\\tilde{q}_{j\\beta}$\").with_target(v1).with_rphi(10,0*2*np.pi+np.pi),#.with_momentum(Momentum(\"$p_1$\")).with_style(\"momentum-arrow: true\"),\n",
    "    Leg(pdgid=-2, sense='incoming',text=r\"$\\bar{q}_{I\\alpha}$\").with_target(v1).with_rphi(10,1/3*2*np.pi+np.pi),#.with_momentum(Momentum(\"$p_2$\")).with_style(\"momentum-arrow: true\"),\n",
    "    Leg(pdgid=21, type=\"gaugino\", sense='incoming',text=r\"$\\tilde{\\chi}_k$\").with_target(v1).with_rphi(10,2/3*2*np.pi+np.pi),#.with_momentum(Momentum(\"$p_3$\")).with_style(\"momentum-arrow: true\"),\n",
    ")\n",
    "# Scale the diagram for better visibility\n",
    "scale_positions(fd, 0.1)\n",
    "\n",
    "# Render the diagram as a TikZ output\n",
    "#auto_label([*fd.propagators, *fd.legs])\n",
    "TikzFeynmanRender(fd).render(show=True,file=\"/home/apn/git/phd/thesis/tex/appendix/feynrules/sqqx\")\n",
    "#fd.render(auto_position=False, auto_bend=False, render=\"tikz\", "
   ]
  },
  {
   "cell_type": "code",
   "execution_count": 155,
   "id": "245d46e0-28ee-467f-8816-456c9bb6194d",
   "metadata": {},
   "outputs": [
    {
     "name": "stderr",
     "output_type": "stream",
     "text": [
      "/home/apn/.local/lib/python3.12/site-packages/feynml/pdgid.py:113: UserWarning: Type anti squark is not consistent with pdgid 2, which is fermion. Using anti squark now.\n",
      "  warnings.warn(\n",
      "/home/apn/.local/lib/python3.12/site-packages/feynml/pdgid.py:113: UserWarning: Type gaugino is not consistent with pdgid 21, which is gluon. Using gaugino now.\n",
      "  warnings.warn(\n"
     ]
    },
    {
     "data": {
      "image/png": "[encoded data removed]",
      "text/plain": [
       "<wand.image.Image: 6e56c2b 'PDF' (88x87)>"
      ]
     },
     "metadata": {},
     "output_type": "display_data"
    },
    {
     "data": {
      "image/png": "[encoded data removed]",
      "text/plain": [
       "<wand.image.Image: 6e56c2b 'PDF' (88x87)>"
      ]
     },
     "execution_count": 155,
     "metadata": {},
     "output_type": "execute_result"
    }
   ],
   "source": [
    "fd = FeynmanDiagram().add(\n",
    "    # Define the vertices\n",
    "    v1 := Vertex().with_xy(0,0),\n",
    "    #v1 := Vertex(text=r\"$\\mathrm{i} (L_{Ijk}' P_L + R_{Ijk}'P_R) \\delta_{\\alpha\\beta}$\",shape=\"blob\").with_xy(0,0),\n",
    "   #v1 := Vertex(text=\"AAAAAAAAA\").with_xy(0,0),\n",
    "    # Incoming and outgoing photons\n",
    "    Leg(pdgid=2, type=\"anti squark\",sense='incoming',text=r\"$\\tilde{q}^*_{j\\beta}$\").with_target(v1).with_rphi(10,0*2*np.pi+np.pi),#.with_momentum(Momentum(\"$p_1$\")).with_style(\"momentum-arrow: true\"),\n",
    "    Leg(pdgid=2, sense='incoming',text=r\"$q_{I\\alpha}$\").with_target(v1).with_rphi(10,1/3*2*np.pi+np.pi),#.with_momentum(Momentum(\"$p_2$\")).with_style(\"momentum-arrow: true\"),\n",
    "    Leg(pdgid=21, type=\"gaugino\", sense='incoming',text=r\"$\\tilde{\\chi}_k$\").with_target(v1).with_rphi(10,2/3*2*np.pi+np.pi),#.with_momentum(Momentum(\"$p_3$\")).with_style(\"momentum-arrow: true\"),\n",
    ")\n",
    "# Scale the diagram for better visibility\n",
    "scale_positions(fd, 0.1)\n",
    "\n",
    "# Render the diagram as a TikZ output\n",
    "#auto_label([*fd.propagators, *fd.legs])\n",
    "TikzFeynmanRender(fd).render(show=True,file=\"/home/apn/git/phd/thesis/tex/appendix/feynrules/sqbqbx\")\n",
    "#fd.render(auto_position=False, auto_bend=False, render=\"tikz\", "
   ]
  },
  {
   "cell_type": "code",
   "execution_count": 156,
   "id": "08ef01c2-a381-4245-9603-41cc1d670543",
   "metadata": {},
   "outputs": [
    {
     "name": "stderr",
     "output_type": "stream",
     "text": [
      "/home/apn/.local/lib/python3.12/site-packages/feynml/pdgid.py:113: UserWarning: Type squark is not consistent with pdgid 2, which is fermion. Using squark now.\n",
      "  warnings.warn(\n",
      "/home/apn/.local/lib/python3.12/site-packages/feynml/pdgid.py:113: UserWarning: Type gluino is not consistent with pdgid 21, which is gluon. Using gluino now.\n",
      "  warnings.warn(\n"
     ]
    },
    {
     "data": {
      "image/png": "[encoded data removed]",
      "text/plain": [
       "<wand.image.Image: 075cbd9 'PDF' (88x89)>"
      ]
     },
     "metadata": {},
     "output_type": "display_data"
    },
    {
     "data": {
      "image/png": "[encoded data removed]",
      "text/plain": [
       "<wand.image.Image: 075cbd9 'PDF' (88x89)>"
      ]
     },
     "execution_count": 156,
     "metadata": {},
     "output_type": "execute_result"
    }
   ],
   "source": [
    "fd = FeynmanDiagram().add(\n",
    "    # Define the vertices\n",
    "    v1 := Vertex().with_xy(0,0),\n",
    "    #v1 := Vertex(text=r\"$\\mathrm{i} (\\mathcal L_{Ij} P_L + \\mathcal R_{Ij}P_R) T^a_{\\alpha\\beta}$\",shape=\"blob\").with_xy(0,0),\n",
    "   #v1 := Vertex(text=\"AAAAAAAAA\").with_xy(0,0),\n",
    "    # Incoming and outgoing photons\n",
    "    Leg(pdgid=2, type=\"squark\",sense='incoming',text=r\"$\\tilde{q}_{j\\beta}$\").with_target(v1).with_rphi(10,0*2*np.pi+np.pi),#.with_momentum(Momentum(\"$p_1$\")).with_style(\"momentum-arrow: true\"),\n",
    "    Leg(pdgid=-2, sense='incoming',text=r\"$\\bar{q}_{I\\alpha}$\").with_target(v1).with_rphi(10,1/3*2*np.pi+np.pi),#.with_momentum(Momentum(\"$p_2$\")).with_style(\"momentum-arrow: true\"),\n",
    "    Leg(pdgid=21, type=\"gluino\", sense='incoming',text=r\"$\\tilde g_a$\").with_target(v1).with_rphi(10,2/3*2*np.pi+np.pi),#.with_momentum(Momentum(\"$p_3$\")).with_style(\"momentum-arrow: true\"),\n",
    ")\n",
    "# Scale the diagram for better visibility\n",
    "scale_positions(fd, 0.1)\n",
    "\n",
    "# Render the diagram as a TikZ output\n",
    "#auto_label([*fd.propagators, *fd.legs])\n",
    "TikzFeynmanRender(fd).render(show=True,file=\"/home/apn/git/phd/thesis/tex/appendix/feynrules/sqqgl\")\n",
    "#fd.render(auto_position=False, auto_bend=False, render=\"tikz\", "
   ]
  },
  {
   "cell_type": "code",
   "execution_count": 157,
   "id": "980199de-a194-4533-a8dc-381841761fb0",
   "metadata": {},
   "outputs": [
    {
     "name": "stderr",
     "output_type": "stream",
     "text": [
      "/home/apn/.local/lib/python3.12/site-packages/feynml/pdgid.py:113: UserWarning: Type anti squark is not consistent with pdgid 2, which is fermion. Using anti squark now.\n",
      "  warnings.warn(\n",
      "/home/apn/.local/lib/python3.12/site-packages/feynml/pdgid.py:113: UserWarning: Type gluino is not consistent with pdgid 21, which is gluon. Using gluino now.\n",
      "  warnings.warn(\n"
     ]
    },
    {
     "data": {
      "image/png": "[encoded data removed]",
      "text/plain": [
       "<wand.image.Image: fb34dfb 'PDF' (88x87)>"
      ]
     },
     "metadata": {},
     "output_type": "display_data"
    },
    {
     "data": {
      "image/png": "[encoded data removed]",
      "text/plain": [
       "<wand.image.Image: fb34dfb 'PDF' (88x87)>"
      ]
     },
     "execution_count": 157,
     "metadata": {},
     "output_type": "execute_result"
    }
   ],
   "source": [
    "fd = FeynmanDiagram().add(\n",
    "    # Define the vertices\n",
    "    v1 := Vertex().with_xy(0,0),\n",
    "    #v1 := Vertex(text=r\"$\\mathrm{i} (\\mathcal L_{Ij}' P_L + \\mathcal R_{Ij}'P_R) T^a_{\\alpha\\beta}$\",shape=\"blob\").with_xy(0,0),\n",
    "   #v1 := Vertex(text=\"AAAAAAAAA\").with_xy(0,0),\n",
    "    # Incoming and outgoing photons\n",
    "    Leg(pdgid=2, type=\"anti squark\",sense='incoming',text=r\"$\\tilde{q}^*_{j\\beta}$\").with_target(v1).with_rphi(10,0*2*np.pi+np.pi),#.with_momentum(Momentum(\"$p_1$\")).with_style(\"momentum-arrow: true\"),\n",
    "    Leg(pdgid=2, sense='incoming',text=r\"$q_{I\\alpha}$\").with_target(v1).with_rphi(10,1/3*2*np.pi+np.pi),#.with_momentum(Momentum(\"$p_2$\")).with_style(\"momentum-arrow: true\"),\n",
    "    Leg(pdgid=21, type=\"gluino\", sense='incoming',text=r\"$\\tilde g_a$\").with_target(v1).with_rphi(10,2/3*2*np.pi+np.pi),#.with_momentum(Momentum(\"$p_3$\")).with_style(\"momentum-arrow: true\"),\n",
    ")\n",
    "# Scale the diagram for better visibility\n",
    "scale_positions(fd, 0.1)\n",
    "\n",
    "# Render the diagram as a TikZ output\n",
    "#auto_label([*fd.propagators, *fd.legs])\n",
    "TikzFeynmanRender(fd).render(show=True,file=\"/home/apn/git/phd/thesis/tex/appendix/feynrules/sqbqbgl\")\n",
    "#fd.render(auto_position=False, auto_bend=False, render=\"tikz\", "
   ]
  },
  {
   "cell_type": "code",
   "execution_count": 158,
   "id": "cd2668af-8d44-4c6b-adb1-0c308b00dc55",
   "metadata": {},
   "outputs": [
    {
     "name": "stderr",
     "output_type": "stream",
     "text": [
      "/home/apn/.local/lib/python3.12/site-packages/feynml/pdgid.py:113: UserWarning: Type squark is not consistent with pdgid 21, which is gluon. Using squark now.\n",
      "  warnings.warn(\n",
      "/home/apn/.local/lib/python3.12/site-packages/feynml/pdgid.py:113: UserWarning: Type anti squark is not consistent with pdgid 21, which is gluon. Using anti squark now.\n",
      "  warnings.warn(\n"
     ]
    },
    {
     "data": {
      "image/png": "[encoded data removed]",
      "text/plain": [
       "<wand.image.Image: 6711acf 'PDF' (111x106)>"
      ]
     },
     "metadata": {},
     "output_type": "display_data"
    },
    {
     "data": {
      "image/png": "[encoded data removed]",
      "text/plain": [
       "<wand.image.Image: 6711acf 'PDF' (111x106)>"
      ]
     },
     "execution_count": 158,
     "metadata": {},
     "output_type": "execute_result"
    }
   ],
   "source": [
    "fd = FeynmanDiagram().add(\n",
    "    # Define the vertices\n",
    "    #v1 := Vertex(text=\"\\\\shortstack{$-\\\\mathrm{i} g_s^2 \\\\big(+ \\\\phantom{\\\\big)}$\\\\\\\\$\\\\phantom{-\\\\mathrm{i} g_s^2 \\\\big(} \\\\phantom{\\\\big)}$\\\\\\\\$\\\\phantom{-\\\\mathrm{i} g_s^2 \\\\big(}   \\\\big)$}\",shape=\"blob\").with_xy(0,0),\n",
    "   v1 := Vertex().with_xy(0,0),\n",
    "    #v1 := Vertex(text=\"$\\\\mathrm{i} g_s^2 g^{\\\\mu\\\\nu} \\\\delta_{ij} \\\\left( \\\\vcenter{\\\\hbox{\\\\shortstack{$\\\\phantom{+} T^a T^b $ \\\\\\\\ $+ T^b T^a$ }}}  \\\\right)_{\\\\alpha\\\\beta}$\",shape=\"blob\").with_xy(0,0),\n",
    "   #v1 := Vertex(text=\"$-\\\\mathrm{i} g_s^2 \\\\left( \\\\vcenter{\\\\hbox{\\\\shortstack{$ + f^{abc} f^{cde} (g^{\\\\alpha\\\\gamma} g^{\\\\beta \\\\delta} - g^{\\\\alpha\\\\delta} g^{\\\\beta\\\\gamma})$ \\\\\\\\ + B \\\\\\\\ C  }}}  \\\\right)$\",shape=\"blob\").with_xy(0,0),\n",
    "   \n",
    "    #v1 := Vertex(text=\"AAAAAAAAA\").with_xy(0,0),\n",
    "    # Incoming and outgoing photons\n",
    "    Leg(pdgid=21, type=\"squark\", sense='incoming',text=r\"$\\tilde{q}_{j\\beta}$\").with_target(v1).with_rphi(15,0*2*np.pi+np.pi/4),#.with_momentum(Momentum(\"$p_1$\")).with_style(\"momentum-arrow: true\"),\n",
    "    Leg(pdgid=21, type=\"anti squark\",sense='incoming',text=r\"$\\tilde{q}^*_{i\\alpha}$\").with_target(v1).with_rphi(15,1/4*2*np.pi+np.pi/4),#.with_momentum(Momentum(\"$p_2$\")).with_style(\"momentum-arrow: true\"),\n",
    "    Leg(pdgid=21, sense='incoming',text=r\"$g^\\mu_a$\").with_target(v1).with_rphi(15,2/4*2*np.pi+np.pi/4),#.with_momentum(Momentum(\"$p_3$\")).with_style(\"momentum-arrow: true\"),\n",
    "    Leg(pdgid=21, sense='incoming',text=r\"$g^\\nu_b$\").with_target(v1).with_rphi(15,3/4*2*np.pi+np.pi/4),#.with_momentum(Momentum(\"$p_4$\")).with_style(\"momentum-arrow: true\"),\n",
    "\n",
    ")\n",
    "# Scale the diagram for better visibility\n",
    "scale_positions(fd, 0.1)\n",
    "\n",
    "# Render the diagram as a TikZ output\n",
    "#auto_label([*fd.propagators, *fd.legs])\n",
    "TikzFeynmanRender(fd).render(show=True,file=\"/home/apn/git/phd/thesis/tex/appendix/feynrules/sqsqgg\")\n",
    "#fd.render(auto_position=False, auto_bend=False, render=\"tikz\", "
   ]
  },
  {
   "cell_type": "code",
   "execution_count": 159,
   "id": "9cd44d7d-a94e-434f-8184-3f2eb515021f",
   "metadata": {},
   "outputs": [
    {
     "name": "stderr",
     "output_type": "stream",
     "text": [
      "/home/apn/.local/lib/python3.12/site-packages/feynml/pdgid.py:113: UserWarning: Type squark is not consistent with pdgid 21, which is gluon. Using squark now.\n",
      "  warnings.warn(\n",
      "/home/apn/.local/lib/python3.12/site-packages/feynml/pdgid.py:113: UserWarning: Type anti squark is not consistent with pdgid 21, which is gluon. Using anti squark now.\n",
      "  warnings.warn(\n"
     ]
    },
    {
     "data": {
      "image/png": "[encoded data removed]",
      "text/plain": [
       "<wand.image.Image: 18d6a13 'PDF' (111x107)>"
      ]
     },
     "metadata": {},
     "output_type": "display_data"
    },
    {
     "data": {
      "image/png": "[encoded data removed]",
      "text/plain": [
       "<wand.image.Image: 18d6a13 'PDF' (111x107)>"
      ]
     },
     "execution_count": 159,
     "metadata": {},
     "output_type": "execute_result"
    }
   ],
   "source": [
    "fd = FeynmanDiagram().add(\n",
    "    # Define the vertices\n",
    "    #v1 := Vertex(text=\"\\\\shortstack{$-\\\\mathrm{i} g_s^2 \\\\big(+ \\\\phantom{\\\\big)}$\\\\\\\\$\\\\phantom{-\\\\mathrm{i} g_s^2 \\\\big(} \\\\phantom{\\\\big)}$\\\\\\\\$\\\\phantom{-\\\\mathrm{i} g_s^2 \\\\big(}   \\\\big)$}\",shape=\"blob\").with_xy(0,0),\n",
    "   v1 := Vertex().with_xy(0,0),\n",
    "    #v1 := Vertex(text=r\"$-\\mathrm{i} \\left( \\vcenter{\\hbox{\\shortstack{$\\phantom{+} X_{ijkl}\\delta_{\\alpha\\beta}\\delta_{\\gamma\\delta} $ \\\\ $+ Y_{ijkl}\\delta_{\\alpha\\delta}\\delta_{\\gamma\\beta} $\\\\ $+ Z_{ijkl}\\delta_{\\alpha\\gamma}\\delta_{\\beta\\delta} $ }}}  \\right)$\",shape=\"blob\").with_xy(0,0),\n",
    "   #v1 := Vertex(text=\"$-\\\\mathrm{i} g_s^2 \\\\left( \\\\vcenter{\\\\hbox{\\\\shortstack{$ + f^{abc} f^{cde} (g^{\\\\alpha\\\\gamma} g^{\\\\beta \\\\delta} - g^{\\\\alpha\\\\delta} g^{\\\\beta\\\\gamma})$ \\\\\\\\ + B \\\\\\\\ C  }}}  \\\\right)$\",shape=\"blob\").with_xy(0,0),\n",
    "   \n",
    "    #v1 := Vertex(text=\"AAAAAAAAA\").with_xy(0,0),\n",
    "    # Incoming and outgoing photons\n",
    "    Leg(pdgid=21, type=\"squark\", sense='incoming',text=r\"$\\tilde{q}_{i\\alpha}$\").with_target(v1).with_rphi(15,0*2*np.pi+np.pi/4),#.with_momentum(Momentum(\"$p_1$\")).with_style(\"momentum-arrow: true\"),\n",
    "    Leg(pdgid=21, type=\"anti squark\",sense='incoming',text=r\"$\\tilde{q}^*_{j\\beta}$\").with_target(v1).with_rphi(15,1/4*2*np.pi+np.pi/4),#.with_momentum(Momentum(\"$p_2$\")).with_style(\"momentum-arrow: true\"),\n",
    "    Leg(pdgid=21, type=\"squark\",sense='incoming',text=r\"$\\tilde{q}_{k\\gamma}$\").with_target(v1).with_rphi(15,2/4*2*np.pi+np.pi/4),#.with_momentum(Momentum(\"$p_3$\")).with_style(\"momentum-arrow: true\"),\n",
    "    Leg(pdgid=21, type=\"anti squark\",sense='incoming',text=r\"$\\tilde{q}^*_{l\\delta}$\").with_target(v1).with_rphi(15,3/4*2*np.pi+np.pi/4),#.with_momentum(Momentum(\"$p_4$\")).with_style(\"momentum-arrow: true\"),\n",
    "\n",
    ")\n",
    "# Scale the diagram for better visibility\n",
    "scale_positions(fd, 0.1)\n",
    "\n",
    "# Render the diagram as a TikZ output\n",
    "#auto_label([*fd.propagators, *fd.legs])\n",
    "TikzFeynmanRender(fd).render(show=True,file=\"/home/apn/git/phd/thesis/tex/appendix/feynrules/sqsqsqsq\")\n",
    "#fd.render(auto_position=False, auto_bend=False, render=\"tikz\", "
   ]
  },
  {
   "cell_type": "code",
   "execution_count": null,
   "id": "c42048e3-4bdb-43a7-9948-cfe4501f4621",
   "metadata": {},
   "outputs": [],
   "source": []
  }
 ],
 "metadata": {
  "kernelspec": {
   "display_name": "Python 3 (ipykernel)",
   "language": "python",
   "name": "python3"
  },
  "language_info": {
   "codemirror_mode": {
    "name": "ipython",
    "version": 3
   },
   "file_extension": ".py",
   "mimetype": "text/x-python",
   "name": "python",
   "nbconvert_exporter": "python",
   "pygments_lexer": "ipython3",
   "version": "3.12.3"
  }
 },
 "nbformat": 4,
 "nbformat_minor": 5
}
