{
 "cells": [
  {
   "cell_type": "code",
   "execution_count": 1,
   "id": "0979974d-ce8f-4ebb-8653-62335681e221",
   "metadata": {},
   "outputs": [],
   "source": [
    "import pyfeyn2\n",
    "from feynml import *\n",
<<<<<<< HEAD
    "from pyfeyn2.render.ps.madgraph import MadgraphRender\n",
=======
    "from pyfeyn2.render.eps.madgraph import MadgraphRender\n",
>>>>>>> origin/master
    "\n",
    "from pyfeyn2.auto.label import auto_label, LabelType\n",
    "from pyfeyn2.auto.position import auto_position,scale_positions"
   ]
  },
  {
   "cell_type": "code",
<<<<<<< HEAD
   "execution_count": 2,
=======
   "execution_count": 7,
>>>>>>> origin/master
   "id": "3a08b0f2-2131-4811-8486-c0a03cecd126",
   "metadata": {},
   "outputs": [
    {
     "data": {
<<<<<<< HEAD
      "image/png": "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",
=======
      "image/png": "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",
>>>>>>> origin/master
      "text/plain": [
       "<wand.image.Image: 364df54 'PDF' (139x139)>"
      ]
     },
     "metadata": {},
     "output_type": "display_data"
    },
    {
     "data": {
<<<<<<< HEAD
      "image/png": "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",
=======
      "image/png": "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",
>>>>>>> origin/master
      "text/plain": [
       "<wand.image.Image: 364df54 'PDF' (139x139)>"
      ]
     },
<<<<<<< HEAD
     "execution_count": 2,
=======
     "execution_count": 7,
>>>>>>> origin/master
     "metadata": {},
     "output_type": "execute_result"
    }
   ],
   "source": [
    "\n",
    "\n",
    "fd = FeynmanDiagram().add(\n",
    "    v1 := Vertex(),\n",
    "    v2 := Vertex(),\n",
    "    Propagator(pdgid=22).connect(v1,v2),\n",
    "    Leg(pdgid=1,target=v1,sense='incoming'),\n",
    "    Leg(pdgid=1,target=v1).with_incoming(),\n",
    "    Leg(pdgid=11,sense='outgoing').with_target(v2),\n",
    "    Leg(pdgid=11).with_target(v2).with_outgoing(),\n",
    ")\n",
    "\n",
    "#auto_label(fd.propagators + fd.legs,label_type=LabelType.UNICODE)\n",
    "fd = auto_position(fd)\n",
    "fd = scale_positions(fd,10)\n",
    "MadgraphRender(fd).render(file=\"demo\")"
   ]
  },
  {
   "cell_type": "code",
   "execution_count": 3,
   "id": "5060382d-34ca-4d23-862b-0deddc422fb0",
   "metadata": {},
   "outputs": [
    {
     "name": "stdout",
     "output_type": "stream",
     "text": [
      "FeynmanDiagram(id='FeynmanDiagram8', style=cssutils.css.CSSStyleDeclaration(cssText='layout: neato'), clazz=None, propagators=[Propagator(id='Propagator11', pdgid=22, name='gamma', type='photon', particle=<Particle: name=\"gamma\", pdgid=22, mass=0.0 MeV>, style=cssutils.css.CSSStyleDeclaration(cssText=''), clazz=None, label=None, momentum=None, source='Vertex9', target='Vertex10')], vertices=[Vertex(id='Vertex9', style=cssutils.css.CSSStyleDeclaration(cssText=''), clazz=None, x=23.745580847236866, y=10.798548657197792, z=None, label=None, shape=None), Vertex(id='Vertex10', style=cssutils.css.CSSStyleDeclaration(cssText=''), clazz=None, x=35.233827451466844, y=10.77249891459406, z=None, label=None, shape=None)], legs=[Leg(id='Leg12', pdgid=1, name='d', type='fermion', particle=<Particle: name=\"d\", pdgid=1, mass=4.67 + 0.50 - 0.20 MeV>, style=cssutils.css.CSSStyleDeclaration(cssText=''), clazz=None, label=None, momentum=None, target='Vertex9', x=5.343608509582585, y=2.7910438504000497, z=None, shape=None, sense='incoming', external=None), Leg(id='Leg13', pdgid=1, name='d', type='fermion', particle=<Particle: name=\"d\", pdgid=1, mass=4.67 + 0.50 - 0.20 MeV>, style=cssutils.css.CSSStyleDeclaration(cssText=''), clazz=None, label=None, momentum=None, target='Vertex9', x=5.343608509582585, y=25.119394653600445, z=None, shape=None, sense='incoming', external=None), Leg(id='Leg14', pdgid=11, name='e-', type='fermion', particle=<Particle: name=\"e-\", pdgid=11, mass=0.51099895000 ± 0.00000000015 MeV>, style=cssutils.css.CSSStyleDeclaration(cssText=''), clazz=None, label=None, momentum=None, target='Vertex10', x=50.0, y=2.7910438504000497, z=None, shape=None, sense='outgoing', external=None), Leg(id='Leg15', pdgid=11, name='e-', type='fermion', particle=<Particle: name=\"e-\", pdgid=11, mass=0.51099895000 ± 0.00000000015 MeV>, style=cssutils.css.CSSStyleDeclaration(cssText=''), clazz=None, label=None, momentum=None, target='Vertex10', x=50.0, y=25.119394653600445, z=None, shape=None, sense='outgoing', external=None)], sheet=cssutils.css.CSSStyleSheet(href=None, media=None, title=None))\n"
     ]
    }
   ],
   "source": [
    "print(fd)"
   ]
  },
  {
   "cell_type": "code",
<<<<<<< HEAD
   "execution_count": 4,
   "id": "168f11ab-65fa-4147-bd3d-1158d3041a11",
   "metadata": {},
   "outputs": [
    {
     "name": "stderr",
     "output_type": "stream",
     "text": [
      "/home/apn/git/feynml/feynml/pdgid.py:101: UserWarning: Type photon is not consistent with pdgid 23, which is boson. Using photon now.\n",
      "  warnings.warn(\n"
     ]
    }
   ],
   "source": [
    "from pyfeyn2.interface.eps import eps_to_feynml\n",
    "fml = eps_to_feynml(\"../tests/interface/lo.ps\")"
   ]
  },
  {
   "cell_type": "code",
   "execution_count": 5,
   "id": "4e9f78ab-3bfa-4976-8da3-c95feea94aaf",
   "metadata": {},
   "outputs": [
    {
     "name": "stdout",
     "output_type": "stream",
     "text": [
      "FeynmanDiagram(id='FeynmanDiagram16', style=cssutils.css.CSSStyleDeclaration(cssText=''), clazz=None, propagators=[Propagator(id=9, pdgid=22, name='gamma', type='photon', particle=<Particle: name=\"gamma\", pdgid=22, mass=0.0 MeV>, style=cssutils.css.CSSStyleDeclaration(cssText=''), clazz=None, label=None, momentum=None, source=7, target=2)], vertices=[Vertex(id=2, style=cssutils.css.CSSStyleDeclaration(cssText=''), clazz=None, x=141.66667, y=635.0, z=None, label=None, shape=None), Vertex(id=7, style=cssutils.css.CSSStyleDeclaration(cssText=''), clazz=None, x=208.33333, y=635.0, z=None, label=None, shape=None)], legs=[Leg(id=3, pdgid=2, name='u', type='fermion', particle=<Particle: name=\"u\", pdgid=2, mass=2.2 + 0.5 - 0.3 MeV>, style=cssutils.css.CSSStyleDeclaration(cssText=''), clazz=None, label=None, momentum=None, target=2, x=75.0, y=560.0, z=None, shape=None, sense='incoming', external=None), Leg(id=6, pdgid=-2, name='u~', type='anti fermion', particle=<Particle: name=\"u~\", pdgid=-2, mass=2.2 + 0.5 - 0.3 MeV>, style=cssutils.css.CSSStyleDeclaration(cssText=''), clazz=None, label=None, momentum=None, target=2, x=75.0, y=710.0, z=None, shape=None, sense='incoming', external=None), Leg(id=12, pdgid=-11, name='e+', type='anti fermion', particle=<Particle: name=\"e+\", pdgid=-11, mass=0.51099895000 ± 0.00000000015 MeV>, style=cssutils.css.CSSStyleDeclaration(cssText=''), clazz=None, label=None, momentum=None, target=7, x=263.80335, y=572.59623, z=None, shape=None, sense='outgoing', external=None), Leg(id=15, pdgid=11, name='e-', type='fermion', particle=<Particle: name=\"e-\", pdgid=11, mass=0.51099895000 ± 0.00000000015 MeV>, style=cssutils.css.CSSStyleDeclaration(cssText=''), clazz=None, label=None, momentum=None, target=7, x=263.80335, y=697.40377, z=None, shape=None, sense='outgoing', external=None)], sheet=cssutils.css.CSSStyleSheet(href=None, media=None, title=None))\n"
     ]
    }
   ],
   "source": [
    "print(fml.diagrams[0])"
   ]
  },
  {
   "cell_type": "code",
   "execution_count": 6,
   "id": "87190711-3a2d-4e8e-abf3-704a3e3e5514",
   "metadata": {},
   "outputs": [
    {
     "data": {
      "text/plain": [
       "[Leg(id=3, pdgid=2, name='u', type='fermion', particle=<Particle: name=\"u\", pdgid=2, mass=2.2 + 0.5 - 0.3 MeV>, style=cssutils.css.CSSStyleDeclaration(cssText=''), clazz=None, label=None, momentum=None, target=2, x=75.0, y=560.0, z=None, shape=None, sense='incoming', external=None),\n",
       " Leg(id=6, pdgid=-2, name='u~', type='anti fermion', particle=<Particle: name=\"u~\", pdgid=-2, mass=2.2 + 0.5 - 0.3 MeV>, style=cssutils.css.CSSStyleDeclaration(cssText=''), clazz=None, label=None, momentum=None, target=2, x=75.0, y=710.0, z=None, shape=None, sense='incoming', external=None),\n",
       " Leg(id=12, pdgid=-11, name='e+', type='anti fermion', particle=<Particle: name=\"e+\", pdgid=-11, mass=0.51099895000 ± 0.00000000015 MeV>, style=cssutils.css.CSSStyleDeclaration(cssText=''), clazz=None, label=None, momentum=None, target=7, x=263.80335, y=572.59623, z=None, shape=None, sense='outgoing', external=None),\n",
       " Leg(id=15, pdgid=11, name='e-', type='fermion', particle=<Particle: name=\"e-\", pdgid=11, mass=0.51099895000 ± 0.00000000015 MeV>, style=cssutils.css.CSSStyleDeclaration(cssText=''), clazz=None, label=None, momentum=None, target=7, x=263.80335, y=697.40377, z=None, shape=None, sense='outgoing', external=None)]"
      ]
     },
     "execution_count": 6,
     "metadata": {},
     "output_type": "execute_result"
    }
   ],
   "source": [
    "fml.diagrams[0].legs"
   ]
  },
  {
   "cell_type": "code",
   "execution_count": 7,
   "id": "dcd4e070-61f4-424e-803f-f9cbfd18c9c0",
   "metadata": {},
   "outputs": [
    {
     "data": {
      "text/plain": [
       "[Propagator(id=9, pdgid=22, name='gamma', type='photon', particle=<Particle: name=\"gamma\", pdgid=22, mass=0.0 MeV>, style=cssutils.css.CSSStyleDeclaration(cssText=''), clazz=None, label=None, momentum=None, source=7, target=2)]"
      ]
     },
     "execution_count": 7,
     "metadata": {},
     "output_type": "execute_result"
    }
   ],
   "source": [
    "fml.diagrams[0].propagators"
   ]
  },
  {
   "cell_type": "code",
   "execution_count": 8,
   "id": "671b6960-054e-4e42-8c27-d7d9c549385a",
   "metadata": {},
   "outputs": [
    {
     "data": {
      "text/plain": [
       "[Vertex(id=2, style=cssutils.css.CSSStyleDeclaration(cssText=''), clazz=None, x=141.66667, y=635.0, z=None, label=None, shape=None),\n",
       " Vertex(id=7, style=cssutils.css.CSSStyleDeclaration(cssText=''), clazz=None, x=208.33333, y=635.0, z=None, label=None, shape=None)]"
      ]
     },
     "execution_count": 8,
     "metadata": {},
     "output_type": "execute_result"
    }
   ],
   "source": [
    "fml.diagrams[0].vertices"
   ]
  },
  {
   "cell_type": "code",
   "execution_count": 9,
   "id": "33b388c0-d0d9-4567-826c-008c3ce0a2e6",
   "metadata": {},
   "outputs": [
    {
     "data": {
      "image/png": "iVBORw0KGgoAAAANSUhEUgAAAEsAAAA8CAQAAACEYI8YAAAAIGNIUk0AAHomAACAhAAA+gAAAIDoAAB1MAAA6mAAADqYAAAXcJy6UTwAAAACYktHRAD/h4/MvwAAAAlwSFlzAAAAZAAAAGQAD5bF3QAAAAd0SU1FB+cLBRUsOmJLkz4AAAJ3SURBVGje1Zm9itVAGIYf9g7mEswdyFyBkNrOzjpgt13AfiG1XaysI9va5AJsRtjWIrJsYSMELFwQhLFI1swk5+TkZ74kfqc8SeaZn++dd76BjAPGFYp8b4jTkR9zxBSGZG+I/wosokLvDdGGcheVPgxYb+ZiKtTeTORDZUioeHY0KIBP/CbbbcwSzOk/IiyWehe0BHO+VYNt0XKiDaE09dhQpC1W89sK7aIORB6W2QRLUV8WJ+NAbbHCrvnF28uPJS3UT16IIyVUWO6nPKraVSUtrw2SxZJOe6FoH0zEprFDstipbXSPpRQCUKWXVotayAXcq3LSyi61VBLuVTkjtnCZSJhETcXt8imUAXuSz2z5FDYR0r26nXy19mPh3GvgJRFGXgUye728SsgNa+X1rPtcH01/c4y30lJqCmckFRl1T+/ktrIW7DOFlwIpJcprtiDDnTLFm3H3uT6u+Yqiyc3IG4WEEuXhNDuEwvCFW0koNx8TKjLPwWYYCmf9KUoKDCmiJZi+ekXEvanRxIOOPL0hVOlYq/UiJZgQH1WhKx2heqr5zstwWOEW7GssH8Ic9MJuGj/CHI1TyoBQjc9afWoPv2noXkEhnv8JmdOi8cBmp9INjyKly64AU88bK0XGA5Z3AlBdAeYPN/OQ6vZFqYqNwWJ4PlVeXSQrZ9tI20SadEaIHKQZRYsFof4lkp6SVLEHtk0tcJIEaR5bqLAiOg7mtXV1EqviDoCPm2G959v49tbIZ1NT2bYIPmIGurxQO9yZnbFOe9+TnfR0R7hVHLjXI0DBQF6Pc2Otu71FqGSxLkK7zyAhXLJYFse4Ch6EOcjFuRd/AWnHHTQ0FxaXAAAAJXRFWHRkYXRlOmNyZWF0ZQAyMDIzLTExLTA1VDIxOjQ0OjU4KzAwOjAwA/0jaQAAACV0RVh0ZGF0ZTptb2RpZnkAMjAyMy0xMS0wNVQyMTo0NDo1OCswMDowMHKgm9UAAAAodEVYdGRhdGU6dGltZXN0YW1wADIwMjMtMTEtMDVUMjE6NDQ6NTgrMDA6MDAltboKAAAAE3RFWHRwZGY6VmVyc2lvbgBQREYtMS41UzZawQAAAEp0RVh0c2lnbmF0dXJlAGM2OTFkZmQxODQ4YWI2YjgwMTIxMmM4NzE1MjQ4YmJlMWUxYzJjZTlkZTFkOWEyZDJjYWI0Mzk2OTZmMzZkMzB1KbqzAAAAAElFTkSuQmCC",
      "text/plain": [
       "<wand.image.Image: c691dfd 'PDF' (75x60)>"
      ]
     },
     "metadata": {},
     "output_type": "display_data"
    },
    {
     "data": {
      "image/png": "iVBORw0KGgoAAAANSUhEUgAAAEsAAAA8CAQAAACEYI8YAAAAIGNIUk0AAHomAACAhAAA+gAAAIDoAAB1MAAA6mAAADqYAAAXcJy6UTwAAAACYktHRAD/h4/MvwAAAAlwSFlzAAAAZAAAAGQAD5bF3QAAAAd0SU1FB+cLBRUsOmJLkz4AAAJ3SURBVGje1Zm9itVAGIYf9g7mEswdyFyBkNrOzjpgt13AfiG1XaysI9va5AJsRtjWIrJsYSMELFwQhLFI1swk5+TkZ74kfqc8SeaZn++dd76BjAPGFYp8b4jTkR9zxBSGZG+I/wosokLvDdGGcheVPgxYb+ZiKtTeTORDZUioeHY0KIBP/CbbbcwSzOk/IiyWehe0BHO+VYNt0XKiDaE09dhQpC1W89sK7aIORB6W2QRLUV8WJ+NAbbHCrvnF28uPJS3UT16IIyVUWO6nPKraVSUtrw2SxZJOe6FoH0zEprFDstipbXSPpRQCUKWXVotayAXcq3LSyi61VBLuVTkjtnCZSJhETcXt8imUAXuSz2z5FDYR0r26nXy19mPh3GvgJRFGXgUye728SsgNa+X1rPtcH01/c4y30lJqCmckFRl1T+/ktrIW7DOFlwIpJcprtiDDnTLFm3H3uT6u+Yqiyc3IG4WEEuXhNDuEwvCFW0koNx8TKjLPwWYYCmf9KUoKDCmiJZi+ekXEvanRxIOOPL0hVOlYq/UiJZgQH1WhKx2heqr5zstwWOEW7GssH8Ic9MJuGj/CHI1TyoBQjc9afWoPv2noXkEhnv8JmdOi8cBmp9INjyKly64AU88bK0XGA5Z3AlBdAeYPN/OQ6vZFqYqNwWJ4PlVeXSQrZ9tI20SadEaIHKQZRYsFof4lkp6SVLEHtk0tcJIEaR5bqLAiOg7mtXV1EqviDoCPm2G959v49tbIZ1NT2bYIPmIGurxQO9yZnbFOe9+TnfR0R7hVHLjXI0DBQF6Pc2Otu71FqGSxLkK7zyAhXLJYFse4Ch6EOcjFuRd/AWnHHTQ0FxaXAAAAJXRFWHRkYXRlOmNyZWF0ZQAyMDIzLTExLTA1VDIxOjQ0OjU4KzAwOjAwA/0jaQAAACV0RVh0ZGF0ZTptb2RpZnkAMjAyMy0xMS0wNVQyMTo0NDo1OCswMDowMHKgm9UAAAAodEVYdGRhdGU6dGltZXN0YW1wADIwMjMtMTEtMDVUMjE6NDQ6NTgrMDA6MDAltboKAAAAE3RFWHRwZGY6VmVyc2lvbgBQREYtMS41UzZawQAAAEp0RVh0c2lnbmF0dXJlAGM2OTFkZmQxODQ4YWI2YjgwMTIxMmM4NzE1MjQ4YmJlMWUxYzJjZTlkZTFkOWEyZDJjYWI0Mzk2OTZmMzZkMzB1KbqzAAAAAElFTkSuQmCC",
      "text/plain": [
       "<wand.image.Image: c691dfd 'PDF' (75x60)>"
      ]
     },
     "execution_count": 9,
     "metadata": {},
     "output_type": "execute_result"
    }
   ],
   "source": [
    "from pyfeyn2.render.latex.tikzfeynman import TikzFeynmanRender\n",
    "TikzFeynmanRender(scale_positions(fml.diagrams[0],1./100.)).render()"
   ]
  },
  {
   "cell_type": "code",
   "execution_count": 10,
   "id": "bd229dbb-4ab3-4ec0-8af5-dfc07695a9b1",
   "metadata": {},
   "outputs": [
    {
     "data": {
      "image/png": "iVBORw0KGgoAAAANSUhEUgAAAEsAAAA8CAQAAACEYI8YAAAAIGNIUk0AAHomAACAhAAA+gAAAIDoAAB1MAAA6mAAADqYAAAXcJy6UTwAAAACYktHRAD/h4/MvwAAAAlwSFlzAAAAZAAAAGQAD5bF3QAAAAd0SU1FB+cLBRUsOxVMo6gAAAJ0SURBVGje1Zk9jtUwFEaPZgdeAtkB8gqQUtPRUUeimy4S/Uip6UJFHTQtTRZAY6RpKYJGU9AgRaJgCoRkiniInbyfvMQ3CfeVL7FPbN/P15+hYIdxhaLcGuJwlPscMYUh2xrivwJLaNBbQ7hQ/qLSuwEbzFxKg9qaiXKsDBkNz/YGBfCJ3xSbjVmGOfxHgsXSboKWYY73arAOrSRZEUrTnhqK3GF1v7XQzupAEmCZVbAU7XlxMh7UGivsml+8Pf9Y5qB+8kIcKaPBcj/lUeVWlbS8dkgWSz7thco9mIlNY49ksVP76B/LqQWg6iCtqjlNlALVq/LSys4tqSSqV+WN2MxlIlEkahpu50+hDNiTfBbzp7CLmNWr/5GvljYWr3qNvCTiyKtAZi+XVwm5Yam8Hq0+l0f3vSUmWGk5LZU3koqCdqB3cluZA/tMFaRATo0Kuq0o8KdM8eZ09bk8rvmKosvNJBiFjBoV4HQ7hMLwhVtJKD8fMxqKoIItMFSecitqKgw5ohbMUL0S0sHUaNLRhzy9IeR0LNV6EQsmRqMqttMR60s133kZDyvegn2N5UOcg17cTeNHnKNx7Iq+iHFqj79p6IGhkF7ehMxp0QRgF6fSDY8i1mVvwLSXjZWi4AHLOwGo3oD5w81lSK17UcqxMVgMz6fKq49k5co2cpdIk84IiYd0gWkxI9S/RNJTkioNwNbxAidJkObRQUnYIsfAgr6uDmI13AHwcTWs93w7vb118tl5Kuua4CeKgT4v1AZ3ZkdKp63vyQ7WdHu4VRxVr3uAgpG87ufGWvd7i5BlsSxk/OSFIWxZzIt9XAWPwuzk4jyIv3JwHVfcyzPsAAAAJXRFWHRkYXRlOmNyZWF0ZQAyMDIzLTExLTA1VDIxOjQ0OjU5KzAwOjAwpYoo3QAAACV0RVh0ZGF0ZTptb2RpZnkAMjAyMy0xMS0wNVQyMTo0NDo1OSswMDowMNTXkGEAAAAodEVYdGRhdGU6dGltZXN0YW1wADIwMjMtMTEtMDVUMjE6NDQ6NTkrMDA6MDCDwrG+AAAAE3RFWHRwZGY6VmVyc2lvbgBQREYtMS41UzZawQAAAEp0RVh0c2lnbmF0dXJlAGViMzhhODZiMGE1YzlmYWQzMDMxMGY1ZjU3MzM1NmUzYmY1MzlmNzkyN2VmNmE0ZjQzYTA2NjMxYzJhZWRjM2McYvhUAAAAAElFTkSuQmCC",
      "text/plain": [
       "<wand.image.Image: eb38a86 'PDF' (75x60)>"
      ]
     },
     "metadata": {},
     "output_type": "display_data"
    },
    {
     "data": {
      "image/png": "iVBORw0KGgoAAAANSUhEUgAAAEsAAAA8CAQAAACEYI8YAAAAIGNIUk0AAHomAACAhAAA+gAAAIDoAAB1MAAA6mAAADqYAAAXcJy6UTwAAAACYktHRAD/h4/MvwAAAAlwSFlzAAAAZAAAAGQAD5bF3QAAAAd0SU1FB+cLBRUsOxVMo6gAAAJ0SURBVGje1Zk9jtUwFEaPZgdeAtkB8gqQUtPRUUeimy4S/Uip6UJFHTQtTRZAY6RpKYJGU9AgRaJgCoRkiniInbyfvMQ3CfeVL7FPbN/P15+hYIdxhaLcGuJwlPscMYUh2xrivwJLaNBbQ7hQ/qLSuwEbzFxKg9qaiXKsDBkNz/YGBfCJ3xSbjVmGOfxHgsXSboKWYY73arAOrSRZEUrTnhqK3GF1v7XQzupAEmCZVbAU7XlxMh7UGivsml+8Pf9Y5qB+8kIcKaPBcj/lUeVWlbS8dkgWSz7thco9mIlNY49ksVP76B/LqQWg6iCtqjlNlALVq/LSys4tqSSqV+WN2MxlIlEkahpu50+hDNiTfBbzp7CLmNWr/5GvljYWr3qNvCTiyKtAZi+XVwm5Yam8Hq0+l0f3vSUmWGk5LZU3koqCdqB3cluZA/tMFaRATo0Kuq0o8KdM8eZ09bk8rvmKosvNJBiFjBoV4HQ7hMLwhVtJKD8fMxqKoIItMFSecitqKgw5ohbMUL0S0sHUaNLRhzy9IeR0LNV6EQsmRqMqttMR60s133kZDyvegn2N5UOcg17cTeNHnKNx7Iq+iHFqj79p6IGhkF7ehMxp0QRgF6fSDY8i1mVvwLSXjZWi4AHLOwGo3oD5w81lSK17UcqxMVgMz6fKq49k5co2cpdIk84IiYd0gWkxI9S/RNJTkioNwNbxAidJkObRQUnYIsfAgr6uDmI13AHwcTWs93w7vb118tl5Kuua4CeKgT4v1AZ3ZkdKp63vyQ7WdHu4VRxVr3uAgpG87ufGWvd7i5BlsSxk/OSFIWxZzIt9XAWPwuzk4jyIv3JwHVfcyzPsAAAAJXRFWHRkYXRlOmNyZWF0ZQAyMDIzLTExLTA1VDIxOjQ0OjU5KzAwOjAwpYoo3QAAACV0RVh0ZGF0ZTptb2RpZnkAMjAyMy0xMS0wNVQyMTo0NDo1OSswMDowMNTXkGEAAAAodEVYdGRhdGU6dGltZXN0YW1wADIwMjMtMTEtMDVUMjE6NDQ6NTkrMDA6MDCDwrG+AAAAE3RFWHRwZGY6VmVyc2lvbgBQREYtMS41UzZawQAAAEp0RVh0c2lnbmF0dXJlAGViMzhhODZiMGE1YzlmYWQzMDMxMGY1ZjU3MzM1NmUzYmY1MzlmNzkyN2VmNmE0ZjQzYTA2NjMxYzJhZWRjM2McYvhUAAAAAElFTkSuQmCC",
      "text/plain": [
       "<wand.image.Image: eb38a86 'PDF' (75x60)>"
      ]
     },
     "execution_count": 10,
     "metadata": {},
     "output_type": "execute_result"
    }
   ],
   "source": [
    "TikzFeynmanRender(scale_positions(fml.diagrams[1],1./100.)).render()"
   ]
  },
  {
   "cell_type": "code",
   "execution_count": 11,
   "id": "dbbea9cd-d293-4249-9eb9-f0439bd75e44",
   "metadata": {},
   "outputs": [
    {
     "data": {
      "image/png": "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",
      "text/plain": [
       "<wand.image.Image: ff8f4f7 'PDF' (394x394)>"
      ]
     },
     "metadata": {},
     "output_type": "display_data"
    }
   ],
   "source": [
    "fml.diagrams[0]"
   ]
  },
  {
   "cell_type": "code",
   "execution_count": 12,
   "id": "37c81232-2b0b-4c8a-b59b-80aed3503152",
   "metadata": {},
   "outputs": [
    {
     "data": {
      "image/png": "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",
      "text/plain": [
       "<wand.image.Image: d8c3ba2 'PDF' (394x394)>"
      ]
     },
     "metadata": {},
     "output_type": "display_data"
    }
   ],
   "source": [
    "fml.diagrams[1]"
   ]
  },
  {
   "cell_type": "code",
   "execution_count": null,
   "id": "b0e11b58-75c7-424d-aabf-016ba4bc2ee0",
=======
   "execution_count": null,
   "id": "168f11ab-65fa-4147-bd3d-1158d3041a11",
>>>>>>> origin/master
   "metadata": {},
   "outputs": [],
   "source": []
  }
 ],
 "metadata": {
  "kernelspec": {
   "display_name": "Python 3 (ipykernel)",
   "language": "python",
   "name": "python3"
  },
  "language_info": {
   "codemirror_mode": {
    "name": "ipython",
    "version": 3
   },
   "file_extension": ".py",
   "mimetype": "text/x-python",
   "name": "python",
   "nbconvert_exporter": "python",
   "pygments_lexer": "ipython3",
   "version": "3.11.5"
  }
 },
 "nbformat": 4,
 "nbformat_minor": 5
}
