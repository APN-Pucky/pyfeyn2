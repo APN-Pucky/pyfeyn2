{
 "cells": [
  {
   "cell_type": "code",
   "execution_count": 1,
   "id": "0979974d-ce8f-4ebb-8653-62335681e221",
   "metadata": {},
   "outputs": [],
   "source": [
    "import pyfeyn2\n",
    "from feynml import *\n",
    "from pyfeyn2.render.eps.madgraph import MadgraphRender\n",
    "\n",
    "from pyfeyn2.auto.label import auto_label, LabelType\n",
    "from pyfeyn2.auto.position import auto_position,scale_positions"
   ]
  },
  {
   "cell_type": "code",
   "execution_count": 7,
   "id": "3a08b0f2-2131-4811-8486-c0a03cecd126",
   "metadata": {},
   "outputs": [
    {
     "data": {
      "image/png": "[encoded data removed]",
      "text/plain": [
       "<wand.image.Image: 364df54 'PDF' (139x139)>"
      ]
     },
     "metadata": {},
     "output_type": "display_data"
    },
    {
     "data": {
      "image/png": "[encoded data removed]",
      "text/plain": [
       "<wand.image.Image: 364df54 'PDF' (139x139)>"
      ]
     },
     "execution_count": 7,
     "metadata": {},
     "output_type": "execute_result"
    }
   ],
   "source": [
    "\n",
    "\n",
    "fd = FeynmanDiagram().add(\n",
    "    v1 := Vertex(),\n",
    "    v2 := Vertex(),\n",
    "    Propagator(pdgid=22).connect(v1,v2),\n",
    "    Leg(pdgid=1,target=v1,sense='incoming'),\n",
    "    Leg(pdgid=1,target=v1).with_incoming(),\n",
    "    Leg(pdgid=11,sense='outgoing').with_target(v2),\n",
    "    Leg(pdgid=11).with_target(v2).with_outgoing(),\n",
    ")\n",
    "\n",
    "#auto_label(fd.propagators + fd.legs,label_type=LabelType.UNICODE)\n",
    "fd = auto_position(fd)\n",
    "fd = scale_positions(fd,10)\n",
    "MadgraphRender(fd).render(file=\"demo\")"
   ]
  },
  {
   "cell_type": "code",
   "execution_count": 3,
   "id": "5060382d-34ca-4d23-862b-0deddc422fb0",
   "metadata": {},
   "outputs": [
    {
     "name": "stdout",
     "output_type": "stream",
     "text": [
      "FeynmanDiagram(id='FeynmanDiagram8', style=cssutils.css.CSSStyleDeclaration(cssText='layout: neato'), clazz=None, propagators=[Propagator(id='Propagator11', pdgid=22, name='gamma', type='photon', particle=<Particle: name=\"gamma\", pdgid=22, mass=0.0 MeV>, style=cssutils.css.CSSStyleDeclaration(cssText=''), clazz=None, label=None, momentum=None, source='Vertex9', target='Vertex10')], vertices=[Vertex(id='Vertex9', style=cssutils.css.CSSStyleDeclaration(cssText=''), clazz=None, x=23.745580847236866, y=10.798548657197792, z=None, label=None, shape=None), Vertex(id='Vertex10', style=cssutils.css.CSSStyleDeclaration(cssText=''), clazz=None, x=35.233827451466844, y=10.77249891459406, z=None, label=None, shape=None)], legs=[Leg(id='Leg12', pdgid=1, name='d', type='fermion', particle=<Particle: name=\"d\", pdgid=1, mass=4.67 + 0.50 - 0.20 MeV>, style=cssutils.css.CSSStyleDeclaration(cssText=''), clazz=None, label=None, momentum=None, target='Vertex9', x=5.343608509582585, y=2.7910438504000497, z=None, shape=None, sense='incoming', external=None), Leg(id='Leg13', pdgid=1, name='d', type='fermion', particle=<Particle: name=\"d\", pdgid=1, mass=4.67 + 0.50 - 0.20 MeV>, style=cssutils.css.CSSStyleDeclaration(cssText=''), clazz=None, label=None, momentum=None, target='Vertex9', x=5.343608509582585, y=25.119394653600445, z=None, shape=None, sense='incoming', external=None), Leg(id='Leg14', pdgid=11, name='e-', type='fermion', particle=<Particle: name=\"e-\", pdgid=11, mass=0.51099895000 ± 0.00000000015 MeV>, style=cssutils.css.CSSStyleDeclaration(cssText=''), clazz=None, label=None, momentum=None, target='Vertex10', x=50.0, y=2.7910438504000497, z=None, shape=None, sense='outgoing', external=None), Leg(id='Leg15', pdgid=11, name='e-', type='fermion', particle=<Particle: name=\"e-\", pdgid=11, mass=0.51099895000 ± 0.00000000015 MeV>, style=cssutils.css.CSSStyleDeclaration(cssText=''), clazz=None, label=None, momentum=None, target='Vertex10', x=50.0, y=25.119394653600445, z=None, shape=None, sense='outgoing', external=None)], sheet=cssutils.css.CSSStyleSheet(href=None, media=None, title=None))\n"
     ]
    }
   ],
   "source": [
    "print(fd)"
   ]
  },
  {
   "cell_type": "code",
   "execution_count": null,
   "id": "168f11ab-65fa-4147-bd3d-1158d3041a11",
   "metadata": {},
   "outputs": [],
   "source": []
  }
 ],
 "metadata": {
  "kernelspec": {
   "display_name": "Python 3 (ipykernel)",
   "language": "python",
   "name": "python3"
  },
  "language_info": {
   "codemirror_mode": {
    "name": "ipython",
    "version": 3
   },
   "file_extension": ".py",
   "mimetype": "text/x-python",
   "name": "python",
   "nbconvert_exporter": "python",
   "pygments_lexer": "ipython3",
   "version": "3.11.5"
  }
 },
 "nbformat": 4,
 "nbformat_minor": 5
}
