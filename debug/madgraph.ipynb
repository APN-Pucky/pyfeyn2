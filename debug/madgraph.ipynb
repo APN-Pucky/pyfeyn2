{
 "cells": [
  {
   "cell_type": "code",
   "execution_count": 1,
   "id": "0979974d-ce8f-4ebb-8653-62335681e221",
   "metadata": {},
   "outputs": [],
   "source": [
    "import pyfeyn2\n",
    "from feynml import *\n",
    "from pyfeyn2.render.eps.madgraph import MadgraphRender\n",
    "\n",
    "from pyfeyn2.auto.label import auto_label, LabelType\n",
    "from pyfeyn2.auto.position import auto_position,scale_positions"
   ]
  },
  {
   "cell_type": "code",
   "execution_count": 2,
   "id": "3a08b0f2-2131-4811-8486-c0a03cecd126",
   "metadata": {},
   "outputs": [
    {
     "data": {
      "image/png": "[encoded data removed]",
      "text/plain": [
       "<wand.image.Image: 364df54 'PDF' (139x139)>"
      ]
     },
     "metadata": {},
     "output_type": "display_data"
    },
    {
     "data": {
      "image/png": "[encoded data removed]",
      "text/plain": [
       "<wand.image.Image: 364df54 'PDF' (139x139)>"
      ]
     },
     "execution_count": 2,
     "metadata": {},
     "output_type": "execute_result"
    }
   ],
   "source": [
    "\n",
    "\n",
    "fd = FeynmanDiagram().add(\n",
    "    v1 := Vertex(),\n",
    "    v2 := Vertex(),\n",
    "    Propagator(pdgid=22).connect(v1,v2),\n",
    "    Leg(pdgid=1,target=v1,sense='incoming'),\n",
    "    Leg(pdgid=1,target=v1).with_incoming(),\n",
    "    Leg(pdgid=11,sense='outgoing').with_target(v2),\n",
    "    Leg(pdgid=11).with_target(v2).with_outgoing(),\n",
    ")\n",
    "\n",
    "#auto_label(fd.propagators + fd.legs,label_type=LabelType.UNICODE)\n",
    "fd = auto_position(fd)\n",
    "fd = scale_positions(fd,10)\n",
    "MadgraphRender(fd).render(file=\"demo\")"
   ]
  },
  {
   "cell_type": "code",
   "execution_count": 3,
   "id": "5060382d-34ca-4d23-862b-0deddc422fb0",
   "metadata": {},
   "outputs": [
    {
     "name": "stdout",
     "output_type": "stream",
     "text": [
      "FeynmanDiagram(id='FeynmanDiagram8', style=cssutils.css.CSSStyleDeclaration(cssText='layout: neato'), clazz=None, propagators=[Propagator(id='Propagator11', pdgid=22, name='gamma', type='photon', particle=<Particle: name=\"gamma\", pdgid=22, mass=0.0 MeV>, style=cssutils.css.CSSStyleDeclaration(cssText=''), clazz=None, label=None, momentum=None, source='Vertex9', target='Vertex10')], vertices=[Vertex(id='Vertex9', style=cssutils.css.CSSStyleDeclaration(cssText=''), clazz=None, x=23.745580847236866, y=10.798548657197792, z=None, label=None, shape=None), Vertex(id='Vertex10', style=cssutils.css.CSSStyleDeclaration(cssText=''), clazz=None, x=35.233827451466844, y=10.77249891459406, z=None, label=None, shape=None)], legs=[Leg(id='Leg12', pdgid=1, name='d', type='fermion', particle=<Particle: name=\"d\", pdgid=1, mass=4.67 + 0.50 - 0.20 MeV>, style=cssutils.css.CSSStyleDeclaration(cssText=''), clazz=None, label=None, momentum=None, target='Vertex9', x=5.343608509582585, y=2.7910438504000497, z=None, shape=None, sense='incoming', external=None), Leg(id='Leg13', pdgid=1, name='d', type='fermion', particle=<Particle: name=\"d\", pdgid=1, mass=4.67 + 0.50 - 0.20 MeV>, style=cssutils.css.CSSStyleDeclaration(cssText=''), clazz=None, label=None, momentum=None, target='Vertex9', x=5.343608509582585, y=25.119394653600445, z=None, shape=None, sense='incoming', external=None), Leg(id='Leg14', pdgid=11, name='e-', type='fermion', particle=<Particle: name=\"e-\", pdgid=11, mass=0.51099895000 ± 0.00000000015 MeV>, style=cssutils.css.CSSStyleDeclaration(cssText=''), clazz=None, label=None, momentum=None, target='Vertex10', x=50.0, y=2.7910438504000497, z=None, shape=None, sense='outgoing', external=None), Leg(id='Leg15', pdgid=11, name='e-', type='fermion', particle=<Particle: name=\"e-\", pdgid=11, mass=0.51099895000 ± 0.00000000015 MeV>, style=cssutils.css.CSSStyleDeclaration(cssText=''), clazz=None, label=None, momentum=None, target='Vertex10', x=50.0, y=25.119394653600445, z=None, shape=None, sense='outgoing', external=None)], sheet=cssutils.css.CSSStyleSheet(href=None, media=None, title=None))\n"
     ]
    }
   ],
   "source": [
    "print(fd)"
   ]
  },
  {
   "cell_type": "code",
   "execution_count": 4,
   "id": "168f11ab-65fa-4147-bd3d-1158d3041a11",
   "metadata": {},
   "outputs": [
    {
     "name": "stderr",
     "output_type": "stream",
     "text": [
      "/home/apn/git/feynml/feynml/pdgid.py:101: UserWarning: Type fermion is not consistent with pdgid -11, which is anti fermion. Using fermion now.\n",
      "  warnings.warn(\n",
      "/home/apn/git/feynml/feynml/pdgid.py:101: UserWarning: Type photon is not consistent with pdgid 23, which is boson. Using photon now.\n",
      "  warnings.warn(\n"
     ]
    }
   ],
   "source": [
    "from pyfeyn2.interface.eps import eps_to_feynml\n",
    "fml = eps_to_feynml(\"../tests/interface/lo.ps\")"
   ]
  },
  {
   "cell_type": "code",
   "execution_count": 5,
   "id": "4e9f78ab-3bfa-4976-8da3-c95feea94aaf",
   "metadata": {},
   "outputs": [
    {
     "name": "stdout",
     "output_type": "stream",
     "text": [
      "FeynmanDiagram(id='FeynmanDiagram16', style=cssutils.css.CSSStyleDeclaration(cssText=''), clazz=None, propagators=[Propagator(id=9, pdgid=22, name='gamma', type='photon', particle=<Particle: name=\"gamma\", pdgid=22, mass=0.0 MeV>, style=cssutils.css.CSSStyleDeclaration(cssText=''), clazz=None, label=None, momentum=None, source=7, target=2)], vertices=[Vertex(id=2, style=cssutils.css.CSSStyleDeclaration(cssText=''), clazz=None, x=141.66667, y=635.0, z=None, label=None, shape=None), Vertex(id=7, style=cssutils.css.CSSStyleDeclaration(cssText=''), clazz=None, x=208.33333, y=635.0, z=None, label=None, shape=None)], legs=[Leg(id=3, pdgid=2, name='u', type='fermion', particle=<Particle: name=\"u\", pdgid=2, mass=2.2 + 0.5 - 0.3 MeV>, style=cssutils.css.CSSStyleDeclaration(cssText=''), clazz=None, label=None, momentum=None, target=2, x=75.0, y=560.0, z=None, shape=None, sense='incoming', external=None), Leg(id=6, pdgid=-2, name='u~', type='anti fermion', particle=<Particle: name=\"u~\", pdgid=-2, mass=2.2 + 0.5 - 0.3 MeV>, style=cssutils.css.CSSStyleDeclaration(cssText=''), clazz=None, label=None, momentum=None, target=2, x=75.0, y=710.0, z=None, shape=None, sense='incoming', external=None), Leg(id=12, pdgid=-11, name='e+', type='fermion', particle=<Particle: name=\"e+\", pdgid=-11, mass=0.51099895000 ± 0.00000000015 MeV>, style=cssutils.css.CSSStyleDeclaration(cssText=''), clazz=None, label=None, momentum=None, target=7, x=263.80335, y=572.59623, z=None, shape=None, sense='outgoing', external=None), Leg(id=15, pdgid=11, name='e-', type='fermion', particle=<Particle: name=\"e-\", pdgid=11, mass=0.51099895000 ± 0.00000000015 MeV>, style=cssutils.css.CSSStyleDeclaration(cssText=''), clazz=None, label=None, momentum=None, target=7, x=263.80335, y=697.40377, z=None, shape=None, sense='outgoing', external=None)], sheet=cssutils.css.CSSStyleSheet(href=None, media=None, title=None))\n"
     ]
    }
   ],
   "source": [
    "print(fml.diagrams[0])"
   ]
  },
  {
   "cell_type": "code",
   "execution_count": 6,
   "id": "87190711-3a2d-4e8e-abf3-704a3e3e5514",
   "metadata": {},
   "outputs": [
    {
     "data": {
      "text/plain": [
       "[Leg(id=3, pdgid=2, name='u', type='fermion', particle=<Particle: name=\"u\", pdgid=2, mass=2.2 + 0.5 - 0.3 MeV>, style=cssutils.css.CSSStyleDeclaration(cssText=''), clazz=None, label=None, momentum=None, target=2, x=75.0, y=560.0, z=None, shape=None, sense='incoming', external=None),\n",
       " Leg(id=6, pdgid=-2, name='u~', type='anti fermion', particle=<Particle: name=\"u~\", pdgid=-2, mass=2.2 + 0.5 - 0.3 MeV>, style=cssutils.css.CSSStyleDeclaration(cssText=''), clazz=None, label=None, momentum=None, target=2, x=75.0, y=710.0, z=None, shape=None, sense='incoming', external=None),\n",
       " Leg(id=12, pdgid=-11, name='e+', type='fermion', particle=<Particle: name=\"e+\", pdgid=-11, mass=0.51099895000 ± 0.00000000015 MeV>, style=cssutils.css.CSSStyleDeclaration(cssText=''), clazz=None, label=None, momentum=None, target=7, x=263.80335, y=572.59623, z=None, shape=None, sense='outgoing', external=None),\n",
       " Leg(id=15, pdgid=11, name='e-', type='fermion', particle=<Particle: name=\"e-\", pdgid=11, mass=0.51099895000 ± 0.00000000015 MeV>, style=cssutils.css.CSSStyleDeclaration(cssText=''), clazz=None, label=None, momentum=None, target=7, x=263.80335, y=697.40377, z=None, shape=None, sense='outgoing', external=None)]"
      ]
     },
     "execution_count": 6,
     "metadata": {},
     "output_type": "execute_result"
    }
   ],
   "source": [
    "fml.diagrams[0].legs"
   ]
  },
  {
   "cell_type": "code",
   "execution_count": 7,
   "id": "dcd4e070-61f4-424e-803f-f9cbfd18c9c0",
   "metadata": {},
   "outputs": [
    {
     "data": {
      "text/plain": [
       "[Propagator(id=9, pdgid=22, name='gamma', type='photon', particle=<Particle: name=\"gamma\", pdgid=22, mass=0.0 MeV>, style=cssutils.css.CSSStyleDeclaration(cssText=''), clazz=None, label=None, momentum=None, source=7, target=2)]"
      ]
     },
     "execution_count": 7,
     "metadata": {},
     "output_type": "execute_result"
    }
   ],
   "source": [
    "fml.diagrams[0].propagators"
   ]
  },
  {
   "cell_type": "code",
   "execution_count": 8,
   "id": "671b6960-054e-4e42-8c27-d7d9c549385a",
   "metadata": {},
   "outputs": [
    {
     "data": {
      "text/plain": [
       "[Vertex(id=2, style=cssutils.css.CSSStyleDeclaration(cssText=''), clazz=None, x=141.66667, y=635.0, z=None, label=None, shape=None),\n",
       " Vertex(id=7, style=cssutils.css.CSSStyleDeclaration(cssText=''), clazz=None, x=208.33333, y=635.0, z=None, label=None, shape=None)]"
      ]
     },
     "execution_count": 8,
     "metadata": {},
     "output_type": "execute_result"
    }
   ],
   "source": [
    "fml.diagrams[0].vertices"
   ]
  },
  {
   "cell_type": "code",
   "execution_count": 9,
   "id": "33b388c0-d0d9-4567-826c-008c3ce0a2e6",
   "metadata": {},
   "outputs": [
    {
     "data": {
      "image/png": "[encoded data removed]",
      "text/plain": [
       "<wand.image.Image: 9dd6f05 'PDF' (75x60)>"
      ]
     },
     "metadata": {},
     "output_type": "display_data"
    },
    {
     "data": {
      "image/png": "[encoded data removed]",
      "text/plain": [
       "<wand.image.Image: 9dd6f05 'PDF' (75x60)>"
      ]
     },
     "execution_count": 9,
     "metadata": {},
     "output_type": "execute_result"
    }
   ],
   "source": [
    "from pyfeyn2.render.latex.tikzfeynman import TikzFeynmanRender\n",
    "TikzFeynmanRender(scale_positions(fml.diagrams[0],1./100.)).render()"
   ]
  },
  {
   "cell_type": "code",
   "execution_count": 10,
   "id": "bd229dbb-4ab3-4ec0-8af5-dfc07695a9b1",
   "metadata": {},
   "outputs": [
    {
     "data": {
      "image/png": "[encoded data removed]",
      "text/plain": [
       "<wand.image.Image: 5415e00 'PDF' (75x60)>"
      ]
     },
     "metadata": {},
     "output_type": "display_data"
    },
    {
     "data": {
      "image/png": "[encoded data removed]",
      "text/plain": [
       "<wand.image.Image: 5415e00 'PDF' (75x60)>"
      ]
     },
     "execution_count": 10,
     "metadata": {},
     "output_type": "execute_result"
    }
   ],
   "source": [
    "TikzFeynmanRender(scale_positions(fml.diagrams[1],1./100.)).render()"
   ]
  },
  {
   "cell_type": "code",
   "execution_count": 11,
   "id": "dbbea9cd-d293-4249-9eb9-f0439bd75e44",
   "metadata": {},
   "outputs": [
    {
     "data": {
      "image/png": "[encoded data removed]",
      "text/plain": [
       "<wand.image.Image: 9f923ad 'PDF' (394x394)>"
      ]
     },
     "metadata": {},
     "output_type": "display_data"
    }
   ],
   "source": [
    "fml.diagrams[0]"
   ]
  },
  {
   "cell_type": "code",
   "execution_count": null,
   "id": "37c81232-2b0b-4c8a-b59b-80aed3503152",
   "metadata": {},
   "outputs": [],
   "source": []
  }
 ],
 "metadata": {
  "kernelspec": {
   "display_name": "Python 3 (ipykernel)",
   "language": "python",
   "name": "python3"
  },
  "language_info": {
   "codemirror_mode": {
    "name": "ipython",
    "version": 3
   },
   "file_extension": ".py",
   "mimetype": "text/x-python",
   "name": "python",
   "nbconvert_exporter": "python",
   "pygments_lexer": "ipython3",
   "version": "3.11.5"
  }
 },
 "nbformat": 4,
 "nbformat_minor": 5
}
