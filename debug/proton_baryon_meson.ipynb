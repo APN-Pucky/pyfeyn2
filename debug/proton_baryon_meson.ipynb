{
 "cells": [
  {
   "cell_type": "code",
   "execution_count": 1,
   "id": "4526ae87-9b7e-4cab-be7c-62c4b10d7c99",
   "metadata": {},
   "outputs": [
    {
     "name": "stdout",
     "output_type": "stream",
     "text": [
      "\n",
      "\tPlease cite the following papers if you use this code:\n",
      "\n",
      "      [1] Automatic Feynman graph generation J. Comput. Phys. 105 (1993) 279--289 https://doi.org/10.1006/jcph.1993.1074\n",
      "\n",
      "      [2] Abusing Qgraf Nucl. Instrum. Methods Phys. Res. A 559 (2006) 220--223 https://doi.org/10.1016/j.nima.2005.11.151\n",
      "\n",
      "      [3] Feynman graph generation and propagator mixing, I Comput. Phys. Commun. 269 (2021) 108103 https://doi.org/10.1016/j.cpc.2021.108103\n",
      "\n",
      "\t\n"
     ]
    }
   ],
   "source": [
    "import pyfeyn2\n",
    "from feynml import *\n",
    "# import renders\n",
    "from pyfeyn2.render.latex.tikzfeynman import TikzFeynmanRender\n",
    "from pyfeyn2.render.all import AllRender\n",
    "from pyfeyn2.render.text.ascii import ASCIIRender\n",
    "from pyfeyn2.render.text.unicode import UnicodeRender\n",
    "# auto\n",
    "from pyfeyn2.auto.position import  auto_align_legs, scale_positions\n",
    "from pyfeyn2.auto.position import feynman_adjust_points\n",
    "from pyfeyn2.auto.label import auto_label\n",
    "from pyfeyn2.auto.position import auto_align_legs,auto_grid\n",
    "from pyfeyn2.auto.position import auto_vdw,auto_grid\n",
    "from pyfeyn2.auto.bend import auto_bend\n",
    "# util\n",
    "import numpy as np\n",
    "from xsdata.formats.dataclass.parsers import XmlParser\n",
    "from pyqgraf import qgraf, model\n",
    "from feynml.interface.qgraf import style"
   ]
  },
  {
   "cell_type": "code",
   "execution_count": 2,
   "id": "f4126da1-c09a-45e9-860f-342c333ec9af",
   "metadata": {},
   "outputs": [
    {
     "data": {
      "image/png": "[encoded data removed]",
      "text/plain": [
       "<wand.image.Image: 82b216c 'PDF' (593x427)>"
      ]
     },
     "metadata": {},
     "output_type": "display_data"
    }
   ],
   "source": [
    "fd = FeynmanDiagram().add(\n",
    "    v1 := Vertex().with_xy(5,0),\n",
    "    v2 := Vertex().with_xy(10,0),\n",
    "    v3 := Vertex().with_xy(5,+5).with_shape('blob'),\n",
    "    v4 := Vertex().with_xy(5,-5).with_shape('blob'),\n",
    "    Propagator(pdgid=23).connect(v1,v2),\n",
    "    Propagator(pdgid=-2).connect(v1,v3),\n",
    "    Propagator(pdgid=2).connect(v1,v4),\n",
    "    Leg(pdgid=2212,target=v3,sense='incoming').with_xy(0,5),\n",
    "    Leg(pdgid=-2212,target=v4).with_incoming().with_xy(0,-5),\n",
    "    Leg(pdgid=11,sense='outgoing').with_target(v2).with_xy(15,1),\n",
    "    Leg(pdgid=-11).with_target(v2).with_outgoing().with_xy(15,-1).with_color('green'),\n",
    "    Leg(pdgid=2,sense='outgoing').with_target(v3).with_xy(15,+5).with_color('blue'),\n",
    "    Leg(pdgid=2,sense='outgoing').with_target(v3).with_xy(15,+3).with_color('blue'),\n",
    "    Leg(pdgid=-2).with_target(v4).with_outgoing().with_xy(15,-5).with_color('red'),\n",
    "    Leg(pdgid=1).with_target(v4).with_outgoing().with_xy(15,-3).with_color('red'),\n",
    ")\n",
    "fd.render(auto_position=False)"
   ]
  },
  {
   "cell_type": "code",
   "execution_count": 3,
   "id": "27b1d0cd-dc52-4d75-970e-336e95c41e32",
   "metadata": {},
   "outputs": [
    {
     "data": {
      "image/png": "[encoded data removed]",
      "text/plain": [
       "<wand.image.Image: 1d85073 'PDF' (593x430)>"
      ]
     },
     "metadata": {},
     "output_type": "display_data"
    }
   ],
   "source": [
    "fd = FeynmanDiagram().add(\n",
    "    v1 := Vertex().with_xy(5,0),\n",
    "    v2 := Vertex().with_xy(10,0),\n",
    "    v3 := Vertex().with_xy(5,+5).with_shape('blob'),\n",
    "    v4 := Vertex().with_xy(5,-5).with_shape('blob'),\n",
    "    Propagator(pdgid=23).connect(v1,v2),\n",
    "    Propagator(pdgid=-2).connect(v1,v3),\n",
    "    Propagator(pdgid=2).connect(v1,v4),\n",
    "    Leg(pdgid=111,target=v3,sense='incoming').with_xy(0,5),\n",
    "    Leg(pdgid=111,target=v4).with_incoming().with_xy(0,-5),\n",
    "    Leg(pdgid=11,sense='outgoing').with_target(v2).with_xy(15,1),\n",
    "    Leg(pdgid=-11).with_target(v2).with_outgoing().with_xy(15,-1).with_color('green'),\n",
    "    Leg(pdgid=2,sense='outgoing').with_target(v3).with_xy(15,+5).with_color('blue'),\n",
    "    Leg(pdgid=2,sense='outgoing').with_target(v3).with_xy(15,+3).with_color('blue'),\n",
    "    Leg(pdgid=-2).with_target(v4).with_outgoing().with_xy(15,-5).with_color('red'),\n",
    "    Leg(pdgid=1).with_target(v4).with_outgoing().with_xy(15,-3).with_color('red'),\n",
    ")\n",
    "fd.render(auto_position=False)"
   ]
  },
  {
   "cell_type": "code",
   "execution_count": null,
   "id": "4113eeca-e058-4499-bb47-557ebd364f22",
   "metadata": {},
   "outputs": [],
   "source": []
  }
 ],
 "metadata": {
  "kernelspec": {
   "display_name": "Python 3 (ipykernel)",
   "language": "python",
   "name": "python3"
  },
  "language_info": {
   "codemirror_mode": {
    "name": "ipython",
    "version": 3
   },
   "file_extension": ".py",
   "mimetype": "text/x-python",
   "name": "python",
   "nbconvert_exporter": "python",
   "pygments_lexer": "ipython3",
   "version": "3.11.5"
  }
 },
 "nbformat": 4,
 "nbformat_minor": 5
}
