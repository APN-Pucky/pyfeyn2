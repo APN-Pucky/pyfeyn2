{
 "cells": [
  {
   "cell_type": "code",
   "execution_count": 1,
   "id": "3d8b3bf5",
   "metadata": {},
   "outputs": [
    {
     "ename": "ModuleNotFoundError",
     "evalue": "No module named 'pyfeyn2'",
     "output_type": "error",
     "traceback": [
      "\u001b[0;31m---------------------------------------------------------------------------\u001b[0m",
      "\u001b[0;31mModuleNotFoundError\u001b[0m                       Traceback (most recent call last)",
      "Cell \u001b[0;32mIn[1], line 4\u001b[0m\n\u001b[1;32m      1\u001b[0m \u001b[38;5;28;01mimport\u001b[39;00m \u001b[38;5;21;01mpytest\u001b[39;00m\n\u001b[1;32m      2\u001b[0m \u001b[38;5;28;01mfrom\u001b[39;00m \u001b[38;5;21;01mmatplotlib\u001b[39;00m \u001b[38;5;28;01mimport\u001b[39;00m pyplot \u001b[38;5;28;01mas\u001b[39;00m plt\n\u001b[0;32m----> 4\u001b[0m \u001b[38;5;28;01mfrom\u001b[39;00m \u001b[38;5;21;01mpyfeyn2\u001b[39;00m\u001b[38;5;21;01m.\u001b[39;00m\u001b[38;5;21;01mfeynmandiagram\u001b[39;00m \u001b[38;5;28;01mimport\u001b[39;00m FeynmanDiagram, Leg, Propagator, Vertex\n\u001b[1;32m      5\u001b[0m \u001b[38;5;28;01mfrom\u001b[39;00m \u001b[38;5;21;01mpyfeyn2\u001b[39;00m\u001b[38;5;21;01m.\u001b[39;00m\u001b[38;5;21;01mrender\u001b[39;00m\u001b[38;5;21;01m.\u001b[39;00m\u001b[38;5;21;01mall\u001b[39;00m \u001b[38;5;28;01mimport\u001b[39;00m AllRender, renders\n\u001b[1;32m      6\u001b[0m \u001b[38;5;28;01mfrom\u001b[39;00m \u001b[38;5;21;01mpyfeyn2\u001b[39;00m\u001b[38;5;21;01m.\u001b[39;00m\u001b[38;5;21;01mrender\u001b[39;00m\u001b[38;5;21;01m.\u001b[39;00m\u001b[38;5;21;01mpyx\u001b[39;00m\u001b[38;5;21;01m.\u001b[39;00m\u001b[38;5;21;01mpyxrender\u001b[39;00m \u001b[38;5;28;01mimport\u001b[39;00m PyxRender\n",
      "\u001b[0;31mModuleNotFoundError\u001b[0m: No module named 'pyfeyn2'"
     ]
    }
   ],
   "source": [
    "import pytest\n",
    "from matplotlib import pyplot as plt\n",
    "\n",
    "from pyfeyn2.feynmandiagram import FeynmanDiagram, Leg, Propagator, Vertex\n",
    "from pyfeyn2.render.all import AllRender, renders\n",
    "from pyfeyn2.render.pyx.pyxrender import PyxRender\n",
    "from pyfeyn2.render.mpl.feynmanrender import FeynmanRender\n",
    "from smpl_io import io"
   ]
  },
  {
   "cell_type": "code",
   "execution_count": null,
   "id": "e65ca3f6",
   "metadata": {},
   "outputs": [],
   "source": [
    "FeynmanRender().demo_propagator(\"phantom\", show=True,label=\"hi\",file=\"tmp.pdf\")"
   ]
  },
  {
   "cell_type": "code",
   "execution_count": null,
   "id": "0a1a307c",
   "metadata": {},
   "outputs": [],
   "source": [
    "    fd = FeynmanDiagram()\n",
    "    v1 = Vertex(\"v1\").with_xy(-1, 0)\n",
    "    v2 = Vertex(\"v2\").with_xy(1, 0)\n",
    "    p1 = Propagator(\"p1\").connect(v1, v2).with_type(\"fermion\").with_style(\"momentum-arrow: true; momentum-arrow-sense: -1\")\n",
    "    l1 = Leg(\"l1\").with_target(v1).with_xy(-2, 1).with_type(\"fermion\").with_incoming()\n",
    "    l2 = Leg(\"l2\").with_target(v1).with_xy(-2, -1).with_type(\"fermion\").with_incoming()\n",
    "    l3 = Leg(\"l3\").with_target(v2).with_xy(2, 1).with_type(\"fermion\").with_outgoing()\n",
    "    l4 = Leg(\"l4\").with_target(v2).with_xy(2, -1).with_type(\"fermion\").with_outgoing()\n",
    "    p1.with_source(v1)\n",
    "    p1.with_target(v2)\n",
    "    fd.propagators.append(p1)\n",
    "    fd.vertices.extend([v1, v2])\n",
    "    fd.legs.extend([l1, l2, l3, l4])\n",
    "    PyxRender(fd).render(show=True)"
   ]
  },
  {
   "cell_type": "code",
   "execution_count": null,
   "id": "4e3023df",
   "metadata": {},
   "outputs": [],
   "source": []
  }
 ],
 "metadata": {
  "kernelspec": {
   "display_name": "Python 3 (ipykernel)",
   "language": "python",
   "name": "python3"
  },
  "language_info": {
   "codemirror_mode": {
    "name": "ipython",
    "version": 3
   },
   "file_extension": ".py",
   "mimetype": "text/x-python",
   "name": "python",
   "nbconvert_exporter": "python",
   "pygments_lexer": "ipython3",
   "version": "3.10.10"
  }
 },
 "nbformat": 4,
 "nbformat_minor": 5
}
