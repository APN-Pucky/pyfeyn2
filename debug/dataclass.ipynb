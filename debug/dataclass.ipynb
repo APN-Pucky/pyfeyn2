{
 "cells": [
  {
   "cell_type": "code",
   "execution_count": 22,
   "id": "b37dee2d",
   "metadata": {},
   "outputs": [],
   "source": [
    "from dataclasses import dataclass,field\n",
    "from typing import List, Optional, Union\n",
    "import inspect"
   ]
  },
  {
   "cell_type": "code",
   "execution_count": 26,
   "id": "1236f354",
   "metadata": {},
   "outputs": [],
   "source": [
    "def withify(prefix=\"with_\",sufix=\"\"):\n",
    "    def _withify(cls):\n",
    "        for k in cls().__dict__.keys():\n",
    "            def tmp(self,value):\n",
    "                self.__dict__[k]=value\n",
    "                return self\n",
    "            setattr(cls,prefix + k + sufix,tmp)\n",
    "            return cls\n",
    "    return _withify"
   ]
  },
  {
   "cell_type": "code",
   "execution_count": 34,
   "id": "d554d705",
   "metadata": {},
   "outputs": [
    {
     "name": "stdout",
     "output_type": "stream",
     "text": [
      "schbell\n",
      "flirp\n",
      "Test(name='flirp', text='schbell')\n"
     ]
    }
   ],
   "source": [
    "@withify(prefix=\"set_\")\n",
    "@dataclass\n",
    "class Test:\n",
    "    name: Optional[str] = field(default=\"schbell\", metadata={\"name\": \"name\", \"namespace\": \"\"})\n",
    "    text: Optional[str] = field(default=\"schbell\", metadata={\"name\": \"name\", \"namespace\": \"\"})\n",
    "        \n",
    "    def hi()-> None:\n",
    "        print(\"Hi\")\n",
    "\n",
    "t = Test()\n",
    "print(t.name) # schbell\n",
    "t.name = \"flirp\"\n",
    "print(t.name) # flirp\n",
    "print(t) # Test(_name='flirp')"
   ]
  },
  {
   "cell_type": "code",
   "execution_count": 35,
   "id": "f10b8d52",
   "metadata": {},
   "outputs": [
    {
     "data": {
      "text/plain": [
       "{'name': typing.Optional[str], 'text': typing.Optional[str]}"
      ]
     },
     "execution_count": 35,
     "metadata": {},
     "output_type": "execute_result"
    }
   ],
   "source": [
    "Test.__annotations__"
   ]
  },
  {
   "cell_type": "code",
   "execution_count": 5,
   "id": "c1410621",
   "metadata": {},
   "outputs": [],
   "source": [
    "@dataclass\n",
    "class Test:\n",
    "    name : str = \"test\"\n",
    "    \n",
    "    def name(self,v):\n",
    "        self.name = v\n",
    "        return self"
   ]
  },
  {
   "cell_type": "code",
   "execution_count": 6,
   "id": "5604c2f2",
   "metadata": {},
   "outputs": [],
   "source": [
    "t = Test()"
   ]
  },
  {
   "cell_type": "code",
   "execution_count": 7,
   "id": "e748524b",
   "metadata": {},
   "outputs": [
    {
     "data": {
      "text/plain": [
       "<function __main__.Test.name(self, v)>"
      ]
     },
     "execution_count": 7,
     "metadata": {},
     "output_type": "execute_result"
    }
   ],
   "source": [
    "t.name"
   ]
  },
  {
   "cell_type": "code",
   "execution_count": null,
   "id": "71d8a8db",
   "metadata": {},
   "outputs": [],
   "source": []
  }
 ],
 "metadata": {
  "kernelspec": {
   "display_name": "Python 3 (ipykernel)",
   "language": "python",
   "name": "python3"
  },
  "language_info": {
   "codemirror_mode": {
    "name": "ipython",
    "version": 3
   },
   "file_extension": ".py",
   "mimetype": "text/x-python",
   "name": "python",
   "nbconvert_exporter": "python",
   "pygments_lexer": "ipython3",
   "version": "3.9.16"
  }
 },
 "nbformat": 4,
 "nbformat_minor": 5
}
