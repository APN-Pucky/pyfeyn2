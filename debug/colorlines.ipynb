{
 "cells": [
  {
   "cell_type": "code",
   "execution_count": 1,
   "id": "fdf0d2c2-e109-422c-bf6a-7a5d9d6159e8",
   "metadata": {},
   "outputs": [
    {
     "name": "stdout",
     "output_type": "stream",
     "text": [
      "\n",
      "\tPlease cite the following papers if you use this code:\n",
      "\n",
      "      [1] Automatic Feynman graph generation J. Comput. Phys. 105 (1993) 279--289 https://doi.org/10.1006/jcph.1993.1074\n",
      "\n",
      "      [2] Abusing Qgraf Nucl. Instrum. Methods Phys. Res. A 559 (2006) 220--223 https://doi.org/10.1016/j.nima.2005.11.151\n",
      "\n",
      "      [3] Feynman graph generation and propagator mixing, I Comput. Phys. Commun. 269 (2021) 108103 https://doi.org/10.1016/j.cpc.2021.108103\n",
      "\n",
      "\t\n"
     ]
    }
   ],
   "source": [
    "import pyfeyn2\n",
    "from feynml import *\n",
    "# import renders\n",
    "from pyfeyn2.render.latex.tikzfeynman import TikzFeynmanRender\n",
    "from pyfeyn2.render.all import AllRender\n",
    "from pyfeyn2.render.text.ascii import ASCIIRender\n",
    "from pyfeyn2.render.text.unicode import UnicodeRender\n",
    "# auto\n",
    "from pyfeyn2.auto.position import  auto_align_legs, scale_positions\n",
    "from pyfeyn2.auto.position import feynman_adjust_points\n",
    "from pyfeyn2.auto.label import auto_label\n",
    "from pyfeyn2.auto.position import auto_align_legs,auto_grid\n",
    "from pyfeyn2.auto.position import auto_vdw,auto_grid\n",
    "from pyfeyn2.auto.bend import auto_bend\n",
    "# util\n",
    "import numpy as np\n",
    "from xsdata.formats.dataclass.parsers import XmlParser\n",
    "from pyqgraf import qgraf, model\n",
    "from feynml.interface.qgraf import style"
   ]
  },
  {
   "cell_type": "code",
   "execution_count": 32,
   "id": "0b00aa6f-aabd-479c-a91b-aeeb82dea7d8",
   "metadata": {},
   "outputs": [
    {
     "data": {
      "image/png": "[encoded data removed]",
      "text/plain": [
       "<wand.image.Image: caf6129 'PDF' (131x140)>"
      ]
     },
     "metadata": {},
     "output_type": "display_data"
    },
    {
     "data": {
      "image/png": "[encoded data removed]",
      "text/plain": [
       "<wand.image.Image: caf6129 'PDF' (131x140)>"
      ]
     },
     "execution_count": 32,
     "metadata": {},
     "output_type": "execute_result"
    }
   ],
   "source": [
    "fd = FeynmanDiagram().add(\n",
    "    # Define the vertices\n",
    "    v1 := Vertex().with_xy(0,0),\n",
    "   #v1 := Vertex(text=\"AAAAAAAAA\").with_xy(0,0),\n",
    "    # Incoming and outgoing photons\n",
    "    Leg(pdgid=2, sense='incoming',text=r\"$i_1$\").with_target(v1).with_rphi(5,0*2*np.pi+2/3*np.pi),#.with_momentum(Momentum(\"$p_1$\")).with_style(\"momentum-arrow: true\"),\n",
    "    Leg(pdgid=-2, sense='incoming',text=r\"$j_2$\").with_target(v1).with_rphi(5,1/3*2*np.pi+2/3*np.pi),#.with_momentum(Momentum(\"$p_2$\")).with_style(\"momentum-arrow: true\"),\n",
    "    Leg(pdgid=21, sense='incoming',text=r\"$^{j_3}_{i_3}\\mu_3$\").with_target(v1).with_rphi(5,2/3*2*np.pi+2/3*np.pi),#.with_momentum(Momentum(\"$p_3$\")).with_style(\"momentum-arrow: true\"),\n",
    ")\n",
    "# Scale the diagram for better visibility\n",
    "scale_positions(fd, 0.35)\n",
    "\n",
    "# Render the diagram as a TikZ output\n",
    "#auto_label([*fd.propagators, *fd.legs])\n",
    "TikzFeynmanRender(fd).render(show=True,file=\"/home/apn/git/phd/thesis/tex/chapters/compute/nlo/feynman/colourlines/f_qqg\")\n",
    "#fd.render(auto_position=False, auto_bend=False, render=\"tikz\", "
   ]
  },
  {
   "cell_type": "code",
   "execution_count": 33,
   "id": "439616ca-83cf-45b6-95fe-9b827e2ed0ec",
   "metadata": {},
   "outputs": [
    {
     "data": {
      "image/png": "[encoded data removed]",
      "text/plain": [
       "<wand.image.Image: ba76fea 'PDF' (124x140)>"
      ]
     },
     "metadata": {},
     "output_type": "display_data"
    },
    {
     "data": {
      "image/png": "[encoded data removed]",
      "text/plain": [
       "<wand.image.Image: ba76fea 'PDF' (124x140)>"
      ]
     },
     "execution_count": 33,
     "metadata": {},
     "output_type": "execute_result"
    }
   ],
   "source": [
    "l3 = Leg(pdgid=21, sense='incoming',text=r\"$^{j_g}_{i_g}\\mu_g$\").with_target(v1).with_rphi(5,2/3*2*np.pi+2/3*np.pi)\n",
    "fd = FeynmanDiagram().add(\n",
    "    # Define the vertices\n",
    "    v1 := Vertex().with_xy(0,0.5),\n",
    "    v2 := Vertex().with_xy(0,-0.5),\n",
    "   #v1 := Vertex(text=\"AAAAAAAAA\").with_xy(0,0),\n",
    "    # Incoming and outgoing photons\n",
    "    l1 := Leg(pdgid=2, sense='incoming',text=r\"$i_1$\").with_target(v1).with_rphi(5,0*2*np.pi+2/3*np.pi),#.with_momentum(Momentum(\"$p_1$\")).with_style(\"momentum-arrow: true\"),\n",
    "    l2 := Leg(pdgid=-2, sense='incoming',text=r\"$j_2$\").with_target(v2).with_rphi(5,1/3*2*np.pi+2/3*np.pi),#.with_momentum(Momentum(\"$p_2$\")).with_style(\"momentum-arrow: true\"),\n",
    "    l4 := Leg(pdgid=-2, sense='incoming',text=r\"$j_3$\").with_target(v1).with_xy(l3.x,l3.y+0.5),\n",
    "    l4 := Leg(pdgid=2, sense='incoming',text=r\"$i_3$\").with_target(v2).with_xy(l3.x,l3.y-0.5),\n",
    "    #Leg(pdgid=21, sense='incoming',text=r\"$^{j_g}_{i_g}\\mu_g$\").with_target(v1).with_rphi(10,2/3*2*np.pi+2/3*np.pi),#.with_momentum(Momentum(\"$p_3$\")).with_style(\"momentum-arrow: true\"),\n",
    ")\n",
    "# Scale the diagram for better visibility\n",
    "scale_positions(fd, 0.35)\n",
    "\n",
    "# Render the diagram as a TikZ output\n",
    "#auto_label([*fd.propagators, *fd.legs])\n",
    "TikzFeynmanRender(fd).render(show=True,file=\"/home/apn/git/phd/thesis/tex/chapters/compute/nlo/feynman/colourlines/c_qqg\")\n",
    "#fd.render(auto_position=False, auto_bend=False, render=\"tikz\", "
   ]
  },
  {
   "cell_type": "code",
   "execution_count": 66,
   "id": "3038316b-1bf8-4ec9-b3f8-05fd40b437bc",
   "metadata": {},
   "outputs": [
    {
     "data": {
      "image/png": "[encoded data removed]",
      "text/plain": [
       "<wand.image.Image: 762337d 'PDF' (138x147)>"
      ]
     },
     "metadata": {},
     "output_type": "display_data"
    },
    {
     "data": {
      "image/png": "[encoded data removed]",
      "text/plain": [
       "<wand.image.Image: 762337d 'PDF' (138x147)>"
      ]
     },
     "execution_count": 66,
     "metadata": {},
     "output_type": "execute_result"
    }
   ],
   "source": [
    "fd = FeynmanDiagram().add(\n",
    "    # Define the vertices\n",
    "    v1 := Vertex().with_xy(0,0),\n",
    "   #v1 := Vertex(text=\"AAAAAAAAA\").with_xy(0,0),\n",
    "    # Incoming and outgoing photons\n",
    "    Leg(pdgid=21, sense='outgoing',text=r\"$^{j_1}_{i_1}\\mu_1$\").with_target(v1).with_rphi(5,0*2*np.pi+2/3*np.pi).with_momentum(Momentum(\"$p_1$\")).with_style(\"momentum-arrow: true\"),\n",
    "    Leg(pdgid=21, sense='outgoing',text=r\"$^{j_2}_{i_2}\\mu_2$\").with_target(v1).with_rphi(5,1/3*2*np.pi+2/3*np.pi).with_momentum(Momentum(\"$p_2$\")).with_style(\"momentum-arrow: true\"),\n",
    "    Leg(pdgid=21, sense='outgoing',text=r\"$^{j_3}_{i_3}\\mu_3$\").with_target(v1).with_rphi(5,2/3*2*np.pi+2/3*np.pi).with_momentum(Momentum(\"$p_3$\")).with_style(\"momentum-arrow: true\"),\n",
    ")\n",
    "# Scale the diagram for better visibility\n",
    "scale_positions(fd, 0.35)\n",
    "\n",
    "# Render the diagram as a TikZ output\n",
    "#auto_label([*fd.propagators, *fd.legs])\n",
    "TikzFeynmanRender(fd).render(show=True,file=\"/home/apn/git/phd/thesis/tex/chapters/compute/nlo/feynman/colourlines/f_ggg\")\n",
    "#fd.render(auto_position=False, auto_bend=False, render=\"tikz\", "
   ]
  },
  {
   "cell_type": "code",
   "execution_count": 35,
   "id": "b582d801-44b0-4f1e-9e6c-a127cfd6e414",
   "metadata": {},
   "outputs": [
    {
     "data": {
      "image/png": "[encoded data removed]",
      "text/plain": [
       "<wand.image.Image: 8778158 'PDF' (145x164)>"
      ]
     },
     "metadata": {},
     "output_type": "display_data"
    },
    {
     "data": {
      "image/png": "[encoded data removed]",
      "text/plain": [
       "<wand.image.Image: 8778158 'PDF' (145x164)>"
      ]
     },
     "execution_count": 35,
     "metadata": {},
     "output_type": "execute_result"
    }
   ],
   "source": [
    "\n",
    "fd = FeynmanDiagram().add(\n",
    "    # Define the vertices\n",
    "    v1 := Vertex().with_rphi(1,0*2*np.pi+2/3*np.pi+ np.pi),\n",
    "    v2 := Vertex().with_rphi(1,1/3*2*np.pi+2/3*np.pi+ np.pi),\n",
    "    v3 := Vertex().with_rphi(1,2/3*2*np.pi+2/3*np.pi+ np.pi),\n",
    "   #v1 := Vertex(text=\"AAAAAAAAA\").with_xy(0,0),\n",
    "    # Incoming and outgoing photons\n",
    "    Leg(pdgid=-2, sense='incoming',text=r\"$j_1$\").with_target(v2).with_point(v2).with_moved_rphi(5,0/3*2*np.pi+2/3*np.pi),\n",
    "    Leg(pdgid=2, sense='incoming',text=r\"$i_1$\").with_target(v3).with_point(v3).with_moved_rphi(5,0/3*2*np.pi+2/3*np.pi),\n",
    "    Leg(pdgid=-2, sense='incoming',text=r\"$j_2$\").with_target(v3).with_point(v3).with_moved_rphi(5,1/3*2*np.pi+2/3*np.pi),\n",
    "    Leg(pdgid=2, sense='incoming',text=r\"$i_2$\").with_target(v1).with_point(v1).with_moved_rphi(5,1/3*2*np.pi+2/3*np.pi),\n",
    "    Leg(pdgid=-2, sense='incoming',text=r\"$j_3$\").with_target(v1).with_point(v1).with_moved_rphi(5,2/3*2*np.pi+2/3*np.pi),\n",
    "    Leg(pdgid=2, sense='incoming',text=r\"$i_3$\").with_target(v2).with_point(v2).with_moved_rphi(5,2/3*2*np.pi+2/3*np.pi),\n",
    ")\n",
    "# Scale the diagram for better visibility\n",
    "scale_positions(fd, 0.35)\n",
    "\n",
    "# Render the diagram as a TikZ output\n",
    "#auto_label([*fd.propagators, *fd.legs])\n",
    "TikzFeynmanRender(fd).render(show=True,file=\"/home/apn/git/phd/thesis/tex/chapters/compute/nlo/feynman/colourlines/c_ggg_1\")\n",
    "#fd.render(auto_position=False, auto_bend=False, render=\"tikz\", "
   ]
  },
  {
   "cell_type": "code",
   "execution_count": 65,
   "id": "7448fc1f-09f4-44c8-bd1e-851d8d493c0e",
   "metadata": {},
   "outputs": [
    {
     "data": {
      "image/png": "[encoded data removed]",
      "text/plain": [
       "<wand.image.Image: 85c37e8 'PDF' (124x140)>"
      ]
     },
     "metadata": {},
     "output_type": "display_data"
    },
    {
     "data": {
      "image/png": "[encoded data removed]",
      "text/plain": [
       "<wand.image.Image: 85c37e8 'PDF' (124x140)>"
      ]
     },
     "execution_count": 65,
     "metadata": {},
     "output_type": "execute_result"
    }
   ],
   "source": [
    "\n",
    "fd = FeynmanDiagram().add(\n",
    "    # Define the vertices\n",
    "    v2 := Vertex().with_rphi(1,0*2*np.pi+2/3*np.pi+ 0*np.pi),\n",
    "    v1 := Vertex().with_rphi(1,1/3*2*np.pi+2/3*np.pi+ 0*np.pi),\n",
    "    v3 := Vertex().with_rphi(1,2/3*2*np.pi+2/3*np.pi+ 0*np.pi).with_moved_xy(0,0),\n",
    "   #v1 := Vertex(text=\"AAAAAAAAA\").with_xy(0,0),\n",
    "    # Incoming and outgoing photons\n",
    "    Leg(pdgid=-2, sense='incoming',text=r\"$j_2$\").with_target(v2).with_point(v2).with_moved_rphi(5,1/3*2*np.pi+2/3*np.pi),\n",
    "    Leg(pdgid=2, sense='incoming',text=r\"$i_2$\").with_target(v3).with_point(v3).with_moved_rphi(5,1/3*2*np.pi+2/3*np.pi),\n",
    "    Leg(pdgid=-2, sense='incoming',text=r\"$j_1$\").with_target(v3).with_point(v3).with_moved_rphi(5,0/3*2*np.pi+2/3*np.pi),\n",
    "    Leg(pdgid=2, sense='incoming',text=r\"$i_1$\").with_target(v1).with_point(v1).with_moved_rphi(5,0/3*2*np.pi+2/3*np.pi),\n",
    "    Leg(pdgid=-2, sense='incoming',text=r\"$j_3$\").with_target(v1).with_point(v1).with_moved_rphi(5,2/3*2*np.pi+2/3*np.pi),\n",
    "    Leg(pdgid=2, sense='incoming',text=r\"$i_3$\").with_target(v2).with_point(v2).with_moved_rphi(5,2/3*2*np.pi+2/3*np.pi),\n",
    ")\n",
    "# Scale the diagram for better visibility\n",
    "scale_positions(fd, 0.35)\n",
    "\n",
    "# Render the diagram as a TikZ output\n",
    "#auto_label([*fd.propagators, *fd.legs])\n",
    "TikzFeynmanRender(fd).render(show=True,file=\"/home/apn/git/phd/thesis/tex/chapters/compute/nlo/feynman/colourlines/c_ggg_2\")\n",
    "#fd.render(auto_position=False, auto_bend=False, render=\"tikz\", "
   ]
  },
  {
   "cell_type": "code",
   "execution_count": 59,
   "id": "3d0916cc-c24a-4ac2-bd67-1eec73f5d356",
   "metadata": {},
   "outputs": [
    {
     "data": {
      "image/png": "[encoded data removed]",
      "text/plain": [
       "<wand.image.Image: b4a2f0a 'PDF' (132x125)>"
      ]
     },
     "metadata": {},
     "output_type": "display_data"
    },
    {
     "data": {
      "image/png": "[encoded data removed]",
      "text/plain": [
       "<wand.image.Image: b4a2f0a 'PDF' (132x125)>"
      ]
     },
     "execution_count": 59,
     "metadata": {},
     "output_type": "execute_result"
    }
   ],
   "source": [
    "fd = FeynmanDiagram().add(\n",
    "    # Define the vertices\n",
    "    v1 := Vertex().with_xy(0,0),\n",
    "   #v1 := Vertex(text=\"AAAAAAAAA\").with_xy(0,0),\n",
    "    # Incoming and outgoing photons\n",
    "    Leg(pdgid=21, sense='incoming',text=r\"$^{j_1}_{i_1}\\mu_1$\").with_target(v1).with_rphi(5,0*2*np.pi+np.pi/4),#.with_momentum(Momentum(\"$p_1$\")).with_style(\"momentum-arrow: true\"),\n",
    "    Leg(pdgid=21, sense='incoming',text=r\"$^{j_4}_{i_4}\\mu_2$\").with_target(v1).with_rphi(5,1/4*2*np.pi+np.pi/4),#.with_momentum(Momentum(\"$p_2$\")).with_style(\"momentum-arrow: true\"),\n",
    "    Leg(pdgid=21, sense='incoming',text=r\"$^{j_3}_{i_3}\\mu_3$\").with_target(v1).with_rphi(5,2/4*2*np.pi+np.pi/4),#.with_momentum(Momentum(\"$p_3$\")).with_style(\"momentum-arrow: true\"),\n",
    "    Leg(pdgid=21, sense='incoming',text=r\"$^{j_2}_{i_2}\\mu_4$\").with_target(v1).with_rphi(5,3/4*2*np.pi+np.pi/4),#.with_momentum(Momentum(\"$p_4$\")).with_style(\"momentum-arrow: true\"),\n",
    "\n",
    ")\n",
    "# Scale the diagram for better visibility\n",
    "scale_positions(fd, 0.35)\n",
    "\n",
    "# Render the diagram as a TikZ output\n",
    "#auto_label([*fd.propagators, *fd.legs])\n",
    "TikzFeynmanRender(fd).render(show=True,file=\"/home/apn/git/phd/thesis/tex/chapters/compute/nlo/feynman/colourlines/f_gggg\")\n",
    "#fd.render(auto_position=False, auto_bend=False, render=\"tikz\", "
   ]
  },
  {
   "cell_type": "code",
   "execution_count": 53,
   "id": "2e68caba-c826-41a1-b720-34c404102d51",
   "metadata": {},
   "outputs": [
    {
     "data": {
      "image/png": "[encoded data removed]",
      "text/plain": [
       "<wand.image.Image: f958098 'PDF' (119x118)>"
      ]
     },
     "metadata": {},
     "output_type": "display_data"
    },
    {
     "data": {
      "image/png": "[encoded data removed]",
      "text/plain": [
       "<wand.image.Image: f958098 'PDF' (119x118)>"
      ]
     },
     "execution_count": 53,
     "metadata": {},
     "output_type": "execute_result"
    }
   ],
   "source": [
    "fd = FeynmanDiagram().add(\n",
    "    # Define the vertices\n",
    "    v1 := Vertex().with_rphi(1,0*2*np.pi),\n",
    "    v2 := Vertex().with_rphi(1,1/4*2*np.pi),\n",
    "    v3 := Vertex().with_rphi(1,2/4*2*np.pi),\n",
    "    v4 := Vertex().with_rphi(1,3/4*2*np.pi),\n",
    "\n",
    "    \n",
    "    #v1 := Vertex(text=\"AAAAAAAAA\").with_xy(0,0),\n",
    "    Leg(pdgid=2, sense='incoming',text=r\"$i_1$\").with_target(v4).with_point(v4).with_moved_rphi(5,0/4*2*np.pi+np.pi/4),\n",
    "    Leg(pdgid=-2, sense='incoming',text=r\"$j_2$\").with_target(v4).with_point(v4).with_moved_rphi(5,1/4*2*np.pi+np.pi/4),\n",
    "\n",
    "    Leg(pdgid=2, sense='incoming',text=r\"$i_2$\").with_target(v1).with_point(v1).with_moved_rphi(5,1/4*2*np.pi+np.pi/4),\n",
    "    Leg(pdgid=-2, sense='incoming',text=r\"$j_3$\").with_target(v1).with_point(v1).with_moved_rphi(5,2/4*2*np.pi+np.pi/4),\n",
    "\n",
    "    Leg(pdgid=2, sense='incoming',text=r\"$i_3$\").with_target(v2).with_point(v2).with_moved_rphi(5,2/4*2*np.pi+np.pi/4),\n",
    "    Leg(pdgid=-2, sense='incoming',text=r\"$j_4$\").with_target(v2).with_point(v2).with_moved_rphi(5,3/4*2*np.pi+np.pi/4),\n",
    "    \n",
    "    Leg(pdgid=2, sense='incoming',text=r\"$i_4$\").with_target(v3).with_point(v3).with_moved_rphi(5,3/4*2*np.pi+np.pi/4),\n",
    "    Leg(pdgid=-2, sense='incoming',text=r\"$j_1$\").with_target(v3).with_point(v3).with_moved_rphi(5,0/4*2*np.pi+np.pi/4),\n",
    "\n",
    "\n",
    "    \n",
    "    \n",
    "    \n",
    ")\n",
    "# Scale the diagram for better visibility\n",
    "scale_positions(fd, 0.35)\n",
    "\n",
    "# Render the diagram as a TikZ output\n",
    "#auto_label([*fd.propagators, *fd.legs])\n",
    "TikzFeynmanRender(fd).render(show=True,file=\"/home/apn/git/phd/thesis/tex/chapters/compute/nlo/feynman/colourlines/c_gggg_2\")\n",
    "#fd.render(auto_position=False, auto_bend=False, render=\"tikz\", "
   ]
  },
  {
   "cell_type": "code",
   "execution_count": 58,
   "id": "66d47f13-6f18-463b-98af-904b7a9e80df",
   "metadata": {},
   "outputs": [
    {
     "data": {
      "image/png": "[encoded data removed]",
      "text/plain": [
       "<wand.image.Image: 7603a4a 'PDF' (146x146)>"
      ]
     },
     "metadata": {},
     "output_type": "display_data"
    },
    {
     "data": {
      "image/png": "[encoded data removed]",
      "text/plain": [
       "<wand.image.Image: 7603a4a 'PDF' (146x146)>"
      ]
     },
     "execution_count": 58,
     "metadata": {},
     "output_type": "execute_result"
    }
   ],
   "source": [
    "fd = FeynmanDiagram().add(\n",
    "    # Define the vertices\n",
    "    v1 := Vertex().with_rphi(1,0*2*np.pi),\n",
    "    v2 := Vertex().with_rphi(1,1/4*2*np.pi),\n",
    "    v3 := Vertex().with_rphi(1,2/4*2*np.pi),\n",
    "    v4 := Vertex().with_rphi(1,3/4*2*np.pi),\n",
    "\n",
    "    \n",
    "    #v1 := Vertex(text=\"AAAAAAAAA\").with_xy(0,0),\n",
    "    Leg(pdgid=2, sense='incoming',text=r\"$i_1$\").with_target(v1).with_point(v1).with_moved_rphi(5,0/4*2*np.pi+np.pi/4),\n",
    "    Leg(pdgid=-2, sense='incoming',text=r\"$j_2$\").with_target(v1).with_point(v1).with_moved_rphi(5,3/4*2*np.pi+np.pi/4),\n",
    "\n",
    "    \n",
    "    Leg(pdgid=2, sense='incoming',text=r\"$i_2$\").with_target(v4).with_point(v4).with_moved_rphi(5,3/4*2*np.pi+np.pi/4),\n",
    "    Leg(pdgid=-2, sense='incoming',text=r\"$j_3$\").with_target(v4).with_point(v4).with_moved_rphi(5,2/4*2*np.pi+np.pi/4),\n",
    "\n",
    "    \n",
    "    Leg(pdgid=2, sense='incoming',text=r\"$i_3$\").with_target(v3).with_point(v3).with_moved_rphi(5,2/4*2*np.pi+np.pi/4),\n",
    "    Leg(pdgid=-2, sense='incoming',text=r\"$j_4$\").with_target(v3).with_point(v3).with_moved_rphi(5,1/4*2*np.pi+np.pi/4),\n",
    "\n",
    "    Leg(pdgid=2, sense='incoming',text=r\"$i_4$\").with_target(v2).with_point(v2).with_moved_rphi(5,1/4*2*np.pi+np.pi/4),\n",
    "    Leg(pdgid=-2, sense='incoming',text=r\"$j_1$\").with_target(v2).with_point(v2).with_moved_rphi(5,0/4*2*np.pi+np.pi/4),\n",
    "\n",
    "\n",
    "    \n",
    "    \n",
    "    \n",
    ")\n",
    "# Scale the diagram for better visibility\n",
    "scale_positions(fd, 0.35)\n",
    "\n",
    "# Render the diagram as a TikZ output\n",
    "#auto_label([*fd.propagators, *fd.legs])\n",
    "TikzFeynmanRender(fd).render(show=True,file=\"/home/apn/git/phd/thesis/tex/chapters/compute/nlo/feynman/colourlines/c_gggg_1\")\n",
    "#fd.render(auto_position=False, auto_bend=False, render=\"tikz\", "
   ]
  },
  {
   "cell_type": "code",
   "execution_count": null,
   "id": "a873c25a-76c3-49a5-8d52-177adb357d8a",
   "metadata": {},
   "outputs": [],
   "source": []
  }
 ],
 "metadata": {
  "kernelspec": {
   "display_name": "Python 3 (ipykernel)",
   "language": "python",
   "name": "python3"
  },
  "language_info": {
   "codemirror_mode": {
    "name": "ipython",
    "version": 3
   },
   "file_extension": ".py",
   "mimetype": "text/x-python",
   "name": "python",
   "nbconvert_exporter": "python",
   "pygments_lexer": "ipython3",
   "version": "3.12.3"
  }
 },
 "nbformat": 4,
 "nbformat_minor": 5
}
