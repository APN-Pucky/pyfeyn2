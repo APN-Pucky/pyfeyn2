{
 "cells": [
  {
   "cell_type": "code",
   "execution_count": 1,
   "id": "3d8b3bf5",
   "metadata": {},
   "outputs": [],
   "source": [
    "import pytest\n",
    "from matplotlib import pyplot as plt\n",
    "\n",
    "from pyfeyn2.feynmandiagram import FeynmanDiagram, Leg, Propagator, Vertex\n",
    "from pyfeyn2.render.all import AllRender, renders\n",
    "from pyfeyn2.render.pyx.pyxrender import PyxRender\n",
    "from pyfeyn2.render.latex.feynmp import FeynmpRender\n",
    "from smpl_io import io"
   ]
  },
  {
   "cell_type": "code",
   "execution_count": 2,
   "id": "e65ca3f6",
   "metadata": {},
   "outputs": [
    {
     "data": {
      "image/png": "[encoded data removed]",
      "text/plain": [
       "<wand.image.Image: b1938b8 'PDF' (180x111)>"
      ]
     },
     "metadata": {},
     "output_type": "display_data"
    }
   ],
   "source": [
    "FeynmpRender().demo_propagator(\"phantom\", show=True,label=\"hi\",file=\"tmp.pdf\")"
   ]
  },
  {
   "cell_type": "code",
   "execution_count": 3,
   "id": "0a1a307c",
   "metadata": {},
   "outputs": [
    {
     "name": "stderr",
     "output_type": "stream",
     "text": [
      "/tmp/ipykernel_175054/1938042000.py:1: DeprecatedWarning: __init__ is deprecated as of 2.2.6 and will be removed in 2.4.0.\n",
      "  fd = FeynmanDiagram()\n",
      "/tmp/ipykernel_175054/1938042000.py:2: DeprecatedWarning: __init__ is deprecated as of 2.2.6 and will be removed in 2.4.0.\n",
      "  v1 = Vertex(\"v1\").with_xy(-1, 0)\n",
      "/tmp/ipykernel_175054/1938042000.py:3: DeprecatedWarning: __init__ is deprecated as of 2.2.6 and will be removed in 2.4.0.\n",
      "  v2 = Vertex(\"v2\").with_xy(1, 0)\n",
      "/tmp/ipykernel_175054/1938042000.py:4: DeprecatedWarning: __init__ is deprecated as of 2.2.6 and will be removed in 2.4.0.\n",
      "  p1 = Propagator(\"p1\").connect(v1, v2).with_type(\"fermion\").with_style(\"momentum-arrow: true; momentum-arrow-sense: -1\")\n",
      "/tmp/ipykernel_175054/1938042000.py:5: DeprecatedWarning: __init__ is deprecated as of 2.2.6 and will be removed in 2.4.0.\n",
      "  l1 = Leg(\"l1\").with_target(v1).with_xy(-2, 1).with_type(\"fermion\").with_incoming()\n",
      "/tmp/ipykernel_175054/1938042000.py:6: DeprecatedWarning: __init__ is deprecated as of 2.2.6 and will be removed in 2.4.0.\n",
      "  l2 = Leg(\"l2\").with_target(v1).with_xy(-2, -1).with_type(\"fermion\").with_incoming()\n",
      "/tmp/ipykernel_175054/1938042000.py:7: DeprecatedWarning: __init__ is deprecated as of 2.2.6 and will be removed in 2.4.0.\n",
      "  l3 = Leg(\"l3\").with_target(v2).with_xy(2, 1).with_type(\"fermion\").with_outgoing()\n",
      "/tmp/ipykernel_175054/1938042000.py:8: DeprecatedWarning: __init__ is deprecated as of 2.2.6 and will be removed in 2.4.0.\n",
      "  l4 = Leg(\"l4\").with_target(v2).with_xy(2, -1).with_type(\"fermion\").with_outgoing()\n"
     ]
    },
    {
     "name": "stdout",
     "output_type": "stream",
     "text": [
      "\\documentclass[preview,crop]{standalone}%\n",
      "\\usepackage[T1]{fontenc}%\n",
      "\\usepackage[utf8]{inputenc}%\n",
      "\\usepackage{lmodern}%\n",
      "\\usepackage{textcomp}%\n",
      "\\usepackage{lastpage}%\n",
      "%\n",
      "\\usepackage{feynmp-auto}%\n",
      "%\n",
      "\\begin{document}%\n",
      "\\normalsize%\n",
      "\\begin{fmffile}{tmp-f86e415ec59f47c7baef1463785a0512}\n",
      "\\begin{fmfgraph*}(120,80)\n",
      "\t\t\\fmfleft{l1,l2}\n",
      "\t\t\\fmfright{l3,l4}\n",
      "\t\t\\fmf{fermion}{l1,v1}\n",
      "\t\t\\fmf{fermion}{l2,v1}\n",
      "\t\t\\fmf{fermion}{v2,l3}\n",
      "\t\t\\fmf{fermion}{v2,l4}\n",
      "\t\t\\fmf{fermion}{v1,v2}\n",
      "\\end{fmfgraph*}\n",
      "\\end{fmffile}\n",
      "%\n",
      "\\end{document}\n"
     ]
    },
    {
     "data": {
      "image/png": "[encoded data removed]",
      "text/plain": [
       "<wand.image.Image: dc65b26 'PDF' (180x111)>"
      ]
     },
     "metadata": {},
     "output_type": "display_data"
    },
    {
     "data": {
      "image/png": "[encoded data removed]",
      "text/plain": [
       "<wand.image.Image: dc65b26 'PDF' (180x111)>"
      ]
     },
     "execution_count": 3,
     "metadata": {},
     "output_type": "execute_result"
    }
   ],
   "source": [
    "    fd = FeynmanDiagram()\n",
    "    v1 = Vertex(\"v1\").with_xy(-1, 0)\n",
    "    v2 = Vertex(\"v2\").with_xy(1, 0)\n",
    "    p1 = Propagator(\"p1\").connect(v1, v2).with_type(\"fermion\").with_style(\"momentum-arrow: true; momentum-arrow-sense: -1\")\n",
    "    l1 = Leg(\"l1\").with_target(v1).with_xy(-2, 1).with_type(\"fermion\").with_incoming()\n",
    "    l2 = Leg(\"l2\").with_target(v1).with_xy(-2, -1).with_type(\"fermion\").with_incoming()\n",
    "    l3 = Leg(\"l3\").with_target(v2).with_xy(2, 1).with_type(\"fermion\").with_outgoing()\n",
    "    l4 = Leg(\"l4\").with_target(v2).with_xy(2, -1).with_type(\"fermion\").with_outgoing()\n",
    "    p1.with_source(v1)\n",
    "    p1.with_target(v2)\n",
    "    fd.propagators.append(p1)\n",
    "    fd.vertices.extend([v1, v2])\n",
    "    fd.legs.extend([l1, l2, l3, l4])\n",
    "    fr = FeynmpRender(fd)\n",
    "    print(fr.get_src())\n",
    "    fr.render(show=True)"
   ]
  },
  {
   "cell_type": "code",
   "execution_count": null,
   "id": "4e3023df",
   "metadata": {},
   "outputs": [],
   "source": []
  },
  {
   "cell_type": "code",
   "execution_count": null,
   "id": "3b61b062",
   "metadata": {},
   "outputs": [],
   "source": []
  }
 ],
 "metadata": {
  "kernelspec": {
   "display_name": "Python 3 (ipykernel)",
   "language": "python",
   "name": "python3"
  },
  "language_info": {
   "codemirror_mode": {
    "name": "ipython",
    "version": 3
   },
   "file_extension": ".py",
   "mimetype": "text/x-python",
   "name": "python",
   "nbconvert_exporter": "python",
   "pygments_lexer": "ipython3",
   "version": "3.10.10"
  }
 },
 "nbformat": 4,
 "nbformat_minor": 5
}
