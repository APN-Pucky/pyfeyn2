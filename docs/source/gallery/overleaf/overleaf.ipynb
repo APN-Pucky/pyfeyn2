{
 "cells": [
  {
   "cell_type": "markdown",
   "id": "be16a389",
   "metadata": {},
   "source": [
    "# Overleaf\n",
    "\n",
    "Reimplementation of diagrams from https://www.overleaf.com/learn/latex/Feynman_diagrams"
   ]
  },
  {
   "cell_type": "code",
   "execution_count": 1,
   "id": "873be78f",
   "metadata": {},
   "outputs": [],
   "source": [
    "from feynml import FeynmanDiagram, Leg, Propagator, Vertex\n",
    "from pyfeyn2.render.all import AllRender\n",
    "from pyfeyn2.render.latex.tikzfeynman import TikzFeynmanRender\n",
    "from pyfeyn2.auto.position import feynman_adjust_points"
   ]
  },
  {
   "cell_type": "code",
   "execution_count": 2,
   "id": "0a179236",
   "metadata": {},
   "outputs": [
    {
     "name": "stderr",
     "output_type": "stream",
     "text": [
      "/tmp/ipykernel_13570/3690229887.py:7: DeprecatedWarning: put_style is deprecated as of 0.0.0.\n",
      "  Propagator().connect(v1, v2).with_type(\"photon\").put_style('opacity',0.2).put_style('color','red').with_momentum(\"$k$\"),\n",
      "/tmp/ipykernel_13570/3690229887.py:8: DeprecatedWarning: put_style is deprecated as of 0.0.0.\n",
      "  Leg().with_target(v1).with_xy(-2, 1).with_type(\"fermion\").with_incoming().with_label(\"$e^+$\").put_style('opacity',0.2),\n",
      "/tmp/ipykernel_13570/3690229887.py:9: DeprecatedWarning: put_style is deprecated as of 0.0.0.\n",
      "  Leg().with_target(v1).with_xy(-2, -1).with_type(\"fermion\").with_incoming().with_label(\"$e^-$\").put_style('opacity',0.2),\n",
      "/tmp/ipykernel_13570/3690229887.py:10: DeprecatedWarning: put_style is deprecated as of 0.0.0.\n",
      "  Leg().with_target(v2).with_xy(2, 1).with_type(\"fermion\").with_outgoing().with_label(\"$\\\\mu^+$\").put_style('opacity',0.2),\n",
      "/tmp/ipykernel_13570/3690229887.py:11: DeprecatedWarning: put_style is deprecated as of 0.0.0.\n",
      "  Leg().with_target(v2).with_xy(2, -1).with_type(\"fermion\").with_outgoing().with_label(\"$\\\\mu^-$\").put_style('opacity',0.9),\n"
     ]
    },
    {
     "data": {
      "image/png": "[encoded data removed]",
      "text/plain": [
       "<wand.image.Image: 5e8eebd 'PDF' (171x83)>"
      ]
     },
     "metadata": {},
     "output_type": "display_data"
    },
    {
     "data": {
      "image/png": "[encoded data removed]",
      "text/plain": [
       "<wand.image.Image: 5e8eebd 'PDF' (171x83)>"
      ]
     },
     "execution_count": 2,
     "metadata": {},
     "output_type": "execute_result"
    }
   ],
   "source": [
    "v1 = Vertex().with_xy(-1, 0)\n",
    "v2 = Vertex().with_xy(1, 0)\n",
    "\n",
    "fd = FeynmanDiagram().add(\n",
    "    v1,\n",
    "    v2,\n",
    "    Propagator().connect(v1, v2).with_type(\"photon\").put_style('opacity',0.2).put_style('color','red').with_momentum(\"$k$\"),\n",
    "    Leg().with_target(v1).with_xy(-2, 1).with_type(\"fermion\").with_incoming().with_label(\"$e^+$\").put_style('opacity',0.2),\n",
    "    Leg().with_target(v1).with_xy(-2, -1).with_type(\"fermion\").with_incoming().with_label(\"$e^-$\").put_style('opacity',0.2),\n",
    "    Leg().with_target(v2).with_xy(2, 1).with_type(\"fermion\").with_outgoing().with_label(\"$\\\\mu^+$\").put_style('opacity',0.2),\n",
    "    Leg().with_target(v2).with_xy(2, -1).with_type(\"fermion\").with_outgoing().with_label(\"$\\\\mu^-$\").put_style('opacity',0.9),\n",
    ")\n",
    "ar = TikzFeynmanRender(fd)\n",
    "ar.render()"
   ]
  },
  {
   "cell_type": "code",
   "execution_count": 3,
   "id": "6446cf50",
   "metadata": {},
   "outputs": [
    {
     "data": {
      "image/png": "[encoded data removed]",
      "text/plain": [
       "<wand.image.Image: 6c916dd 'PDF' (158x80)>"
      ]
     },
     "metadata": {},
     "output_type": "display_data"
    },
    {
     "data": {
      "image/png": "[encoded data removed]",
      "text/plain": [
       "<wand.image.Image: 6c916dd 'PDF' (158x80)>"
      ]
     },
     "execution_count": 3,
     "metadata": {},
     "output_type": "execute_result"
    }
   ],
   "source": [
    "v1 = Vertex().with_xy(-1, 0)\n",
    "v2 = Vertex().with_xy(1, 0)\n",
    "\n",
    "fd = FeynmanDiagram().add(\n",
    "    v1,\n",
    "    v2,\n",
    "    Propagator().connect(v1, v2).with_type(\"fermion\"),\n",
    "    Leg().with_target(v1).with_xy(-2, 1).with_type(\"fermion\").with_incoming(),\n",
    "    Leg().with_target(v1).with_xy(-2, -1).with_type(\"photon\").with_incoming(),\n",
    "    Leg().with_target(v2).with_xy(2, 1).with_type(\"fermion\").with_outgoing(),\n",
    "    Leg().with_target(v2).with_xy(2, -1).with_type(\"photon\").with_outgoing(),\n",
    ")\n",
    "ar = TikzFeynmanRender(fd)\n",
    "ar.render()"
   ]
  },
  {
   "cell_type": "code",
   "execution_count": 4,
   "id": "ede56f63",
   "metadata": {},
   "outputs": [
    {
     "data": {
      "image/png": "[encoded data removed]",
      "text/plain": [
       "<wand.image.Image: 67ef5b6 'PDF' (158x183)>"
      ]
     },
     "metadata": {},
     "output_type": "display_data"
    },
    {
     "data": {
      "image/png": "[encoded data removed]",
      "text/plain": [
       "<wand.image.Image: 67ef5b6 'PDF' (158x183)>"
      ]
     },
     "execution_count": 4,
     "metadata": {},
     "output_type": "execute_result"
    }
   ],
   "source": [
    "v1 = Vertex().with_xy(-2, -2)\n",
    "v2 = Vertex().with_xy(2, -2)\n",
    "\n",
    "i1 = Vertex().with_xy(-2, 2)\n",
    "o1 = Vertex().with_xy(2,  2)\n",
    "o2 = Vertex().with_xy(2,  1)\n",
    "o3 = Vertex().with_xy(2,  0)\n",
    "\n",
    "p1 = Vertex().with_xy(0,  2)\n",
    "p2 = Vertex().with_xy(1,  1)\n",
    "\n",
    "\n",
    "fd = FeynmanDiagram().add(\n",
    "    v1,\n",
    "    v2,\n",
    "    Propagator().connect(v1,v2).with_type(\"fermion\").with_label(\"$d$\").with_tension(0),\n",
    "    Leg().with_target(v1).with_point(v1).with_type(\"phantom\").with_incoming(),\n",
    "    Leg().with_target(v2).with_point(v2).with_type(\"phantom\").with_outgoing(),\n",
    "    \n",
    "    i1,p1,p2,o1,o2,o3,\n",
    "    Propagator().connect(p2,p1).with_type(\"boson\").with_label(\"$W^+$\"),\n",
    "    Leg(label=r\"$\\bar{b}$\").with_target(p1).with_point(i1).with_type(\"fermion\").with_incoming(),\n",
    "    Leg(label=r\"$\\bar{c}$\").with_target(p1).with_point(o1).with_type(\"fermion\").with_outgoing(),\n",
    "    Leg(label=\"$c$\").with_target(p2).with_point(o2).with_type(\"fermion\").with_outgoing(),\n",
    "    Leg(label=r\"$\\bar{s}$\").with_target(p2).with_point(o3).with_type(\"fermion\").with_outgoing()\n",
    ")\n",
    "ar = TikzFeynmanRender(fd)\n",
    "ar.render()"
   ]
  },
  {
   "cell_type": "code",
   "execution_count": null,
   "id": "52d52beb",
   "metadata": {},
   "outputs": [],
   "source": []
  },
  {
   "cell_type": "code",
   "execution_count": null,
   "id": "b8e1fd4d",
   "metadata": {},
   "outputs": [],
   "source": []
  },
  {
   "cell_type": "code",
   "execution_count": null,
   "id": "09790aa7",
   "metadata": {},
   "outputs": [],
   "source": []
  }
 ],
 "metadata": {
  "kernelspec": {
   "display_name": "Python 3 (ipykernel)",
   "language": "python",
   "name": "python3"
  },
  "language_info": {
   "codemirror_mode": {
    "name": "ipython",
    "version": 3
   },
   "file_extension": ".py",
   "mimetype": "text/x-python",
   "name": "python",
   "nbconvert_exporter": "python",
   "pygments_lexer": "ipython3",
   "version": "3.12.10"
  }
 },
 "nbformat": 4,
 "nbformat_minor": 5
}
