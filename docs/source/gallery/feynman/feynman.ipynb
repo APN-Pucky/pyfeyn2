{
 "cells": [
  {
   "cell_type": "markdown",
   "id": "b6bdf017",
   "metadata": {},
   "source": [
    "# Feynman\n",
    "\n",
    "From: http://gkantonius.github.io/feynman/auto_examples/index.html"
   ]
  },
  {
   "cell_type": "code",
   "execution_count": 3,
   "id": "845b2908",
   "metadata": {},
   "outputs": [],
   "source": [
    "from feynml import FeynmanDiagram, Leg, Propagator, Vertex\n",
    "from pyfeyn2.render.latex.tikzfeynman import TikzFeynmanRender\n",
    "from pyfeyn2.auto.position import feynman_adjust_points\n",
    "from pyfeyn2.auto.label import auto_label"
   ]
  },
  {
   "cell_type": "code",
   "execution_count": 4,
   "id": "ee2b54da",
   "metadata": {},
   "outputs": [
    {
     "data": {
      "image/png": "[encoded data removed]",
      "text/plain": [
       "<wand.image.Image: 16b35ce 'PDF' (163x102)>"
      ]
     },
     "metadata": {},
     "output_type": "display_data"
    },
    {
     "data": {
      "image/png": "[encoded data removed]",
      "text/plain": [
       "<wand.image.Image: 16b35ce 'PDF' (163x102)>"
      ]
     },
     "execution_count": 4,
     "metadata": {},
     "output_type": "execute_result"
    }
   ],
   "source": [
    "v1 = Vertex(x=-1,y=1)\n",
    "v2 = Vertex(x=-1,y=-1)\n",
    "\n",
    "v3 = Vertex(x=0,y=0)\n",
    "v4 = Vertex(x=1,y=0)\n",
    "\n",
    "i1 = Leg(x=-2,y=1,target=v1.id,name=\"u\").with_incoming()\n",
    "i2 = Leg(x=-2,y=-1,target=v2.id,name=\"u\").with_incoming()\n",
    "\n",
    "o1 = Leg(x=2,y=1,target=v1.id,pdgid=1).with_outgoing()\n",
    "o2 = Leg(x=2,y=0.5,target=v4.id,pdgid=-11).with_outgoing()\n",
    "o3 = Leg(x=2,y=-0.5,target=v4.id,pdgid=-11).with_outgoing()\n",
    "o4 = Leg(x=2,y=-1, target=v2.id,pdgid=1).with_outgoing()\n",
    "\n",
    "fd = FeynmanDiagram().add(\n",
    "    v1,v2,v3,v4,\n",
    "    \n",
    "    i1,i2,\n",
    "    \n",
    "    o1,o2,o3,o4,\n",
    "    \n",
    "    Propagator(type=\"higgs\",\n",
    "               source=v3.id,\n",
    "               target=v4.id,\n",
    "               label=r\"$H^{++}$\"\n",
    "              ),\n",
    "    Propagator(pdgid=24,source=v1.id,target=v3.id),\n",
    "    Propagator(pdgid=24,source=v2.id,target=v3.id)\n",
    ").add_rules(\"\"\"\n",
    "[type=fermion] { color : blue}\n",
    "[type=\"anti fermion\"] { color : blue}\n",
    "[type=\"boson\"] { color : green}\n",
    "\"\"\")\n",
    "auto_label(fd.propagators+fd.legs)\n",
    "ar = TikzFeynmanRender(fd)\n",
    "ar.render()"
   ]
  },
  {
   "cell_type": "code",
   "execution_count": null,
   "id": "61e3653a",
   "metadata": {},
   "outputs": [],
   "source": []
  }
 ],
 "metadata": {
  "kernelspec": {
   "display_name": "Python 3 (ipykernel)",
   "language": "python",
   "name": "python3"
  },
  "language_info": {
   "codemirror_mode": {
    "name": "ipython",
    "version": 3
   },
   "file_extension": ".py",
   "mimetype": "text/x-python",
   "name": "python",
   "nbconvert_exporter": "python",
   "pygments_lexer": "ipython3",
   "version": "3.12.10"
  }
 },
 "nbformat": 4,
 "nbformat_minor": 5
}
