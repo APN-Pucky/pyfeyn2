{
 "cells": [
  {
   "cell_type": "markdown",
   "id": "0b67e295-9a25-47f3-b822-bca74cc5da44",
   "metadata": {},
   "source": [
    "# Wikipedia"
   ]
  },
  {
   "cell_type": "markdown",
   "id": "b2abdcd1-d085-44d5-a0cc-479b88c454af",
   "metadata": {},
   "source": [
    "## beta decay\n",
    "\n",
    "From: https://en.wikipedia.org/wiki/Beta_decay"
   ]
  },
  {
   "cell_type": "code",
   "execution_count": 2,
   "id": "23e42c23-b017-4d9e-989f-acd128b3a81d",
   "metadata": {},
   "outputs": [],
   "source": [
    "from feynml import *\n",
    "from pyfeyn2.render.all import AllRender\n",
    "from pyfeyn2.auto.position import feynman_adjust_points\n",
    "from pyfeyn2.auto.label import auto_label"
   ]
  },
  {
   "cell_type": "code",
   "execution_count": null,
   "id": "474f028e-1e03-4420-b41d-183bcf770eef",
   "metadata": {},
   "outputs": [],
   "source": []
  }
 ],
 "metadata": {
  "kernelspec": {
   "display_name": "Python 3 (ipykernel)",
   "language": "python",
   "name": "python3"
  },
  "language_info": {
   "codemirror_mode": {
    "name": "ipython",
    "version": 3
   },
   "file_extension": ".py",
   "mimetype": "text/x-python",
   "name": "python",
   "nbconvert_exporter": "python",
   "pygments_lexer": "ipython3",
   "version": "3.13.2"
  }
 },
 "nbformat": 4,
 "nbformat_minor": 5
}
