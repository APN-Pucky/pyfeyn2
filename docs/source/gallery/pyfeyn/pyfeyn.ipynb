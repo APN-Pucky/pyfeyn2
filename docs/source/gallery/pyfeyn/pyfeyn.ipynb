{
 "cells": [
  {
   "cell_type": "markdown",
   "id": "441f116b",
   "metadata": {},
   "source": [
    "# Pyfeyn\n",
    "\n",
    "https://pyfeyn.hepforge.org/examples"
   ]
  },
  {
   "cell_type": "code",
   "execution_count": 1,
   "id": "804707a8",
   "metadata": {},
   "outputs": [],
   "source": [
    "from feynml import FeynmanDiagram, Leg, Propagator, Vertex\n",
    "from pyfeyn2.render.all import AllRender\n",
    "from pyfeyn2.render.latex.tikzfeynman import TikzFeynmanRender\n",
    "from pyfeyn2.auto.position import feynman_adjust_points\n",
    "from pyfeyn2.auto.label import auto_label\n",
    "from pyfeyn2.auto.bend import auto_bend\n",
    "from feynml import Momentum"
   ]
  },
  {
   "cell_type": "code",
   "execution_count": 2,
   "id": "d4b571dd",
   "metadata": {},
   "outputs": [
    {
     "data": {
      "image/png": "[encoded data removed]",
      "text/plain": [
       "<wand.image.Image: d0b590b 'PDF' (237x158)>"
      ]
     },
     "metadata": {},
     "output_type": "display_data"
    },
    {
     "data": {
      "image/png": "[encoded data removed]",
      "text/plain": [
       "<wand.image.Image: d0b590b 'PDF' (237x158)>"
      ]
     },
     "execution_count": 2,
     "metadata": {},
     "output_type": "execute_result"
    }
   ],
   "source": [
    "v1 = Vertex().with_xy(-1, 0)\n",
    "v2 = Vertex().with_xy(1, 0)\n",
    "v3 = Vertex().with_xy(2, 1)\n",
    "v4 = Vertex().with_xy(2, -1)\n",
    "\n",
    "fd = FeynmanDiagram().add(\n",
    "    v1, v2, v3, v4,\n",
    "    Propagator().connect(v1, v2).with_type(\"boson\").with_label(\"$\\\\gamma/Z$\"),\n",
    "    Propagator(pdgid=1).connect(v2, v3),\n",
    "    Propagator(pdgid=-1).connect(v2,v4),\n",
    "    Propagator(name=\"g\").connect(v3,v4).with_style(\"bend-direction : left\"),\n",
    "    Leg(pdgid=11).with_target(v1).with_xy(-3, 2).with_incoming().with_style(\"momentum-arrow : true; momentum-arrow-flip : true\").with_momentum(Momentum(name=\"$\\\\vec p$\")),\n",
    "    Leg(pdgid=-11).with_target(v1).with_xy(-3, -2).with_incoming(),\n",
    "    Leg(pdgid=1).with_target(v3).with_xy(3, 2).with_outgoing(),\n",
    "    Leg(pdgid=-1).with_target(v4).with_xy(3, -2).with_outgoing(),\n",
    ")\n",
    "auto_label(fd.propagators + fd.legs)\n",
    "ar = TikzFeynmanRender(fd)\n",
    "ar.render()"
   ]
  },
  {
   "cell_type": "code",
   "execution_count": 3,
   "id": "43ef0922",
   "metadata": {},
   "outputs": [
    {
     "ename": "TypeError",
     "evalue": "unsupported operand type(s) for *: 'NoneType' and 'int'",
     "output_type": "error",
     "traceback": [
      "\u001b[31m---------------------------------------------------------------------------\u001b[39m",
      "\u001b[31mTypeError\u001b[39m                                 Traceback (most recent call last)",
      "\u001b[36mCell\u001b[39m\u001b[36m \u001b[39m\u001b[32mIn[3]\u001b[39m\u001b[32m, line 3\u001b[39m\n\u001b[32m      1\u001b[39m v1 = Vertex(x=-\u001b[32m2\u001b[39m,y=\u001b[32m0\u001b[39m)\n\u001b[32m      2\u001b[39m v2 = Vertex(x= \u001b[32m2\u001b[39m,y=\u001b[32m0\u001b[39m)\n\u001b[32m----> \u001b[39m\u001b[32m3\u001b[39m l1 = \u001b[43mLeg\u001b[49m\u001b[43m(\u001b[49m\u001b[43mx\u001b[49m\u001b[43m=\u001b[49m\u001b[43m-\u001b[49m\u001b[32;43m4\u001b[39;49m\u001b[43m,\u001b[49m\u001b[43my\u001b[49m\u001b[43m=\u001b[49m\u001b[32;43m0\u001b[39;49m\u001b[43m,\u001b[49m\u001b[43mpdgid\u001b[49m\u001b[43m=\u001b[49m\u001b[32;43m25\u001b[39;49m\u001b[43m)\u001b[49m\n\u001b[32m      4\u001b[39m l2 = Leg(x= \u001b[32m4\u001b[39m,y=\u001b[32m0\u001b[39m,pdgid=\u001b[32m25\u001b[39m)\n\u001b[32m      6\u001b[39m fd = FeynmanDiagram().add(\n\u001b[32m      7\u001b[39m     v1, v2,\n\u001b[32m      8\u001b[39m     Propagator(pdgid=\u001b[32m6\u001b[39m).connect(v1, v2),\n\u001b[32m   (...)\u001b[39m\u001b[32m     11\u001b[39m     l2.with_target(v2).with_outgoing(),\n\u001b[32m     12\u001b[39m )\n",
      "\u001b[36mFile \u001b[39m\u001b[32m<string>:19\u001b[39m, in \u001b[36m__init__\u001b[39m\u001b[34m(self, id, pdgid, name, texname, type, style, clazz, label, momentum, target, x, y, z, shape, sense, external)\u001b[39m\n",
      "\u001b[36mFile \u001b[39m\u001b[32m~/.local/lib/python3.12/site-packages/feynml/targeting.py:15\u001b[39m, in \u001b[36mTargeting.__post_init__\u001b[39m\u001b[34m(self)\u001b[39m\n\u001b[32m     13\u001b[39m \u001b[38;5;28;01mdef\u001b[39;00m\u001b[38;5;250m \u001b[39m\u001b[34m__post_init__\u001b[39m(\u001b[38;5;28mself\u001b[39m):\n\u001b[32m     14\u001b[39m     \u001b[38;5;28;01mif\u001b[39;00m \u001b[38;5;28misinstance\u001b[39m(\u001b[38;5;28mself\u001b[39m, PDG):\n\u001b[32m---> \u001b[39m\u001b[32m15\u001b[39m         \u001b[43mPDG\u001b[49m\u001b[43m.\u001b[49m\u001b[43m__post_init__\u001b[49m\u001b[43m(\u001b[49m\u001b[38;5;28;43mself\u001b[39;49m\u001b[43m)\u001b[49m\n\u001b[32m     16\u001b[39m     \u001b[38;5;28;01melif\u001b[39;00m \u001b[38;5;28misinstance\u001b[39m(\u001b[38;5;28mself\u001b[39m, Identifiable):\n\u001b[32m     17\u001b[39m         Identifiable.__post_init__(\u001b[38;5;28mself\u001b[39m)\n",
      "\u001b[36mFile \u001b[39m\u001b[32m~/.local/lib/python3.12/site-packages/feynml/pdgid.py:112\u001b[39m, in \u001b[36mPDG.__post_init__\u001b[39m\u001b[34m(self)\u001b[39m\n\u001b[32m    110\u001b[39m \u001b[38;5;28;01mdef\u001b[39;00m\u001b[38;5;250m \u001b[39m\u001b[34m__post_init__\u001b[39m(\u001b[38;5;28mself\u001b[39m):\n\u001b[32m    111\u001b[39m     \u001b[38;5;28msuper\u001b[39m().__post_init__()\n\u001b[32m--> \u001b[39m\u001b[32m112\u001b[39m     \u001b[38;5;28;43mself\u001b[39;49m\u001b[43m.\u001b[49m\u001b[43m_sync\u001b[49m\u001b[43m(\u001b[49m\u001b[43m)\u001b[49m\n",
      "\u001b[36mFile \u001b[39m\u001b[32m~/.local/lib/python3.12/site-packages/feynml/pdgid.py:70\u001b[39m, in \u001b[36mPDG._sync\u001b[39m\u001b[34m(self, feynmodel)\u001b[39m\n\u001b[32m     68\u001b[39m         particle = Particle.fromfeynmodel(\u001b[38;5;28mself\u001b[39m.pdgid, feynmodel)\n\u001b[32m     69\u001b[39m     \u001b[38;5;28;01melse\u001b[39;00m:\n\u001b[32m---> \u001b[39m\u001b[32m70\u001b[39m         particle = \u001b[43mParticle\u001b[49m\u001b[43m.\u001b[49m\u001b[43mfrompdg\u001b[49m\u001b[43m(\u001b[49m\u001b[38;5;28;43mself\u001b[39;49m\u001b[43m.\u001b[49m\u001b[43mpdgid\u001b[49m\u001b[43m)\u001b[49m\n\u001b[32m     71\u001b[39m \u001b[38;5;28;01mif\u001b[39;00m \u001b[38;5;28mself\u001b[39m.name \u001b[38;5;129;01mis\u001b[39;00m \u001b[38;5;129;01mnot\u001b[39;00m \u001b[38;5;28;01mNone\u001b[39;00m:\n\u001b[32m     72\u001b[39m     \u001b[38;5;28;01mif\u001b[39;00m \u001b[38;5;28mself\u001b[39m.name == \u001b[33m\"\u001b[39m\u001b[33mghG\u001b[39m\u001b[33m\"\u001b[39m \u001b[38;5;129;01mor\u001b[39;00m \u001b[38;5;28mself\u001b[39m.name == \u001b[33m\"\u001b[39m\u001b[33mgh\u001b[39m\u001b[33m\"\u001b[39m \u001b[38;5;129;01mor\u001b[39;00m \u001b[38;5;28mself\u001b[39m.name == \u001b[33m\"\u001b[39m\u001b[33mghost\u001b[39m\u001b[33m\"\u001b[39m:\n",
      "\u001b[36mFile \u001b[39m\u001b[32m~/.local/lib/python3.12/site-packages/feynml/particle.py:177\u001b[39m, in \u001b[36mParticle.frompdg\u001b[39m\u001b[34m(pdgid)\u001b[39m\n\u001b[32m    170\u001b[39m \u001b[38;5;250m\u001b[39m\u001b[33;03m\"\"\"Create a Particle from a PDG\"\"\"\u001b[39;00m\n\u001b[32m    171\u001b[39m particle, name = get_particle_and_name_from_pdgid(pdgid)\n\u001b[32m    172\u001b[39m \u001b[38;5;28;01mreturn\u001b[39;00m Particle(\n\u001b[32m    173\u001b[39m     pdgid=pdgid,\n\u001b[32m    174\u001b[39m     name=name,\n\u001b[32m    175\u001b[39m     mass=particle.mass,\n\u001b[32m    176\u001b[39m     charge=particle.pdgid.charge,\n\u001b[32m--> \u001b[39m\u001b[32m177\u001b[39m     spin=\u001b[38;5;28mround\u001b[39m(\u001b[43mparticle\u001b[49m\u001b[43m.\u001b[49m\u001b[43mpdgid\u001b[49m\u001b[43m.\u001b[49m\u001b[43mJ\u001b[49m\u001b[43m \u001b[49m\u001b[43m*\u001b[49m\u001b[43m \u001b[49m\u001b[32;43m2\u001b[39;49m + \u001b[32m1\u001b[39m),\n\u001b[32m    178\u001b[39m     texname=particle.latex_name,\n\u001b[32m    179\u001b[39m )\n",
      "\u001b[31mTypeError\u001b[39m: unsupported operand type(s) for *: 'NoneType' and 'int'"
     ]
    }
   ],
   "source": [
    "v1 = Vertex(x=-2,y=0)\n",
    "v2 = Vertex(x= 2,y=0)\n",
    "l1 = Leg(x=-4,y=0,pdgid=25)\n",
    "l2 = Leg(x= 4,y=0,pdgid=25)\n",
    "\n",
    "fd = FeynmanDiagram().add(\n",
    "    v1, v2,\n",
    "    Propagator(pdgid=6).connect(v1, v2),\n",
    "    Propagator(pdgid=-6).connect(v1, v2),\n",
    "    l1.with_target(v1).with_incoming(),\n",
    "    l2.with_target(v2).with_outgoing(),\n",
    ")\n",
    "auto_label(fd.propagators + fd.legs)\n",
    "auto_bend(fd)\n",
    "ar = TikzFeynmanRender(fd)\n",
    "ar.render()"
   ]
  },
  {
   "cell_type": "code",
   "execution_count": 4,
   "id": "8abc4e93",
   "metadata": {},
   "outputs": [
    {
     "ename": "TypeError",
     "evalue": "unsupported operand type(s) for *: 'NoneType' and 'int'",
     "output_type": "error",
     "traceback": [
      "\u001b[31m---------------------------------------------------------------------------\u001b[39m",
      "\u001b[31mTypeError\u001b[39m                                 Traceback (most recent call last)",
      "\u001b[36mCell\u001b[39m\u001b[36m \u001b[39m\u001b[32mIn[4]\u001b[39m\u001b[32m, line 3\u001b[39m\n\u001b[32m      1\u001b[39m v1 = Vertex(x=-\u001b[32m2\u001b[39m,y=\u001b[32m0\u001b[39m)\n\u001b[32m      2\u001b[39m v2 = Vertex(x= \u001b[32m2\u001b[39m,y=\u001b[32m0\u001b[39m)\n\u001b[32m----> \u001b[39m\u001b[32m3\u001b[39m l1 = \u001b[43mLeg\u001b[49m\u001b[43m(\u001b[49m\u001b[43mx\u001b[49m\u001b[43m=\u001b[49m\u001b[43m-\u001b[49m\u001b[32;43m4\u001b[39;49m\u001b[43m,\u001b[49m\u001b[43my\u001b[49m\u001b[43m=\u001b[49m\u001b[32;43m0\u001b[39;49m\u001b[43m,\u001b[49m\u001b[43mpdgid\u001b[49m\u001b[43m=\u001b[49m\u001b[32;43m25\u001b[39;49m\u001b[43m)\u001b[49m\n\u001b[32m      4\u001b[39m l2 = Leg(x= \u001b[32m4\u001b[39m,y=\u001b[32m0\u001b[39m,pdgid=\u001b[32m25\u001b[39m)\n\u001b[32m      6\u001b[39m fd = FeynmanDiagram().add(\n\u001b[32m      7\u001b[39m     v1, v2,\n\u001b[32m      8\u001b[39m     Propagator(pdgid=\u001b[32m6\u001b[39m).connect(v1, v2),\n\u001b[32m   (...)\u001b[39m\u001b[32m     11\u001b[39m     \u001b[38;5;66;03m#l2.with_target(v2).with_outgoing(),\u001b[39;00m\n\u001b[32m     12\u001b[39m )\n",
      "\u001b[36mFile \u001b[39m\u001b[32m<string>:19\u001b[39m, in \u001b[36m__init__\u001b[39m\u001b[34m(self, id, pdgid, name, texname, type, style, clazz, label, momentum, target, x, y, z, shape, sense, external)\u001b[39m\n",
      "\u001b[36mFile \u001b[39m\u001b[32m~/.local/lib/python3.12/site-packages/feynml/targeting.py:15\u001b[39m, in \u001b[36mTargeting.__post_init__\u001b[39m\u001b[34m(self)\u001b[39m\n\u001b[32m     13\u001b[39m \u001b[38;5;28;01mdef\u001b[39;00m\u001b[38;5;250m \u001b[39m\u001b[34m__post_init__\u001b[39m(\u001b[38;5;28mself\u001b[39m):\n\u001b[32m     14\u001b[39m     \u001b[38;5;28;01mif\u001b[39;00m \u001b[38;5;28misinstance\u001b[39m(\u001b[38;5;28mself\u001b[39m, PDG):\n\u001b[32m---> \u001b[39m\u001b[32m15\u001b[39m         \u001b[43mPDG\u001b[49m\u001b[43m.\u001b[49m\u001b[43m__post_init__\u001b[49m\u001b[43m(\u001b[49m\u001b[38;5;28;43mself\u001b[39;49m\u001b[43m)\u001b[49m\n\u001b[32m     16\u001b[39m     \u001b[38;5;28;01melif\u001b[39;00m \u001b[38;5;28misinstance\u001b[39m(\u001b[38;5;28mself\u001b[39m, Identifiable):\n\u001b[32m     17\u001b[39m         Identifiable.__post_init__(\u001b[38;5;28mself\u001b[39m)\n",
      "\u001b[36mFile \u001b[39m\u001b[32m~/.local/lib/python3.12/site-packages/feynml/pdgid.py:112\u001b[39m, in \u001b[36mPDG.__post_init__\u001b[39m\u001b[34m(self)\u001b[39m\n\u001b[32m    110\u001b[39m \u001b[38;5;28;01mdef\u001b[39;00m\u001b[38;5;250m \u001b[39m\u001b[34m__post_init__\u001b[39m(\u001b[38;5;28mself\u001b[39m):\n\u001b[32m    111\u001b[39m     \u001b[38;5;28msuper\u001b[39m().__post_init__()\n\u001b[32m--> \u001b[39m\u001b[32m112\u001b[39m     \u001b[38;5;28;43mself\u001b[39;49m\u001b[43m.\u001b[49m\u001b[43m_sync\u001b[49m\u001b[43m(\u001b[49m\u001b[43m)\u001b[49m\n",
      "\u001b[36mFile \u001b[39m\u001b[32m~/.local/lib/python3.12/site-packages/feynml/pdgid.py:70\u001b[39m, in \u001b[36mPDG._sync\u001b[39m\u001b[34m(self, feynmodel)\u001b[39m\n\u001b[32m     68\u001b[39m         particle = Particle.fromfeynmodel(\u001b[38;5;28mself\u001b[39m.pdgid, feynmodel)\n\u001b[32m     69\u001b[39m     \u001b[38;5;28;01melse\u001b[39;00m:\n\u001b[32m---> \u001b[39m\u001b[32m70\u001b[39m         particle = \u001b[43mParticle\u001b[49m\u001b[43m.\u001b[49m\u001b[43mfrompdg\u001b[49m\u001b[43m(\u001b[49m\u001b[38;5;28;43mself\u001b[39;49m\u001b[43m.\u001b[49m\u001b[43mpdgid\u001b[49m\u001b[43m)\u001b[49m\n\u001b[32m     71\u001b[39m \u001b[38;5;28;01mif\u001b[39;00m \u001b[38;5;28mself\u001b[39m.name \u001b[38;5;129;01mis\u001b[39;00m \u001b[38;5;129;01mnot\u001b[39;00m \u001b[38;5;28;01mNone\u001b[39;00m:\n\u001b[32m     72\u001b[39m     \u001b[38;5;28;01mif\u001b[39;00m \u001b[38;5;28mself\u001b[39m.name == \u001b[33m\"\u001b[39m\u001b[33mghG\u001b[39m\u001b[33m\"\u001b[39m \u001b[38;5;129;01mor\u001b[39;00m \u001b[38;5;28mself\u001b[39m.name == \u001b[33m\"\u001b[39m\u001b[33mgh\u001b[39m\u001b[33m\"\u001b[39m \u001b[38;5;129;01mor\u001b[39;00m \u001b[38;5;28mself\u001b[39m.name == \u001b[33m\"\u001b[39m\u001b[33mghost\u001b[39m\u001b[33m\"\u001b[39m:\n",
      "\u001b[36mFile \u001b[39m\u001b[32m~/.local/lib/python3.12/site-packages/feynml/particle.py:177\u001b[39m, in \u001b[36mParticle.frompdg\u001b[39m\u001b[34m(pdgid)\u001b[39m\n\u001b[32m    170\u001b[39m \u001b[38;5;250m\u001b[39m\u001b[33;03m\"\"\"Create a Particle from a PDG\"\"\"\u001b[39;00m\n\u001b[32m    171\u001b[39m particle, name = get_particle_and_name_from_pdgid(pdgid)\n\u001b[32m    172\u001b[39m \u001b[38;5;28;01mreturn\u001b[39;00m Particle(\n\u001b[32m    173\u001b[39m     pdgid=pdgid,\n\u001b[32m    174\u001b[39m     name=name,\n\u001b[32m    175\u001b[39m     mass=particle.mass,\n\u001b[32m    176\u001b[39m     charge=particle.pdgid.charge,\n\u001b[32m--> \u001b[39m\u001b[32m177\u001b[39m     spin=\u001b[38;5;28mround\u001b[39m(\u001b[43mparticle\u001b[49m\u001b[43m.\u001b[49m\u001b[43mpdgid\u001b[49m\u001b[43m.\u001b[49m\u001b[43mJ\u001b[49m\u001b[43m \u001b[49m\u001b[43m*\u001b[49m\u001b[43m \u001b[49m\u001b[32;43m2\u001b[39;49m + \u001b[32m1\u001b[39m),\n\u001b[32m    178\u001b[39m     texname=particle.latex_name,\n\u001b[32m    179\u001b[39m )\n",
      "\u001b[31mTypeError\u001b[39m: unsupported operand type(s) for *: 'NoneType' and 'int'"
     ]
    }
   ],
   "source": [
    "v1 = Vertex(x=-2,y=0)\n",
    "v2 = Vertex(x= 2,y=0)\n",
    "l1 = Leg(x=-4,y=0,pdgid=25)\n",
    "l2 = Leg(x= 4,y=0,pdgid=25)\n",
    "\n",
    "fd = FeynmanDiagram().add(\n",
    "    v1, v2,\n",
    "    Propagator(pdgid=6).connect(v1, v2),\n",
    "    Propagator(pdgid=-6).connect(v1, v2),\n",
    "    #l1.with_target(v1).with_incoming(),\n",
    "    #l2.with_target(v2).with_outgoing(),\n",
    ")\n",
    "auto_label(fd.propagators + fd.legs)\n",
    "auto_bend(fd)\n",
    "ar = TikzFeynmanRender(fd)\n",
    "ar.render()"
   ]
  },
  {
   "cell_type": "code",
   "execution_count": null,
   "id": "e06dc9c3",
   "metadata": {},
   "outputs": [],
   "source": []
  },
  {
   "cell_type": "code",
   "execution_count": null,
   "id": "cffd8d56",
   "metadata": {},
   "outputs": [],
   "source": []
  },
  {
   "cell_type": "code",
   "execution_count": null,
   "id": "d90210fd",
   "metadata": {},
   "outputs": [],
   "source": []
  }
 ],
 "metadata": {
  "kernelspec": {
   "display_name": "Python 3 (ipykernel)",
   "language": "python",
   "name": "python3"
  },
  "language_info": {
   "codemirror_mode": {
    "name": "ipython",
    "version": 3
   },
   "file_extension": ".py",
   "mimetype": "text/x-python",
   "name": "python",
   "nbconvert_exporter": "python",
   "pygments_lexer": "ipython3",
   "version": "3.12.10"
  }
 },
 "nbformat": 4,
 "nbformat_minor": 5
}
