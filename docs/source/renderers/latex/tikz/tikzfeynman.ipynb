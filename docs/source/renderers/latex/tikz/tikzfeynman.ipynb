{
        "cells": [
                {
                        "cell_type": "markdown",
                        "id": "f32ecc80",
                        "metadata": {},
                        "source": [
                                "# TikZ-Feynman"
                        ]
                },
                {
                        "cell_type": "code",
                        "execution_count": 1,
                        "id": "d7959cdb",
                        "metadata": {},
                        "outputs": [
                                {
                                        "name": "stdout",
                                        "output_type": "stream",
                                        "text": [
                                                "2.0.7.29\n"
                                        ]
                                }
                        ],
                        "source": [
                                "from pyfeyn2.feynmandiagram import FeynmanDiagram, Leg, Propagator, Vertex, Line,PDG\n",
                                "from pyfeyn2.render.latex.tikzfeynman import TikzFeynmanRender\n",
                                "from pyfeyn2.auto.position import feynman_adjust_points\n",
                                "import pyfeyn2\n",
                                "print(pyfeyn2.__version__)"
                        ]
                },
                {
                        "cell_type": "markdown",
                        "id": "891100ba",
                        "metadata": {},
                        "source": [
                                "## Simple Case"
                        ]
                },
                {
                        "cell_type": "markdown",
                        "id": "151afea0",
                        "metadata": {},
                        "source": [
                                "We set the positions of all vertices here."
                        ]
                },
                {
                        "cell_type": "code",
                        "execution_count": 2,
                        "id": "937fa0bc",
                        "metadata": {},
                        "outputs": [
                                {
                                        "name": "stderr",
                                        "output_type": "stream",
                                        "text": [
                                                "/tmp/ipykernel_22998/2728759477.py:1: DeprecatedWarning: set_xy is deprecated as of 2.0.7.1 and will be removed in 2.2. Use with...().\n",
                                                "  v1 = Vertex(\"v1\").with_xy(-1, 0)\n",
                                                "/tmp/ipykernel_22998/2728759477.py:2: DeprecatedWarning: set_xy is deprecated as of 2.0.7.1 and will be removed in 2.2. Use with...().\n",
                                                "  v2 = Vertex(\"v2\").with_xy(1, 0)\n",
                                                "/tmp/ipykernel_22998/2728759477.py:7: DeprecatedWarning: set_target is deprecated as of 2.0.7.1 and will be removed in 2.2. Use with...().\n",
                                                "  Leg(name=\"g\",bend=True).with_target(v1).with_xy(-2, 1).with_incoming(),\n",
                                                "/tmp/ipykernel_22998/2728759477.py:7: DeprecatedWarning: set_xy is deprecated as of 2.0.7.1 and will be removed in 2.2. Use with...().\n",
                                                "  Leg(name=\"g\",bend=True).with_target(v1).with_xy(-2, 1).with_incoming(),\n",
                                                "/tmp/ipykernel_22998/2728759477.py:7: DeprecatedWarning: set_incoming is deprecated as of 2.0.7.1 and will be removed in 2.2. Use with...().\n",
                                                "  Leg(name=\"g\",bend=True).with_target(v1).with_xy(-2, 1).with_incoming(),\n",
                                                "/tmp/ipykernel_22998/2728759477.py:8: DeprecatedWarning: set_target is deprecated as of 2.0.7.1 and will be removed in 2.2. Use with...().\n",
                                                "  Leg(name=\"g\",bend=True).with_target(v1).with_xy(-2, -1).with_incoming().with_class(\"notred\"),\n",
                                                "/tmp/ipykernel_22998/2728759477.py:8: DeprecatedWarning: set_xy is deprecated as of 2.0.7.1 and will be removed in 2.2. Use with...().\n",
                                                "  Leg(name=\"g\",bend=True).with_target(v1).with_xy(-2, -1).with_incoming().with_class(\"notred\"),\n",
                                                "/tmp/ipykernel_22998/2728759477.py:8: DeprecatedWarning: set_incoming is deprecated as of 2.0.7.1 and will be removed in 2.2. Use with...().\n",
                                                "  Leg(name=\"g\",bend=True).with_target(v1).with_xy(-2, -1).with_incoming().with_class(\"notred\"),\n",
                                                "/tmp/ipykernel_22998/2728759477.py:9: DeprecatedWarning: set_target is deprecated as of 2.0.7.1 and will be removed in 2.2. Use with...().\n",
                                                "  Leg(name=\"g\",bend=True).with_target(v2).with_xy(2, 1).with_outgoing().with_class(\"red\"),\n",
                                                "/tmp/ipykernel_22998/2728759477.py:9: DeprecatedWarning: set_xy is deprecated as of 2.0.7.1 and will be removed in 2.2. Use with...().\n",
                                                "  Leg(name=\"g\",bend=True).with_target(v2).with_xy(2, 1).with_outgoing().with_class(\"red\"),\n",
                                                "/tmp/ipykernel_22998/2728759477.py:9: DeprecatedWarning: set_outgoing is deprecated as of 2.0.7.1 and will be removed in 2.2. Use with...().\n",
                                                "  Leg(name=\"g\",bend=True).with_target(v2).with_xy(2, 1).with_outgoing().with_class(\"red\"),\n",
                                                "/tmp/ipykernel_22998/2728759477.py:10: DeprecatedWarning: set_target is deprecated as of 2.0.7.1 and will be removed in 2.2. Use with...().\n",
                                                "  Leg(\"myid1\",name=\"g\",bend=True).with_target(v2).with_xy(2, -1).with_outgoing()\n",
                                                "/tmp/ipykernel_22998/2728759477.py:10: DeprecatedWarning: set_xy is deprecated as of 2.0.7.1 and will be removed in 2.2. Use with...().\n",
                                                "  Leg(\"myid1\",name=\"g\",bend=True).with_target(v2).with_xy(2, -1).with_outgoing()\n",
                                                "/tmp/ipykernel_22998/2728759477.py:10: DeprecatedWarning: set_outgoing is deprecated as of 2.0.7.1 and will be removed in 2.2. Use with...().\n",
                                                "  Leg(\"myid1\",name=\"g\",bend=True).with_target(v2).with_xy(2, -1).with_outgoing()\n"
                                        ]
                                }
                        ],
                        "source": [
                                "v1 = Vertex(\"v1\").with_xy(-1, 0)\n",
                                "v2 = Vertex(\"v2\").with_xy(1, 0)\n",
                                "\n",
                                "fd = FeynmanDiagram().add(\n",
                                "    v1,v2,\n",
                                "    Propagator(name=\"g\",bend=True).connect(v1, v2),\n",
                                "    Leg(name=\"g\",bend=True).with_target(v1).with_xy(-2, 1).with_incoming(),\n",
                                "    Leg(name=\"g\",bend=True).with_target(v1).with_xy(-2, -1).with_incoming().with_class(\"notred\"),\n",
                                "    Leg(name=\"g\",bend=True).with_target(v2).with_xy(2, 1).with_outgoing().with_class(\"red\"),\n",
                                "    Leg(\"myid1\",name=\"g\",bend=True).with_target(v2).with_xy(2, -1).with_outgoing()\n",
                                ")"
                        ]
                },
                {
                        "cell_type": "markdown",
                        "id": "84ba61f6",
                        "metadata": {},
                        "source": [
                                "### Style"
                        ]
                },
                {
                        "cell_type": "code",
                        "execution_count": 3,
                        "id": "786153ab",
                        "metadata": {},
                        "outputs": [],
                        "source": [
                                "fd = fd.with_rule(\"\"\"\n",
                                "* {\n",
                                "    bend-direction: left;\n",
                                "    color: green;\n",
                                "}\n",
                                "\"\"\")"
                        ]
                },
                {
                        "cell_type": "code",
                        "execution_count": 4,
                        "id": "3d6a447e",
                        "metadata": {},
                        "outputs": [
                                {
                                        "data": {
                                                "text/plain": [
                                                        "FeynmanDiagram(default_style=True, propagators=[Propagator(id='Propagator7', id2=None, pdgid=<PDGID: 21>, name='g', type='gluon', particle=<Particle: name=\"g\", pdgid=21, mass=0.0 MeV>, style=cssutils.css.CSSStyleDeclaration(cssText=''), clazz=None, bend=True, label=None, momentum=None, tension=None, length=None, source='v1', target='v2')], vertices=[Vertex(id='v1', id2=None, style=cssutils.css.CSSStyleDeclaration(cssText=''), clazz=None, x=-1.0, y=0.0, z=None, label=None), Vertex(id='v2', id2=None, style=cssutils.css.CSSStyleDeclaration(cssText=''), clazz=None, x=1.0, y=0.0, z=None, label=None)], legs=[Leg(id='Leg8', id2=None, pdgid=<PDGID: 21>, name='g', type='gluon', particle=<Particle: name=\"g\", pdgid=21, mass=0.0 MeV>, style=cssutils.css.CSSStyleDeclaration(cssText=''), clazz=None, bend=True, label=None, momentum=None, tension=None, length=None, target='v1', x=-2.0, y=1.0, z=None, sense='incoming', external=None), Leg(id='Leg9', id2=None, pdgid=<PDGID: 21>, name='g', type='gluon', particle=<Particle: name=\"g\", pdgid=21, mass=0.0 MeV>, style=cssutils.css.CSSStyleDeclaration(cssText=''), clazz='notred', bend=True, label=None, momentum=None, tension=None, length=None, target='v1', x=-2.0, y=-1.0, z=None, sense='incoming', external=None), Leg(id='Leg10', id2=None, pdgid=<PDGID: 21>, name='g', type='gluon', particle=<Particle: name=\"g\", pdgid=21, mass=0.0 MeV>, style=cssutils.css.CSSStyleDeclaration(cssText=''), clazz='red', bend=True, label=None, momentum=None, tension=None, length=None, target='v2', x=2.0, y=1.0, z=None, sense='outgoing', external=None), Leg(id='myid1', id2=None, pdgid=<PDGID: 21>, name='g', type='gluon', particle=<Particle: name=\"g\", pdgid=21, mass=0.0 MeV>, style=cssutils.css.CSSStyleDeclaration(cssText=''), clazz=None, bend=True, label=None, momentum=None, tension=None, length=None, target='v2', x=2.0, y=-1.0, z=None, sense='outgoing', external=None)], labels=[], sheet=cssutils.css.CSSStyleSheet(href=None, media=None, title=None))"
                                                ]
                                        },
                                        "execution_count": 4,
                                        "metadata": {},
                                        "output_type": "execute_result"
                                }
                        ],
                        "source": [
                                "fd.add_rules(\"\"\"\n",
                                ".red {\n",
                                "    color: red;\n",
                                "}\n",
                                ".notred {\n",
                                "    color: blue;\n",
                                "}\n",
                                "#myid1 {\n",
                                "    color: gray;\n",
                                "}\n",
                                ".pdgid21 {\n",
                                "    color: black;\n",
                                "}\n",
                                "\"\"\")"
                        ]
                },
                {
                        "cell_type": "code",
                        "execution_count": 5,
                        "id": "a1474ec0",
                        "metadata": {},
                        "outputs": [
                                {
                                        "name": "stdout",
                                        "output_type": "stream",
                                        "text": [
                                                "\\documentclass[preview,crop,tikz]{standalone}%\n",
                                                "\\usepackage[T1]{fontenc}%\n",
                                                "\\usepackage[utf8]{inputenc}%\n",
                                                "\\usepackage{lmodern}%\n",
                                                "\\usepackage{textcomp}%\n",
                                                "\\usepackage{lastpage}%\n",
                                                "%\n",
                                                "\\RequirePackage{luatex85}%\n",
                                                "\\usepackage[compat=1.1.0]{tikz-feynman}%\n",
                                                "%\n",
                                                "\\begin{document}%\n",
                                                "\\normalsize%\n",
                                                "\\begin{tikzpicture}\n",
                                                "\\begin{feynman}\n",
                                                "\t\\vertex (v1) [] at (-1.0,0.0);\n",
                                                "\t\\vertex (v1clone) [] at (-1.0,0.0);\n",
                                                "\t\\vertex (v2) [] at (1.0,0.0);\n",
                                                "\t\\vertex (v2clone) [] at (1.0,0.0);\n",
                                                "\t\\vertex (Leg8) [] at (-2.0,1.0);\n",
                                                "\t\\vertex (Leg9) [] at (-2.0,-1.0);\n",
                                                "\t\\vertex (Leg10) [] at (2.0,1.0);\n",
                                                "\t\\vertex (myid1) [] at (2.0,-1.0);\n",
                                                "\t\\diagram*{\n",
                                                "\t\t(v1) -- [gluon,black,bend left] (v2),\n",
                                                "\t\t(Leg8) -- [gluon,black,bend left] (v1),\n",
                                                "\t\t(Leg9) -- [gluon,blue,bend left] (v1),\n",
                                                "\t\t(v2) -- [gluon,red,bend left] (Leg10),\n",
                                                "\t\t(v2) -- [gluon,gray,bend left] (myid1),\n",
                                                "\t};\n",
                                                "\\end{feynman}\n",
                                                "\\end{tikzpicture}\n",
                                                "%\n",
                                                "\\end{document}\n"
                                        ]
                                }
                        ],
                        "source": [
                                "tfd = TikzFeynmanRender(fd)\n",
                                "print(tfd.get_src())"
                        ]
                },
                {
                        "cell_type": "code",
                        "execution_count": 6,
                        "id": "a7b7739c",
                        "metadata": {},
                        "outputs": [
                                {
                                        "data": {
                                                "image/png": "[encoded data removed]",
                                                "text/plain": [
                                                        "<wand.image.Image: b9ce6ab 'PDF' (160x81)>"
                                                ]
                                        },
                                        "metadata": {},
                                        "output_type": "display_data"
                                },
                                {
                                        "data": {
                                                "image/png": "[encoded data removed]",
                                                "text/plain": [
                                                        "<wand.image.Image: b9ce6ab 'PDF' (160x81)>"
                                                ]
                                        },
                                        "execution_count": 6,
                                        "metadata": {},
                                        "output_type": "execute_result"
                                }
                        ],
                        "source": [
                                "tfd.render(\"test.pdf\")"
                        ]
                },
                {
                        "cell_type": "markdown",
                        "id": "99fbd5ba",
                        "metadata": {},
                        "source": [
                                "## Complicated Case"
                        ]
                },
                {
                        "cell_type": "markdown",
                        "id": "62f35db5",
                        "metadata": {},
                        "source": [
                                "We only set the positions of the Legs here."
                        ]
                },
                {
                        "cell_type": "code",
                        "execution_count": 16,
                        "id": "dda6bc22",
                        "metadata": {},
                        "outputs": [
                                {
                                        "name": "stderr",
                                        "output_type": "stream",
                                        "text": [
                                                "/tmp/ipykernel_22998/900790511.py:6: DeprecatedWarning: set_type is deprecated as of 2.0.7.1 and will be removed in 2.2. Use with...().\n",
                                                "  p1 = Propagator(\"p1\").connect(v1, v2).with_type(\"gluon\")\n",
                                                "/tmp/ipykernel_22998/900790511.py:7: DeprecatedWarning: set_type is deprecated as of 2.0.7.1 and will be removed in 2.2. Use with...().\n",
                                                "  p2 = Propagator(\"p2\").connect(v1, v3).with_type(\"gluon\")\n",
                                                "/tmp/ipykernel_22998/900790511.py:8: DeprecatedWarning: set_type is deprecated as of 2.0.7.1 and will be removed in 2.2. Use with...().\n",
                                                "  p3 = Propagator(\"p3\").connect(v3, v2).with_type(\"gluon\")\n",
                                                "/tmp/ipykernel_22998/900790511.py:9: DeprecatedWarning: set_type is deprecated as of 2.0.7.1 and will be removed in 2.2. Use with...().\n",
                                                "  p4 = Propagator(\"p4\").connect(v4, v3).with_type(\"gluon\")\n",
                                                "/tmp/ipykernel_22998/900790511.py:10: DeprecatedWarning: set_type is deprecated as of 2.0.7.1 and will be removed in 2.2. Use with...().\n",
                                                "  p5 = Propagator(\"p5\").connect(v4, v2).with_type(\"gluon\")\n",
                                                "/tmp/ipykernel_22998/900790511.py:11: DeprecatedWarning: set_target is deprecated as of 2.0.7.1 and will be removed in 2.2. Use with...().\n",
                                                "  l1 = Leg(\"l1\").with_target(v1).with_type(\"gluon\").with_incoming().with_xy(-2, 1)\n",
                                                "/tmp/ipykernel_22998/900790511.py:11: DeprecatedWarning: set_type is deprecated as of 2.0.7.1 and will be removed in 2.2. Use with...().\n",
                                                "  l1 = Leg(\"l1\").with_target(v1).with_type(\"gluon\").with_incoming().with_xy(-2, 1)\n",
                                                "/tmp/ipykernel_22998/900790511.py:11: DeprecatedWarning: set_incoming is deprecated as of 2.0.7.1 and will be removed in 2.2. Use with...().\n",
                                                "  l1 = Leg(\"l1\").with_target(v1).with_type(\"gluon\").with_incoming().with_xy(-2, 1)\n",
                                                "/tmp/ipykernel_22998/900790511.py:11: DeprecatedWarning: set_xy is deprecated as of 2.0.7.1 and will be removed in 2.2. Use with...().\n",
                                                "  l1 = Leg(\"l1\").with_target(v1).with_type(\"gluon\").with_incoming().with_xy(-2, 1)\n",
                                                "/tmp/ipykernel_22998/900790511.py:12: DeprecatedWarning: set_target is deprecated as of 2.0.7.1 and will be removed in 2.2. Use with...().\n",
                                                "  l2 = Leg(\"l2\").with_target(v1).with_type(\"gluon\").with_incoming().with_xy(-2, -1)\n",
                                                "/tmp/ipykernel_22998/900790511.py:12: DeprecatedWarning: set_type is deprecated as of 2.0.7.1 and will be removed in 2.2. Use with...().\n",
                                                "  l2 = Leg(\"l2\").with_target(v1).with_type(\"gluon\").with_incoming().with_xy(-2, -1)\n",
                                                "/tmp/ipykernel_22998/900790511.py:12: DeprecatedWarning: set_incoming is deprecated as of 2.0.7.1 and will be removed in 2.2. Use with...().\n",
                                                "  l2 = Leg(\"l2\").with_target(v1).with_type(\"gluon\").with_incoming().with_xy(-2, -1)\n",
                                                "/tmp/ipykernel_22998/900790511.py:12: DeprecatedWarning: set_xy is deprecated as of 2.0.7.1 and will be removed in 2.2. Use with...().\n",
                                                "  l2 = Leg(\"l2\").with_target(v1).with_type(\"gluon\").with_incoming().with_xy(-2, -1)\n",
                                                "/tmp/ipykernel_22998/900790511.py:13: DeprecatedWarning: set_target is deprecated as of 2.0.7.1 and will be removed in 2.2. Use with...().\n",
                                                "  l3 = Leg(\"l3\").with_target(v2).with_type(\"fermion\").with_outgoing().with_xy(2, -2)\n",
                                                "/tmp/ipykernel_22998/900790511.py:13: DeprecatedWarning: set_type is deprecated as of 2.0.7.1 and will be removed in 2.2. Use with...().\n",
                                                "  l3 = Leg(\"l3\").with_target(v2).with_type(\"fermion\").with_outgoing().with_xy(2, -2)\n",
                                                "/tmp/ipykernel_22998/900790511.py:13: DeprecatedWarning: set_outgoing is deprecated as of 2.0.7.1 and will be removed in 2.2. Use with...().\n",
                                                "  l3 = Leg(\"l3\").with_target(v2).with_type(\"fermion\").with_outgoing().with_xy(2, -2)\n",
                                                "/tmp/ipykernel_22998/900790511.py:13: DeprecatedWarning: set_xy is deprecated as of 2.0.7.1 and will be removed in 2.2. Use with...().\n",
                                                "  l3 = Leg(\"l3\").with_target(v2).with_type(\"fermion\").with_outgoing().with_xy(2, -2)\n",
                                                "/tmp/ipykernel_22998/900790511.py:14: DeprecatedWarning: set_target is deprecated as of 2.0.7.1 and will be removed in 2.2. Use with...().\n",
                                                "  l4 = Leg(\"l4\").with_target(v3).with_type(\"fermion\").with_outgoing().with_xy(2, 2)\n",
                                                "/tmp/ipykernel_22998/900790511.py:14: DeprecatedWarning: set_type is deprecated as of 2.0.7.1 and will be removed in 2.2. Use with...().\n",
                                                "  l4 = Leg(\"l4\").with_target(v3).with_type(\"fermion\").with_outgoing().with_xy(2, 2)\n",
                                                "/tmp/ipykernel_22998/900790511.py:14: DeprecatedWarning: set_outgoing is deprecated as of 2.0.7.1 and will be removed in 2.2. Use with...().\n",
                                                "  l4 = Leg(\"l4\").with_target(v3).with_type(\"fermion\").with_outgoing().with_xy(2, 2)\n",
                                                "/tmp/ipykernel_22998/900790511.py:14: DeprecatedWarning: set_xy is deprecated as of 2.0.7.1 and will be removed in 2.2. Use with...().\n",
                                                "  l4 = Leg(\"l4\").with_target(v3).with_type(\"fermion\").with_outgoing().with_xy(2, 2)\n",
                                                "/tmp/ipykernel_22998/900790511.py:15: DeprecatedWarning: set_target is deprecated as of 2.0.7.1 and will be removed in 2.2. Use with...().\n",
                                                "  l5 = Leg(\"l5\").with_target(v4).with_type(\"gluon\").with_outgoing().with_xy(2, 1)\n",
                                                "/tmp/ipykernel_22998/900790511.py:15: DeprecatedWarning: set_type is deprecated as of 2.0.7.1 and will be removed in 2.2. Use with...().\n",
                                                "  l5 = Leg(\"l5\").with_target(v4).with_type(\"gluon\").with_outgoing().with_xy(2, 1)\n",
                                                "/tmp/ipykernel_22998/900790511.py:15: DeprecatedWarning: set_outgoing is deprecated as of 2.0.7.1 and will be removed in 2.2. Use with...().\n",
                                                "  l5 = Leg(\"l5\").with_target(v4).with_type(\"gluon\").with_outgoing().with_xy(2, 1)\n",
                                                "/tmp/ipykernel_22998/900790511.py:15: DeprecatedWarning: set_xy is deprecated as of 2.0.7.1 and will be removed in 2.2. Use with...().\n",
                                                "  l5 = Leg(\"l5\").with_target(v4).with_type(\"gluon\").with_outgoing().with_xy(2, 1)\n",
                                                "/tmp/ipykernel_22998/900790511.py:16: DeprecatedWarning: set_target is deprecated as of 2.0.7.1 and will be removed in 2.2. Use with...().\n",
                                                "  l6 = Leg(\"l6\").with_target(v4).with_type(\"gluon\").with_outgoing().with_xy(2, -1)\n",
                                                "/tmp/ipykernel_22998/900790511.py:16: DeprecatedWarning: set_type is deprecated as of 2.0.7.1 and will be removed in 2.2. Use with...().\n",
                                                "  l6 = Leg(\"l6\").with_target(v4).with_type(\"gluon\").with_outgoing().with_xy(2, -1)\n",
                                                "/tmp/ipykernel_22998/900790511.py:16: DeprecatedWarning: set_outgoing is deprecated as of 2.0.7.1 and will be removed in 2.2. Use with...().\n",
                                                "  l6 = Leg(\"l6\").with_target(v4).with_type(\"gluon\").with_outgoing().with_xy(2, -1)\n",
                                                "/tmp/ipykernel_22998/900790511.py:16: DeprecatedWarning: set_xy is deprecated as of 2.0.7.1 and will be removed in 2.2. Use with...().\n",
                                                "  l6 = Leg(\"l6\").with_target(v4).with_type(\"gluon\").with_outgoing().with_xy(2, -1)\n"
                                        ]
                                }
                        ],
                        "source": [
                                "fd = FeynmanDiagram().with_rules(\"* {color: red;} \\n.fermion {color: blue;}\")\n",
                                "v1 = Vertex(\"v1\")\n",
                                "v2 = Vertex(\"v2\")\n",
                                "v3 = Vertex(\"v3\")\n",
                                "v4 = Vertex(\"v4\")\n",
                                "p1 = Propagator(\"p1\").connect(v1, v2).with_type(\"gluon\")\n",
                                "p2 = Propagator(\"p2\").connect(v1, v3).with_type(\"gluon\")\n",
                                "p3 = Propagator(\"p3\").connect(v3, v2).with_type(\"gluon\")\n",
                                "p4 = Propagator(\"p4\").connect(v4, v3).with_type(\"gluon\")\n",
                                "p5 = Propagator(\"p5\").connect(v4, v2).with_type(\"gluon\")\n",
                                "l1 = Leg(\"l1\").with_target(v1).with_type(\"gluon\").with_incoming().with_xy(-2, 1)\n",
                                "l2 = Leg(\"l2\").with_target(v1).with_type(\"gluon\").with_incoming().with_xy(-2, -1)\n",
                                "l3 = Leg(\"l3\").with_target(v2).with_type(\"fermion\").with_outgoing().with_xy(2, -2)\n",
                                "l4 = Leg(\"l4\").with_target(v3).with_type(\"fermion\").with_outgoing().with_xy(2, 2)\n",
                                "l5 = Leg(\"l5\").with_target(v4).with_type(\"gluon\").with_outgoing().with_xy(2, 1)\n",
                                "l6 = Leg(\"l6\").with_target(v4).with_type(\"gluon\").with_outgoing().with_xy(2, -1)\n",
                                "\n",
                                "l6.style.color = \"black\"\n",
                                "\n",
                                "fd.propagators.extend([p1, p2, p3, p4, p5])\n",
                                "fd.vertices.extend([v1, v2, v3, v4])\n",
                                "fd.legs.extend([l1, l2, l3, l4, l5, l6])"
                        ]
                },
                {
                        "cell_type": "markdown",
                        "id": "8bf8b95c",
                        "metadata": {},
                        "source": [
                                "Now calculate the positions of vertices."
                        ]
                },
                {
                        "cell_type": "code",
                        "execution_count": 17,
                        "id": "2cc1456b",
                        "metadata": {},
                        "outputs": [],
                        "source": [
                                "ffd= feynman_adjust_points(fd)"
                        ]
                },
                {
                        "cell_type": "code",
                        "execution_count": 18,
                        "id": "87c4b396",
                        "metadata": {},
                        "outputs": [
                                {
                                        "data": {
                                                "image/png": "[encoded data removed]",
                                                "text/plain": [
                                                        "<wand.image.Image: e1aabfe 'PDF' (181x181)>"
                                                ]
                                        },
                                        "metadata": {},
                                        "output_type": "display_data"
                                },
                                {
                                        "data": {
                                                "image/png": "[encoded data removed]",
                                                "text/plain": [
                                                        "<wand.image.Image: e1aabfe 'PDF' (181x181)>"
                                                ]
                                        },
                                        "execution_count": 18,
                                        "metadata": {},
                                        "output_type": "execute_result"
                                }
                        ],
                        "source": [
                                "TikzFeynmanRender(ffd).render()"
                        ]
                }
        ],
        "metadata": {
                "kernelspec": {
                        "display_name": "Python 3 (ipykernel)",
                        "language": "python",
                        "name": "python3"
                },
                "language_info": {
                        "codemirror_mode": {
                                "name": "ipython",
                                "version": 3
                        },
                        "file_extension": ".py",
                        "mimetype": "text/x-python",
                        "name": "python",
                        "nbconvert_exporter": "python",
                        "pygments_lexer": "ipython3",
                        "version": "3.9.16"
                }
        },
        "nbformat": 4,
        "nbformat_minor": 5
}
