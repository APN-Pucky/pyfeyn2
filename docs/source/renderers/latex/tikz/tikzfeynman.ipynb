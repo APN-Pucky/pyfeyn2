{
 "cells": [
  {
   "cell_type": "markdown",
   "id": "f32ecc80",
   "metadata": {},
   "source": [
    "# TikZ-Feynman"
   ]
  },
  {
   "cell_type": "code",
   "execution_count": 1,
   "id": "d7959cdb",
   "metadata": {},
   "outputs": [
    {
     "name": "stdout",
     "output_type": "stream",
     "text": [
      "2.0.0\n"
     ]
    }
   ],
   "source": [
    "from pyfeyn2.feynmandiagram import FeynmanDiagram, Leg, Propagator, Vertex, Line,PDG\n",
    "from pyfeyn2.render.latex.tikzfeynman import TikzFeynmanRender\n",
    "from pyfeyn2.auto.position import feynman_adjust_points\n",
    "import pyfeyn2\n",
    "print(pyfeyn2.__version__)"
   ]
  },
  {
   "cell_type": "markdown",
   "id": "891100ba",
   "metadata": {},
   "source": [
    "## Simple Case"
   ]
  },
  {
   "cell_type": "markdown",
   "id": "151afea0",
   "metadata": {},
   "source": [
    "We set the positions of all vertices here."
   ]
  },
  {
   "cell_type": "code",
   "execution_count": 2,
   "id": "937fa0bc",
   "metadata": {},
   "outputs": [
    {
     "data": {
      "text/plain": [
       "FeynmanDiagram(propagators=[Propagator(id='p1', id2=None, pdgid=None, name=None, type='gluon', particle=None, style=cssutils.css.CSSStyleDeclaration(cssText=''), clazz=None, bend=None, label=None, momentum=None, tension=None, length=None, source='v1', target='v2')], vertices=[Vertex(id='v1', id2=None, style=cssutils.css.CSSStyleDeclaration(cssText=''), clazz=None, x=-1.0, y=0.0, z=None, label=None), Vertex(id='v2', id2=None, style=cssutils.css.CSSStyleDeclaration(cssText=''), clazz=None, x=1.0, y=0.0, z=None, label=None)], legs=[Leg(id='l1', id2=None, pdgid=None, name=None, type='gluon', particle=None, style=cssutils.css.CSSStyleDeclaration(cssText=''), clazz='notred', bend=None, label=None, momentum=None, tension=None, length=None, target='v1', x=-2.0, y=1.0, z=None, sense='incoming', external=None), Leg(id='l2', id2=None, pdgid=None, name=None, type='gluon', particle=None, style=cssutils.css.CSSStyleDeclaration(cssText=''), clazz='notred', bend=None, label=None, momentum=None, tension=None, length=None, target='v1', x=-2.0, y=-1.0, z=None, sense='incoming', external=None), Leg(id='l3', id2=None, pdgid=None, name=None, type='gluon', particle=None, style=cssutils.css.CSSStyleDeclaration(cssText=''), clazz='red', bend=None, label=None, momentum=None, tension=None, length=None, target='v2', x=2.0, y=1.0, z=None, sense='outgoing', external=None), Leg(id='l4', id2=None, pdgid=None, name=None, type='gluon', particle=None, style=cssutils.css.CSSStyleDeclaration(cssText=''), clazz=None, bend=None, label=None, momentum=None, tension=None, length=None, target='v2', x=2.0, y=-1.0, z=None, sense='outgoing', external=None)], labels=[], sheet=cssutils.css.CSSStyleSheet(href=None, media=None, title=None))"
      ]
     },
     "execution_count": 2,
     "metadata": {},
     "output_type": "execute_result"
    }
   ],
   "source": [
    "fd = FeynmanDiagram()\n",
    "v1 = Vertex(\"v1\").set_xy(-1, 0)\n",
    "v2 = Vertex(\"v2\").set_xy(1, 0)\n",
    "p1 = Propagator(\"p1\").connect(v1, v2).set_type(\"gluon\")\n",
    "l1 = Leg(\"l1\").set_target(v1).set_xy(-2, 1).set_type(\"gluon\").set_incoming().with_class(\"notred\")\n",
    "l2 = Leg(\"l2\").set_target(v1).set_xy(-2, -1).set_type(\"gluon\").set_incoming().with_class(\"notred\")\n",
    "l3 = Leg(\"l3\").set_target(v2).set_xy(2, 1).set_type(\"gluon\").set_outgoing().with_class(\"red\")\n",
    "l4 = Leg(\"l4\").set_target(v2).set_xy(2, -1).set_type(\"gluon\").set_outgoing()\n",
    "p1.set_source(v1)\n",
    "p1.set_target(v2)\n",
    "fd.propagators.append(p1)\n",
    "fd.vertices.extend([v1, v2])\n",
    "fd.legs.extend([l1, l2, l3, l4])\n",
    "fd"
   ]
  },
  {
   "cell_type": "markdown",
   "id": "91d6586b",
   "metadata": {},
   "source": [
    "### Style"
   ]
  },
  {
   "cell_type": "code",
   "execution_count": 3,
   "id": "4309e885",
   "metadata": {},
   "outputs": [
    {
     "data": {
      "text/plain": [
       "b'* {\\n    color: green\\n    }'"
      ]
     },
     "execution_count": 3,
     "metadata": {},
     "output_type": "execute_result"
    }
   ],
   "source": [
    "fd = fd.with_rule(\"\"\"\n",
    "* {\n",
    "    color: green;\n",
    "}\n",
    "\"\"\")\n",
    "\n",
    "fd.sheet.cssText\n"
   ]
  },
  {
   "cell_type": "code",
   "execution_count": 4,
   "id": "c8cbf112",
   "metadata": {},
   "outputs": [
    {
     "name": "stdout",
     "output_type": "stream",
     "text": [
      "b'* {\\n    color: green\\n    }'\n",
      "\n",
      ".red {\n",
      "    color: red;\n",
      "}\n",
      ".notred {\n",
      "    color: blue;\n",
      "}\n"
     ]
    },
    {
     "data": {
      "text/plain": [
       "b'* {\\n    color: green\\n    }\\n.red {\\n    color: red\\n    }\\n.notred {\\n    color: blue\\n    }'"
      ]
     },
     "execution_count": 4,
     "metadata": {},
     "output_type": "execute_result"
    }
   ],
   "source": [
    "fd.with_rules(\"\"\"\n",
    ".red {\n",
    "    color: red;\n",
    "}\n",
    ".notred {\n",
    "    color: blue;\n",
    "}\"\"\")\n",
    "fd.sheet.cssText"
   ]
  },
  {
   "cell_type": "code",
   "execution_count": 5,
   "id": "a1474ec0",
   "metadata": {},
   "outputs": [
    {
     "name": "stdout",
     "output_type": "stream",
     "text": [
      "\\documentclass[preview,crop,tikz]{standalone}%\n",
      "\\usepackage[T1]{fontenc}%\n",
      "\\usepackage[utf8]{inputenc}%\n",
      "\\usepackage{lmodern}%\n",
      "\\usepackage{textcomp}%\n",
      "\\usepackage{lastpage}%\n",
      "%\n",
      "\\RequirePackage{luatex85}%\n",
      "\\usepackage[compat=1.1.0]{tikz-feynman}%\n",
      "%\n",
      "\\begin{document}%\n",
      "\\normalsize%\n",
      "\\begin{tikzpicture}\n",
      "\\begin{feynman}\n",
      "\t\\vertex (v1) [] at (-1.0,0.0);\n",
      "\t\\vertex (v1clone) [] at (-1.0,0.0);\n",
      "\t\\vertex (v2) [] at (1.0,0.0);\n",
      "\t\\vertex (v2clone) [] at (1.0,0.0);\n",
      "\t\\vertex (l1) [] at (-2.0,1.0);\n",
      "\t\\vertex (l2) [] at (-2.0,-1.0);\n",
      "\t\\vertex (l3) [] at (2.0,1.0);\n",
      "\t\\vertex (l4) [] at (2.0,-1.0);\n",
      "\t\\diagram*{\n",
      "\t\t(v1) -- [gluon,green] (v2),\n",
      "\t\t(l1) -- [gluon,blue] (v1),\n",
      "\t\t(l2) -- [gluon,blue] (v1),\n",
      "\t\t(v2) -- [gluon,red] (l3),\n",
      "\t\t(v2) -- [gluon,green] (l4),\n",
      "\t};\n",
      "\\end{feynman}\n",
      "\\end{tikzpicture}\n",
      "%\n",
      "\\end{document}\n"
     ]
    }
   ],
   "source": [
    "tfd = TikzFeynmanRender(fd)\n",
    "print(tfd.get_src())"
   ]
  },
  {
   "cell_type": "code",
   "execution_count": 6,
   "id": "a7b7739c",
   "metadata": {},
   "outputs": [
    {
     "data": {
      "image/png": "[encoded data removed]",
      "text/plain": [
       "<wand.image.Image: 592c530 'PDF' (160x80)>"
      ]
     },
     "metadata": {},
     "output_type": "display_data"
    },
    {
     "data": {
      "image/png": "[encoded data removed]",
      "text/plain": [
       "<wand.image.Image: 592c530 'PDF' (160x80)>"
      ]
     },
     "execution_count": 6,
     "metadata": {},
     "output_type": "execute_result"
    }
   ],
   "source": [
    "tfd.render(\"test.pdf\")"
   ]
  },
  {
   "cell_type": "markdown",
   "id": "99fbd5ba",
   "metadata": {},
   "source": [
    "## Complicated Case"
   ]
  },
  {
   "cell_type": "markdown",
   "id": "62f35db5",
   "metadata": {},
   "source": [
    "We only set the positions of the Legs here."
   ]
  },
  {
   "cell_type": "code",
   "execution_count": 10,
   "id": "dda6bc22",
   "metadata": {},
   "outputs": [
    {
     "name": "stdout",
     "output_type": "stream",
     "text": [
      "b''\n",
      "* {color: yellow;}\n"
     ]
    }
   ],
   "source": [
    "fd = FeynmanDiagram().with_rules(\"* {color: yellow;}\")\n",
    "v1 = Vertex(\"v1\")\n",
    "v2 = Vertex(\"v2\")\n",
    "v3 = Vertex(\"v3\")\n",
    "v4 = Vertex(\"v4\")\n",
    "p1 = Propagator(\"p1\").connect(v1, v2).set_type(\"gluon\")\n",
    "p2 = Propagator(\"p2\").connect(v1, v3).set_type(\"gluon\")\n",
    "p3 = Propagator(\"p3\").connect(v3, v2).set_type(\"gluon\")\n",
    "p4 = Propagator(\"p4\").connect(v4, v3).set_type(\"gluon\")\n",
    "p5 = Propagator(\"p5\").connect(v4, v2).set_type(\"gluon\")\n",
    "l1 = Leg(\"l1\").set_target(v1).set_type(\"gluon\").set_incoming().set_xy(-2, 1)\n",
    "l2 = Leg(\"l2\").set_target(v1).set_type(\"gluon\").set_incoming().set_xy(-2, -1)\n",
    "l3 = Leg(\"l3\").set_target(v2).set_type(\"gluon\").set_outgoing().set_xy(2, -2)\n",
    "l4 = Leg(\"l4\").set_target(v3).set_type(\"gluon\").set_outgoing().set_xy(2, 2)\n",
    "l5 = Leg(\"l5\").set_target(v4).set_type(\"gluon\").set_outgoing().set_xy(2, 1)\n",
    "l6 = Leg(\"l6\").set_target(v4).set_type(\"gluon\").set_outgoing().set_xy(2, -1)\n",
    "\n",
    "fd.propagators.extend([p1, p2, p3, p4, p5])\n",
    "fd.vertices.extend([v1, v2, v3, v4])\n",
    "fd.legs.extend([l1, l2, l3, l4, l5, l6])"
   ]
  },
  {
   "cell_type": "markdown",
   "id": "8bf8b95c",
   "metadata": {},
   "source": [
    "Now calculate the positions of vertices."
   ]
  },
  {
   "cell_type": "code",
   "execution_count": 11,
   "id": "2cc1456b",
   "metadata": {},
   "outputs": [],
   "source": [
    "ffd= feynman_adjust_points(fd)"
   ]
  },
  {
   "cell_type": "code",
   "execution_count": 12,
   "id": "87c4b396",
   "metadata": {},
   "outputs": [
    {
     "data": {
      "image/png": "[encoded data removed]",
      "text/plain": [
       "<wand.image.Image: 0948732 'PDF' (181x181)>"
      ]
     },
     "metadata": {},
     "output_type": "display_data"
    },
    {
     "data": {
      "image/png": "[encoded data removed]",
      "text/plain": [
       "<wand.image.Image: 0948732 'PDF' (181x181)>"
      ]
     },
     "execution_count": 12,
     "metadata": {},
     "output_type": "execute_result"
    }
   ],
   "source": [
    "TikzFeynmanRender(ffd).render()"
   ]
  },
  {
   "cell_type": "code",
   "execution_count": null,
   "id": "c407aecf",
   "metadata": {},
   "outputs": [],
   "source": []
  }
 ],
 "metadata": {
  "kernelspec": {
   "display_name": "Python 3 (ipykernel)",
   "language": "python",
   "name": "python3"
  },
  "language_info": {
   "codemirror_mode": {
    "name": "ipython",
    "version": 3
   },
   "file_extension": ".py",
   "mimetype": "text/x-python",
   "name": "python",
   "nbconvert_exporter": "python",
   "pygments_lexer": "ipython3",
   "version": "3.9.16"
  }
 },
 "nbformat": 4,
 "nbformat_minor": 5
}
