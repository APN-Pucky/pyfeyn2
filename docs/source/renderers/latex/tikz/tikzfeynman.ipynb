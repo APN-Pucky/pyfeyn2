{
 "cells": [
  {
   "cell_type": "markdown",
   "id": "f32ecc80",
   "metadata": {},
   "source": [
    "# TikZ-Feynman"
   ]
  },
  {
   "cell_type": "code",
   "execution_count": 1,
   "id": "d7959cdb",
   "metadata": {},
   "outputs": [
    {
     "name": "stdout",
     "output_type": "stream",
     "text": [
      "2.0.7.46\n"
     ]
    }
   ],
   "source": [
    "from pyfeyn2.feynmandiagram import FeynmanDiagram, Leg, Propagator, Vertex, Line,PDG\n",
    "from pyfeyn2.render.latex.tikzfeynman import TikzFeynmanRender\n",
    "from pyfeyn2.auto.position import feynman_adjust_points\n",
    "import pyfeyn2\n",
    "print(pyfeyn2.__version__)"
   ]
  },
  {
   "cell_type": "markdown",
   "id": "891100ba",
   "metadata": {},
   "source": [
    "## Simple Case"
   ]
  },
  {
   "cell_type": "markdown",
   "id": "151afea0",
   "metadata": {},
   "source": [
    "We set the positions of all vertices here."
   ]
  },
  {
   "cell_type": "code",
   "execution_count": 2,
   "id": "937fa0bc",
   "metadata": {},
   "outputs": [],
   "source": [
    "v1 = Vertex(\"v1\").with_xy(-1, 0)\n",
    "v2 = Vertex(\"v2\").with_xy(1, 0)\n",
    "\n",
    "fd = FeynmanDiagram().add(\n",
    "    v1,v2,\n",
    "    Propagator(name=\"g\",bend=True).connect(v1, v2),\n",
    "    Leg(name=\"g\",bend=True).with_target(v1).with_xy(-2, 1).with_incoming(),\n",
    "    Leg(name=\"g\",bend=True).with_target(v1).with_xy(-2, -1).with_incoming().with_class(\"notred\"),\n",
    "    Leg(name=\"g\",bend=True).with_target(v2).with_xy(2, 1).with_outgoing().with_class(\"red\"),\n",
    "    Leg(\"myid1\",name=\"g\",bend=True).with_target(v2).with_xy(2, -1).with_outgoing()\n",
    ")"
   ]
  },
  {
   "cell_type": "markdown",
   "id": "84ba61f6",
   "metadata": {},
   "source": [
    "### Style"
   ]
  },
  {
   "cell_type": "code",
   "execution_count": 3,
   "id": "786153ab",
   "metadata": {},
   "outputs": [],
   "source": [
    "fd = fd.with_rule(\"\"\"\n",
    "* {\n",
    "    bend-direction: left;\n",
    "    color: green;\n",
    "}\n",
    "\"\"\")"
   ]
  },
  {
   "cell_type": "code",
   "execution_count": 4,
   "id": "3d6a447e",
   "metadata": {},
   "outputs": [
    {
     "data": {
      "text/plain": [
       "b'* {\\n    bend-direction: left;\\n    color: green\\n    }\\n.red {\\n    color: red\\n    }\\n.notred {\\n    color: blue\\n    }\\n#myid1 {\\n    color: gray\\n    }\\n#myid2 {\\n    color: gray\\n    }'"
      ]
     },
     "execution_count": 4,
     "metadata": {},
     "output_type": "execute_result"
    }
   ],
   "source": [
    "fd.add_rules(\"\"\"\n",
    ".red {\n",
    "    color: red;\n",
    "}\n",
    ".notred {\n",
    "    color: blue;\n",
    "}\n",
    "#myid1 {\n",
    "    color: gray;\n",
    "}\n",
    "[pdgid=21] {\n",
    "    color: black;\n",
    "}\n",
    "#myid2 {\n",
    "    color: gray;\n",
    "}\n",
    "\"\"\")\n",
    "fd.sheet.cssText"
   ]
  },
  {
   "cell_type": "code",
   "execution_count": 5,
   "id": "4078f3f0",
   "metadata": {},
   "outputs": [
    {
     "data": {
      "text/plain": [
       "'<?xml version=\"1.0\" encoding=\"UTF-8\"?>\\n<diagram default_style=\"true\" style=\"* {&#10;    bend-direction: left;&#10;    color: green&#10;    }&#10;.red {&#10;    color: red&#10;    }&#10;.notred {&#10;    color: blue&#10;    }&#10;#myid1 {&#10;    color: gray&#10;    }&#10;#myid2 {&#10;    color: gray&#10;    }\">\\n  <propagator id=\"Propagator6\" pdgid=\"21\" type=\"gluon\" style=\"\" bend=\"true\">\\n    <name>g</name>\\n    <source>v1</source>\\n    <target>v2</target>\\n  </propagator>\\n  <vertex id=\"v1\" style=\"\" x=\"-1.0\" y=\"0.0\"/>\\n  <vertex id=\"v2\" style=\"\" x=\"1.0\" y=\"0.0\"/>\\n  <leg id=\"Leg7\" pdgid=\"21\" type=\"gluon\" style=\"\" bend=\"true\" x=\"-2.0\" y=\"1.0\">\\n    <name>g</name>\\n    <target>v1</target>\\n    <sense>incoming</sense>\\n  </leg>\\n  <leg id=\"Leg8\" pdgid=\"21\" type=\"gluon\" style=\"\" class=\"notred\" bend=\"true\" x=\"-2.0\" y=\"-1.0\">\\n    <name>g</name>\\n    <target>v1</target>\\n    <sense>incoming</sense>\\n  </leg>\\n  <leg id=\"Leg9\" pdgid=\"21\" type=\"gluon\" style=\"\" class=\"red\" bend=\"true\" x=\"2.0\" y=\"1.0\">\\n    <name>g</name>\\n    <target>v2</target>\\n    <sense>outgoing</sense>\\n  </leg>\\n  <leg id=\"myid1\" pdgid=\"21\" type=\"gluon\" style=\"\" bend=\"true\" x=\"2.0\" y=\"-1.0\">\\n    <name>g</name>\\n    <target>v2</target>\\n    <sense>outgoing</sense>\\n  </leg>\\n</diagram>\\n'"
      ]
     },
     "execution_count": 5,
     "metadata": {},
     "output_type": "execute_result"
    }
   ],
   "source": [
    "fd.to_xml()"
   ]
  },
  {
   "cell_type": "code",
   "execution_count": 6,
   "id": "a1474ec0",
   "metadata": {},
   "outputs": [
    {
     "name": "stdout",
     "output_type": "stream",
     "text": [
      "\\documentclass[preview,crop,tikz]{standalone}%\n",
      "\\usepackage[T1]{fontenc}%\n",
      "\\usepackage[utf8]{inputenc}%\n",
      "\\usepackage{lmodern}%\n",
      "\\usepackage{textcomp}%\n",
      "\\usepackage{lastpage}%\n",
      "%\n",
      "\\RequirePackage{luatex85}%\n",
      "\\usepackage[compat=1.1.0]{tikz-feynman}%\n",
      "%\n",
      "\\begin{document}%\n",
      "\\normalsize%\n",
      "\\begin{tikzpicture}\n",
      "\\begin{feynman}\n",
      "\t\\vertex (v1) [] at (-1.0,0.0);\n",
      "\t\\vertex (v1clone) [] at (-1.0,0.0);\n",
      "\t\\vertex (v2) [] at (1.0,0.0);\n",
      "\t\\vertex (v2clone) [] at (1.0,0.0);\n",
      "\t\\vertex (Leg7) [] at (-2.0,1.0);\n",
      "\t\\vertex (Leg8) [] at (-2.0,-1.0);\n",
      "\t\\vertex (Leg9) [] at (2.0,1.0);\n",
      "\t\\vertex (myid1) [] at (2.0,-1.0);\n",
      "\t\\diagram*{\n",
      "\t\t(v1) -- [gluon,green,bend left] (v2),\n",
      "\t\t(Leg7) -- [gluon,green,bend left] (v1),\n",
      "\t\t(Leg8) -- [gluon,blue,bend left] (v1),\n",
      "\t\t(v2) -- [gluon,red,bend left] (Leg9),\n",
      "\t\t(v2) -- [gluon,gray,bend left] (myid1),\n",
      "\t};\n",
      "\\end{feynman}\n",
      "\\end{tikzpicture}\n",
      "%\n",
      "\\end{document}\n"
     ]
    }
   ],
   "source": [
    "tfd = TikzFeynmanRender(fd)\n",
    "print(tfd.get_src())"
   ]
  },
  {
   "cell_type": "code",
   "execution_count": 7,
   "id": "a7b7739c",
   "metadata": {},
   "outputs": [
    {
     "data": {
      "image/png": "[encoded data removed]",
      "text/plain": [
       "<wand.image.Image: 5db014f 'PDF' (160x81)>"
      ]
     },
     "metadata": {},
     "output_type": "display_data"
    },
    {
     "data": {
      "image/png": "[encoded data removed]",
      "text/plain": [
       "<wand.image.Image: 5db014f 'PDF' (160x81)>"
      ]
     },
     "execution_count": 7,
     "metadata": {},
     "output_type": "execute_result"
    }
   ],
   "source": [
    "tfd.render(\"test.pdf\")"
   ]
  },
  {
   "cell_type": "markdown",
   "id": "99fbd5ba",
   "metadata": {},
   "source": [
    "## Complicated Case"
   ]
  },
  {
   "cell_type": "markdown",
   "id": "62f35db5",
   "metadata": {},
   "source": [
    "We only set the positions of the Legs here."
   ]
  },
  {
   "cell_type": "code",
   "execution_count": 8,
   "id": "dda6bc22",
   "metadata": {},
   "outputs": [],
   "source": [
    "fd = FeynmanDiagram().with_rules(\n",
    "    \"\"\" * {color: red;} \n",
    "        [type=fermion] {color: blue; line: gluon}\n",
    "        #p1 {color: green;}\n",
    "        :not([type=fermion]) { color : black; line: fermion}\"\"\")\n",
    "v1 = Vertex(\"v1\")\n",
    "v2 = Vertex(\"v2\")\n",
    "v3 = Vertex(\"v3\")\n",
    "v4 = Vertex(\"v4\")\n",
    "p1 = Propagator(\"p1\").connect(v1, v2).with_type(\"gluon\")\n",
    "p2 = Propagator(\"p2\").connect(v1, v3).with_type(\"gluon\")\n",
    "p3 = Propagator(\"p3\").connect(v3, v2).with_type(\"gluon\")\n",
    "p4 = Propagator(\"p4\").connect(v4, v3).with_type(\"gluon\")\n",
    "p5 = Propagator(\"p5\").connect(v4, v2).with_type(\"gluon\")\n",
    "l1 = Leg(\"l1\").with_target(v1).with_type(\"gluon\").with_incoming().with_xy(-2, 1)\n",
    "l2 = Leg(\"l2\").with_target(v1).with_type(\"gluon\").with_incoming().with_xy(-2, -1)\n",
    "l3 = Leg(\"l3\").with_target(v2).with_type(\"fermion\").with_outgoing().with_xy(2, -2).with_class(\"blue\")\n",
    "l4 = Leg(\"l4\").with_target(v3).with_type(\"fermion\").with_outgoing().with_xy(2, 2)\n",
    "l5 = Leg(\"l5\").with_target(v4).with_type(\"gluon\").with_outgoing().with_xy(2, 1)\n",
    "l6 = Leg(\"l6\").with_target(v4).with_type(\"gluon\").with_outgoing().with_xy(2, -1)\n",
    "\n",
    "l6.style.color = \"orange\"\n",
    "\n",
    "fd.propagators.extend([p1, p2, p3, p4, p5])\n",
    "fd.vertices.extend([v1, v2, v3, v4])\n",
    "fd.legs.extend([l1, l2, l3, l4, l5, l6])"
   ]
  },
  {
   "cell_type": "markdown",
   "id": "8bf8b95c",
   "metadata": {},
   "source": [
    "Now calculate the positions of vertices."
   ]
  },
  {
   "cell_type": "code",
   "execution_count": 9,
   "id": "2cc1456b",
   "metadata": {},
   "outputs": [],
   "source": [
    "ffd= feynman_adjust_points(fd)"
   ]
  },
  {
   "cell_type": "code",
   "execution_count": 10,
   "id": "87c4b396",
   "metadata": {},
   "outputs": [
    {
     "data": {
      "image/png": "[encoded data removed]",
      "text/plain": [
       "<wand.image.Image: 73ec878 'PDF' (181x181)>"
      ]
     },
     "metadata": {},
     "output_type": "display_data"
    },
    {
     "data": {
      "image/png": "[encoded data removed]",
      "text/plain": [
       "<wand.image.Image: 73ec878 'PDF' (181x181)>"
      ]
     },
     "execution_count": 10,
     "metadata": {},
     "output_type": "execute_result"
    }
   ],
   "source": [
    "TikzFeynmanRender(ffd).render()"
   ]
  },
  {
   "cell_type": "code",
   "execution_count": null,
   "id": "7e01b156",
   "metadata": {},
   "outputs": [],
   "source": []
  }
 ],
 "metadata": {
  "kernelspec": {
   "display_name": "Python 3 (ipykernel)",
   "language": "python",
   "name": "python3"
  },
  "language_info": {
   "codemirror_mode": {
    "name": "ipython",
    "version": 3
   },
   "file_extension": ".py",
   "mimetype": "text/x-python",
   "name": "python",
   "nbconvert_exporter": "python",
   "pygments_lexer": "ipython3",
   "version": "3.9.16"
  }
 },
 "nbformat": 4,
 "nbformat_minor": 5
}
