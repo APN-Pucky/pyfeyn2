{
 "cells": [
  {
   "cell_type": "markdown",
   "id": "f32ecc80",
   "metadata": {},
   "source": [
    "# TikZ-Feynman"
   ]
  },
  {
   "cell_type": "code",
   "execution_count": 1,
   "id": "d7959cdb",
   "metadata": {},
   "outputs": [
    {
     "ename": "ModuleNotFoundError",
     "evalue": "No module named 'pyfeyn2'",
     "output_type": "error",
     "traceback": [
      "\u001b[0;31m---------------------------------------------------------------------------\u001b[0m",
      "\u001b[0;31mModuleNotFoundError\u001b[0m                       Traceback (most recent call last)",
      "Cell \u001b[0;32mIn [1], line 1\u001b[0m\n\u001b[0;32m----> 1\u001b[0m \u001b[38;5;28;01mfrom\u001b[39;00m \u001b[38;5;21;01mpyfeyn2\u001b[39;00m\u001b[38;5;21;01m.\u001b[39;00m\u001b[38;5;21;01mfeynmandiagram\u001b[39;00m \u001b[38;5;28;01mimport\u001b[39;00m FeynmanDiagram, Leg, Propagator, Vertex\n\u001b[1;32m      2\u001b[0m \u001b[38;5;28;01mfrom\u001b[39;00m \u001b[38;5;21;01mpyfeyn2\u001b[39;00m\u001b[38;5;21;01m.\u001b[39;00m\u001b[38;5;21;01mrender\u001b[39;00m\u001b[38;5;21;01m.\u001b[39;00m\u001b[38;5;21;01mtikzfeynman\u001b[39;00m \u001b[38;5;28;01mimport\u001b[39;00m TikzFeynmanRender\n\u001b[1;32m      3\u001b[0m \u001b[38;5;28;01mfrom\u001b[39;00m \u001b[38;5;21;01mpyfeyn2\u001b[39;00m\u001b[38;5;21;01m.\u001b[39;00m\u001b[38;5;21;01mrender\u001b[39;00m\u001b[38;5;21;01m.\u001b[39;00m\u001b[38;5;21;01mdot\u001b[39;00m \u001b[38;5;28;01mimport\u001b[39;00m feynman_adjust_points\n",
      "\u001b[0;31mModuleNotFoundError\u001b[0m: No module named 'pyfeyn2'"
     ]
    }
   ],
   "source": [
    "from pyfeyn2.feynmandiagram import FeynmanDiagram, Leg, Propagator, Vertex\n",
    "from pyfeyn2.render.tikzfeynman import TikzFeynmanRender\n",
    "from pyfeyn2.render.dot import feynman_adjust_points"
   ]
  },
  {
   "cell_type": "markdown",
   "id": "891100ba",
   "metadata": {},
   "source": [
    "## Simple Case"
   ]
  },
  {
   "cell_type": "markdown",
   "id": "151afea0",
   "metadata": {},
   "source": [
    "We set the positions of all vertices here."
   ]
  },
  {
   "cell_type": "code",
   "execution_count": 2,
   "id": "937fa0bc",
   "metadata": {},
   "outputs": [],
   "source": [
    "fd = FeynmanDiagram()\n",
    "v1 = Vertex(\"v1\").set_xy(-1, 0)\n",
    "v2 = Vertex(\"v2\").set_xy(1, 0)\n",
    "p1 = Propagator(\"p1\").connect(v1, v2).set_type(\"gluon\")\n",
    "l1 = Leg(\"l1\").set_target(v1).set_xy(-2, 1).set_type(\"gluon\").set_incoming()\n",
    "l2 = Leg(\"l2\").set_target(v1).set_xy(-2, -1).set_type(\"gluon\").set_incoming()\n",
    "l3 = Leg(\"l3\").set_target(v2).set_xy(2, 1).set_type(\"gluon\").set_outgoing()\n",
    "l4 = Leg(\"l4\").set_target(v2).set_xy(2, -1).set_type(\"gluon\").set_outgoing()\n",
    "p1.set_source(v1)\n",
    "p1.set_target(v2)\n",
    "fd.propagators.append(p1)\n",
    "fd.vertices.extend([v1, v2])\n",
    "fd.legs.extend([l1, l2, l3, l4])"
   ]
  },
  {
   "cell_type": "code",
   "execution_count": 3,
   "id": "a1474ec0",
   "metadata": {},
   "outputs": [
    {
     "name": "stdout",
     "output_type": "stream",
     "text": [
      "\\documentclass[preview,crop,tikz]{standalone}%\n",
      "\\usepackage[T1]{fontenc}%\n",
      "\\usepackage[utf8]{inputenc}%\n",
      "\\usepackage{lmodern}%\n",
      "\\usepackage{textcomp}%\n",
      "\\usepackage{lastpage}%\n",
      "%\n",
      "\\RequirePackage{luatex85}%\n",
      "\\usepackage[compat=1.1.0]{tikz-feynman}%\n",
      "%\n",
      "\\begin{document}%\n",
      "\\normalsize%\n",
      "\\begin{tikzpicture}\n",
      "\\begin{feynman}\n",
      "\t\\vertex (v1) [label=] at (-1.0,0.0);\n",
      "\t\\vertex (v2) [label=] at (1.0,0.0);\n",
      "\t\\vertex (l1) [label=] at (-2.0,1.0);\n",
      "\t\\vertex (l2) [label=] at (-2.0,-1.0);\n",
      "\t\\vertex (l3) [label=] at (2.0,1.0);\n",
      "\t\\vertex (l4) [label=] at (2.0,-1.0);\n",
      "\t\\diagram*{\n",
      "\t\t(v1) -- [gluon] (v2),\n",
      "\t\t(l1) -- [gluon] (v1),\n",
      "\t\t(l2) -- [gluon] (v1),\n",
      "\t\t(v2) -- [gluon] (l3),\n",
      "\t\t(v2) -- [gluon] (l4),\n",
      "\t};\n",
      "\\end{feynman}\n",
      "\\end{tikzpicture}\n",
      "%\n",
      "\\end{document}\n"
     ]
    }
   ],
   "source": [
    "tfd = TikzFeynmanRender(fd)\n",
    "print(tfd.get_src())"
   ]
  },
  {
   "cell_type": "code",
   "execution_count": 4,
   "id": "a7b7739c",
   "metadata": {},
   "outputs": [
    {
     "data": {
      "image/png": "[encoded data removed]",
      "text/plain": [
       "<wand.image.Image: 6a79cab 'PDF' (167x90)>"
      ]
     },
     "metadata": {},
     "output_type": "display_data"
    },
    {
     "data": {
      "image/png": "[encoded data removed]",
      "text/plain": [
       "<wand.image.Image: 6a79cab 'PDF' (167x90)>"
      ]
     },
     "execution_count": 4,
     "metadata": {},
     "output_type": "execute_result"
    }
   ],
   "source": [
    "tfd.render(\"test.pdf\")"
   ]
  },
  {
   "cell_type": "markdown",
   "id": "99fbd5ba",
   "metadata": {},
   "source": [
    "## Complicated Case"
   ]
  },
  {
   "cell_type": "markdown",
   "id": "62f35db5",
   "metadata": {},
   "source": [
    "We only set the positions of the Legs here."
   ]
  },
  {
   "cell_type": "code",
   "execution_count": 5,
   "id": "dda6bc22",
   "metadata": {},
   "outputs": [],
   "source": [
    "fd = FeynmanDiagram()\n",
    "v1 = Vertex(\"v1\")\n",
    "v2 = Vertex(\"v2\")\n",
    "v3 = Vertex(\"v3\")\n",
    "v4 = Vertex(\"v4\")\n",
    "p1 = Propagator(\"p1\").connect(v1, v2).set_type(\"gluon\")\n",
    "p2 = Propagator(\"p2\").connect(v1, v3).set_type(\"gluon\")\n",
    "p3 = Propagator(\"p3\").connect(v3, v2).set_type(\"gluon\")\n",
    "p4 = Propagator(\"p4\").connect(v4, v3).set_type(\"gluon\")\n",
    "p5 = Propagator(\"p5\").connect(v4, v2).set_type(\"gluon\")\n",
    "l1 = Leg(\"l1\").set_target(v1).set_type(\"gluon\").set_incoming().set_xy(-2, 1)\n",
    "l2 = Leg(\"l2\").set_target(v1).set_type(\"gluon\").set_incoming().set_xy(-2, -1)\n",
    "l3 = Leg(\"l3\").set_target(v2).set_type(\"gluon\").set_outgoing().set_xy(2, -2)\n",
    "l4 = Leg(\"l4\").set_target(v3).set_type(\"gluon\").set_outgoing().set_xy(2, 2)\n",
    "l5 = Leg(\"l5\").set_target(v4).set_type(\"gluon\").set_outgoing().set_xy(2, 1)\n",
    "l6 = Leg(\"l6\").set_target(v4).set_type(\"gluon\").set_outgoing().set_xy(2, -1)\n",
    "\n",
    "fd.propagators.extend([p1, p2, p3, p4, p5])\n",
    "fd.vertices.extend([v1, v2, v3, v4])\n",
    "fd.legs.extend([l1, l2, l3, l4, l5, l6])"
   ]
  },
  {
   "cell_type": "markdown",
   "id": "8bf8b95c",
   "metadata": {},
   "source": [
    "Now calculate the positions of vertices."
   ]
  },
  {
   "cell_type": "code",
   "execution_count": 6,
   "id": "2cc1456b",
   "metadata": {},
   "outputs": [],
   "source": [
    "ffd= feynman_adjust_points(fd)"
   ]
  },
  {
   "cell_type": "code",
   "execution_count": 9,
   "id": "87c4b396",
   "metadata": {},
   "outputs": [
    {
     "data": {
      "image/png": "[encoded data removed]",
      "text/plain": [
       "<wand.image.Image: f557330 'PDF' (189x190)>"
      ]
     },
     "metadata": {},
     "output_type": "display_data"
    },
    {
     "data": {
      "image/png": "[encoded data removed]",
      "text/plain": [
       "<wand.image.Image: f557330 'PDF' (189x190)>"
      ]
     },
     "execution_count": 9,
     "metadata": {},
     "output_type": "execute_result"
    }
   ],
   "source": [
    "TikzFeynmanRender(ffd).render()"
   ]
  },
  {
   "cell_type": "code",
   "execution_count": 8,
   "id": "eb5d9530",
   "metadata": {},
   "outputs": [
    {
     "name": "stdout",
     "output_type": "stream",
     "text": [
      "graph G {\n",
      "rankdir=LR;\n",
      "layout=neato;\n",
      "node [style=\"invis\"];\n",
      "\t\t [ pos=\"-2.0,0.0!\"];\n",
      "\t\t [ pos=\"2.0,0.0!\"];\n",
      "edge [style=\"decorate,decoration=coil,aspect=0.3,segment length=1mm\"];\n",
      "\t\tVertex0 -- Vertex1;\n",
      "edge [style=\"decorate,decoration=coil,aspect=0.3,segment length=1mm\"];\n",
      "\t\tVertex1 -- Vertex2;\n",
      "edge [style=\"decorate,decoration=coil,aspect=0.3,segment length=1mm\"];\n",
      "\t\tVertex0 -- Vertex3;\n",
      "edge [style=\"decorate,decoration=coil,aspect=0.3,segment length=1mm\"];\n",
      "\t\tVertex1 -- Vertex4;\n",
      "edge [style=\"decorate,decoration=coil,aspect=0.3,segment length=1mm\"];\n",
      "\t\tVertex2 -- Vertex5;\n",
      "edge [style=\"decorate,decoration=coil,aspect=0.3,segment length=1mm\"];\n",
      "\t\tVertex4 -- Vertex5;\n",
      "edge [style=\"decorate,decoration=coil,aspect=0.3,segment length=1mm\"];\n",
      "\t\tVertex3 -- Vertex4;\n",
      "edge [style=\"decorate,decoration=coil,aspect=0.3,segment length=1mm\"];\n",
      "\t\tVertex3 -- Vertex5;\n",
      "edge [style=\"decorate,decoration=coil,aspect=0.3,segment length=1mm\"];\n",
      "\t\t -- Vertex0;\n",
      "edge [style=\"decorate,decoration=coil,aspect=0.3,segment length=1mm\"];\n",
      "\t\tVertex2 -- ;\n",
      "{rank=min;  }\n",
      "{rank=max;  ;}\n",
      "}\n"
     ]
    },
    {
     "ename": "ParseException",
     "evalue": "Expected '}', found '['  (at char 61), (line:5, col:4)",
     "output_type": "error",
     "traceback": [
      "\u001b[0;31m---------------------------------------------------------------------------\u001b[0m",
      "\u001b[0;31mParseException\u001b[0m                            Traceback (most recent call last)",
      "Cell \u001b[0;32mIn [8], line 27\u001b[0m\n\u001b[1;32m     25\u001b[0m fd\u001b[38;5;241m.\u001b[39mlegs\u001b[38;5;241m.\u001b[39mextend([l1, l2])\n\u001b[1;32m     26\u001b[0m \u001b[38;5;28mprint\u001b[39m(feynman_to_dot(fd))\n\u001b[0;32m---> 27\u001b[0m ffd\u001b[38;5;241m=\u001b[39m \u001b[43mfeynman_adjust_points\u001b[49m\u001b[43m(\u001b[49m\u001b[43mfd\u001b[49m\u001b[43m)\u001b[49m\n\u001b[1;32m     28\u001b[0m TikzFeynmanRender(ffd)\u001b[38;5;241m.\u001b[39mrender()\n",
      "File \u001b[0;32m~/data/de.neuwirthinformatik.Alexander/Development/git/pyfeyn2/pyfeyn2/render/dot.py:21\u001b[0m, in \u001b[0;36mfeynman_adjust_points\u001b[0;34m(feyndiag, size)\u001b[0m\n\u001b[1;32m     19\u001b[0m norm \u001b[38;5;241m=\u001b[39m size\n\u001b[1;32m     20\u001b[0m dot \u001b[38;5;241m=\u001b[39m feynman_to_dot(fd)\n\u001b[0;32m---> 21\u001b[0m positions \u001b[38;5;241m=\u001b[39m \u001b[43mdot_to_positions\u001b[49m\u001b[43m(\u001b[49m\u001b[43mdot\u001b[49m\u001b[43m)\u001b[49m\n\u001b[1;32m     22\u001b[0m \u001b[38;5;28mmax\u001b[39m \u001b[38;5;241m=\u001b[39m \u001b[38;5;241m0\u001b[39m\n\u001b[1;32m     23\u001b[0m \u001b[38;5;28;01mfor\u001b[39;00m i, p \u001b[38;5;129;01min\u001b[39;00m positions\u001b[38;5;241m.\u001b[39mitems():\n",
      "File \u001b[0;32m~/data/de.neuwirthinformatik.Alexander/Development/git/pyfeyn2/pyfeyn2/render/dot.py:39\u001b[0m, in \u001b[0;36mdot_to_positions\u001b[0;34m(dot)\u001b[0m\n\u001b[1;32m     38\u001b[0m \u001b[38;5;28;01mdef\u001b[39;00m \u001b[38;5;21mdot_to_positions\u001b[39m(dot):\n\u001b[0;32m---> 39\u001b[0m     \u001b[38;5;28;01mreturn\u001b[39;00m \u001b[43mdot2tex\u001b[49m\u001b[38;5;241;43m.\u001b[39;49m\u001b[43mdot2tex\u001b[49m\u001b[43m(\u001b[49m\u001b[43mdot\u001b[49m\u001b[43m,\u001b[49m\u001b[43m \u001b[49m\u001b[38;5;28;43mformat\u001b[39;49m\u001b[38;5;241;43m=\u001b[39;49m\u001b[38;5;124;43m\"\u001b[39;49m\u001b[38;5;124;43mpositions\u001b[39;49m\u001b[38;5;124;43m\"\u001b[39;49m\u001b[43m)\u001b[49m\n",
      "File \u001b[0;32m~/.cache/pypoetry/virtualenvs/pyfeyn2-CEvJ4jFG-py3.9/lib/python3.9/site-packages/dot2tex/__init__.py:62\u001b[0m, in \u001b[0;36mdot2tex\u001b[0;34m(dotsource, **kwargs)\u001b[0m\n\u001b[1;32m     55\u001b[0m \u001b[38;5;28;01mdef\u001b[39;00m \u001b[38;5;21mdot2tex\u001b[39m(dotsource, \u001b[38;5;241m*\u001b[39m\u001b[38;5;241m*\u001b[39mkwargs):\n\u001b[1;32m     56\u001b[0m     \u001b[38;5;124;03m\"\"\"Process dotsource and return LaTeX code\u001b[39;00m\n\u001b[1;32m     57\u001b[0m \n\u001b[1;32m     58\u001b[0m \u001b[38;5;124;03m    Conversion options can be specified as keyword options. Example:\u001b[39;00m\n\u001b[1;32m     59\u001b[0m \u001b[38;5;124;03m        dot2tex(data,format='tikz',crop=True)\u001b[39;00m\n\u001b[1;32m     60\u001b[0m \n\u001b[1;32m     61\u001b[0m \u001b[38;5;124;03m    \"\"\"\u001b[39;00m\n\u001b[0;32m---> 62\u001b[0m     \u001b[38;5;28;01mreturn\u001b[39;00m \u001b[43md2t\u001b[49m\u001b[38;5;241;43m.\u001b[39;49m\u001b[43mconvert_graph\u001b[49m\u001b[43m(\u001b[49m\u001b[43mdotsource\u001b[49m\u001b[43m,\u001b[49m\u001b[43m \u001b[49m\u001b[38;5;241;43m*\u001b[39;49m\u001b[38;5;241;43m*\u001b[39;49m\u001b[43mkwargs\u001b[49m\u001b[43m)\u001b[49m\n",
      "File \u001b[0;32m~/.cache/pypoetry/virtualenvs/pyfeyn2-CEvJ4jFG-py3.9/lib/python3.9/site-packages/dot2tex/dot2tex.py:3125\u001b[0m, in \u001b[0;36mconvert_graph\u001b[0;34m(dotsource, **kwargs)\u001b[0m\n\u001b[1;32m   3122\u001b[0m     \u001b[38;5;28;01mdel\u001b[39;00m kwargs[\u001b[38;5;124m'\u001b[39m\u001b[38;5;124mpreproc\u001b[39m\u001b[38;5;124m'\u001b[39m]\n\u001b[1;32m   3124\u001b[0m options\u001b[38;5;241m.\u001b[39m\u001b[38;5;18m__dict__\u001b[39m\u001b[38;5;241m.\u001b[39mupdate(kwargs)\n\u001b[0;32m-> 3125\u001b[0m tex \u001b[38;5;241m=\u001b[39m \u001b[43mmain\u001b[49m\u001b[43m(\u001b[49m\u001b[38;5;28;43;01mTrue\u001b[39;49;00m\u001b[43m,\u001b[49m\u001b[43m \u001b[49m\u001b[43mdotsource\u001b[49m\u001b[43m,\u001b[49m\u001b[43m \u001b[49m\u001b[43moptions\u001b[49m\u001b[43m)\u001b[49m\n\u001b[1;32m   3126\u001b[0m \u001b[38;5;28;01mreturn\u001b[39;00m tex\n",
      "File \u001b[0;32m~/.cache/pypoetry/virtualenvs/pyfeyn2-CEvJ4jFG-py3.9/lib/python3.9/site-packages/dot2tex/dot2tex.py:3075\u001b[0m, in \u001b[0;36mmain\u001b[0;34m(run_as_module, dotdata, options)\u001b[0m\n\u001b[1;32m   3073\u001b[0m     sys\u001b[38;5;241m.\u001b[39mexit(\u001b[38;5;241m1\u001b[39m)\n\u001b[1;32m   3074\u001b[0m \u001b[38;5;28;01mtry\u001b[39;00m:\n\u001b[0;32m-> 3075\u001b[0m     s \u001b[38;5;241m=\u001b[39m \u001b[43mconv\u001b[49m\u001b[38;5;241;43m.\u001b[39;49m\u001b[43mconvert\u001b[49m\u001b[43m(\u001b[49m\u001b[43mdotdata\u001b[49m\u001b[43m)\u001b[49m\n\u001b[1;32m   3076\u001b[0m     log\u001b[38;5;241m.\u001b[39mdebug(\u001b[38;5;124m'\u001b[39m\u001b[38;5;124mOutput:\u001b[39m\u001b[38;5;130;01m\\n\u001b[39;00m\u001b[38;5;132;01m%s\u001b[39;00m\u001b[38;5;124m'\u001b[39m, s)\n\u001b[1;32m   3077\u001b[0m     \u001b[38;5;28;01mif\u001b[39;00m options\u001b[38;5;241m.\u001b[39mautosize:\n",
      "File \u001b[0;32m~/.cache/pypoetry/virtualenvs/pyfeyn2-CEvJ4jFG-py3.9/lib/python3.9/site-packages/dot2tex/dot2tex.py:770\u001b[0m, in \u001b[0;36mDotConvBase.convert\u001b[0;34m(self, dotdata)\u001b[0m\n\u001b[1;32m    767\u001b[0m \u001b[38;5;28;01mdef\u001b[39;00m \u001b[38;5;21mconvert\u001b[39m(\u001b[38;5;28mself\u001b[39m, dotdata):\n\u001b[1;32m    768\u001b[0m     \u001b[38;5;66;03m# parse data processed by dot.\u001b[39;00m\n\u001b[1;32m    769\u001b[0m     log\u001b[38;5;241m.\u001b[39mdebug(\u001b[38;5;124m'\u001b[39m\u001b[38;5;124mStart conversion\u001b[39m\u001b[38;5;124m'\u001b[39m)\n\u001b[0;32m--> 770\u001b[0m     main_graph \u001b[38;5;241m=\u001b[39m \u001b[43mparse_dot_data\u001b[49m\u001b[43m(\u001b[49m\u001b[43mdotdata\u001b[49m\u001b[43m)\u001b[49m\n\u001b[1;32m    772\u001b[0m     \u001b[38;5;28;01mif\u001b[39;00m \u001b[38;5;129;01mnot\u001b[39;00m \u001b[38;5;28mself\u001b[39m\u001b[38;5;241m.\u001b[39mdopreproc \u001b[38;5;129;01mand\u001b[39;00m \u001b[38;5;129;01mnot\u001b[39;00m \u001b[38;5;28mhasattr\u001b[39m(main_graph, \u001b[38;5;124m'\u001b[39m\u001b[38;5;124mxdotversion\u001b[39m\u001b[38;5;124m'\u001b[39m):\n\u001b[1;32m    773\u001b[0m         \u001b[38;5;66;03m# Older versions of Graphviz does not include the xdotversion\u001b[39;00m\n\u001b[1;32m    774\u001b[0m         \u001b[38;5;66;03m# attribute\u001b[39;00m\n\u001b[1;32m    775\u001b[0m         \u001b[38;5;28;01mif\u001b[39;00m \u001b[38;5;129;01mnot\u001b[39;00m (dotdata\u001b[38;5;241m.\u001b[39mfind(\u001b[38;5;124m'\u001b[39m\u001b[38;5;124m_draw_\u001b[39m\u001b[38;5;124m'\u001b[39m) \u001b[38;5;241m>\u001b[39m \u001b[38;5;241m0\u001b[39m \u001b[38;5;129;01mor\u001b[39;00m dotdata\u001b[38;5;241m.\u001b[39mfind(\u001b[38;5;124m'\u001b[39m\u001b[38;5;124m_ldraw_\u001b[39m\u001b[38;5;124m'\u001b[39m) \u001b[38;5;241m>\u001b[39m \u001b[38;5;241m0\u001b[39m):\n\u001b[1;32m    776\u001b[0m             \u001b[38;5;66;03m# need to convert to xdot format\u001b[39;00m\n\u001b[1;32m    777\u001b[0m             \u001b[38;5;66;03m# Warning. Pydot will not include custom attributes\u001b[39;00m\n",
      "File \u001b[0;32m~/.cache/pypoetry/virtualenvs/pyfeyn2-CEvJ4jFG-py3.9/lib/python3.9/site-packages/dot2tex/dot2tex.py:242\u001b[0m, in \u001b[0;36mparse_dot_data\u001b[0;34m(dotdata)\u001b[0m\n\u001b[1;32m    240\u001b[0m parser \u001b[38;5;241m=\u001b[39m dotparsing\u001b[38;5;241m.\u001b[39mDotDataParser()\n\u001b[1;32m    241\u001b[0m \u001b[38;5;28;01mtry\u001b[39;00m:\n\u001b[0;32m--> 242\u001b[0m     graph \u001b[38;5;241m=\u001b[39m \u001b[43mparser\u001b[49m\u001b[38;5;241;43m.\u001b[39;49m\u001b[43mparse_dot_data\u001b[49m\u001b[43m(\u001b[49m\u001b[43mdotdata\u001b[49m\u001b[43m)\u001b[49m\n\u001b[1;32m    243\u001b[0m \u001b[38;5;28;01mexcept\u001b[39;00m dotparsing\u001b[38;5;241m.\u001b[39mParseException:\n\u001b[1;32m    244\u001b[0m     \u001b[38;5;28;01mraise\u001b[39;00m\n",
      "File \u001b[0;32m~/.cache/pypoetry/virtualenvs/pyfeyn2-CEvJ4jFG-py3.9/lib/python3.9/site-packages/dot2tex/dotparsing.py:599\u001b[0m, in \u001b[0;36mDotDataParser.parse_dot_data\u001b[0;34m(self, data)\u001b[0m\n\u001b[1;32m    596\u001b[0m ndata \u001b[38;5;241m=\u001b[39m data\u001b[38;5;241m.\u001b[39mreplace(\u001b[38;5;124m'\u001b[39m\u001b[38;5;130;01m\\\\\u001b[39;00m\u001b[38;5;130;01m\\n\u001b[39;00m\u001b[38;5;124m'\u001b[39m, \u001b[38;5;124m'\u001b[39m\u001b[38;5;124m'\u001b[39m)\n\u001b[1;32m    597\u001b[0m \u001b[38;5;66;03m# lines = data.splitlines()\u001b[39;00m\n\u001b[1;32m    598\u001b[0m \u001b[38;5;66;03m# lines = [l.rstrip('\\\\') for l in lines]\u001b[39;00m\n\u001b[0;32m--> 599\u001b[0m tokens \u001b[38;5;241m=\u001b[39m \u001b[38;5;28;43mself\u001b[39;49m\u001b[38;5;241;43m.\u001b[39;49m\u001b[43mdotparser\u001b[49m\u001b[38;5;241;43m.\u001b[39;49m\u001b[43mparseString\u001b[49m\u001b[43m(\u001b[49m\u001b[43mndata\u001b[49m\u001b[43m)\u001b[49m\n\u001b[1;32m    600\u001b[0m \u001b[38;5;28mself\u001b[39m\u001b[38;5;241m.\u001b[39mbuild_top_graph(tokens[\u001b[38;5;241m0\u001b[39m])\n\u001b[1;32m    601\u001b[0m \u001b[38;5;28;01mreturn\u001b[39;00m \u001b[38;5;28mself\u001b[39m\u001b[38;5;241m.\u001b[39mgraph\n",
      "File \u001b[0;32m~/.cache/pypoetry/virtualenvs/pyfeyn2-CEvJ4jFG-py3.9/lib/python3.9/site-packages/pyparsing/core.py:1141\u001b[0m, in \u001b[0;36mParserElement.parse_string\u001b[0;34m(self, instring, parse_all, parseAll)\u001b[0m\n\u001b[1;32m   1138\u001b[0m         \u001b[38;5;28;01mraise\u001b[39;00m\n\u001b[1;32m   1139\u001b[0m     \u001b[38;5;28;01melse\u001b[39;00m:\n\u001b[1;32m   1140\u001b[0m         \u001b[38;5;66;03m# catch and re-raise exception from here, clearing out pyparsing internal stack trace\u001b[39;00m\n\u001b[0;32m-> 1141\u001b[0m         \u001b[38;5;28;01mraise\u001b[39;00m exc\u001b[38;5;241m.\u001b[39mwith_traceback(\u001b[38;5;28;01mNone\u001b[39;00m)\n\u001b[1;32m   1142\u001b[0m \u001b[38;5;28;01melse\u001b[39;00m:\n\u001b[1;32m   1143\u001b[0m     \u001b[38;5;28;01mreturn\u001b[39;00m tokens\n",
      "\u001b[0;31mParseException\u001b[0m: Expected '}', found '['  (at char 61), (line:5, col:4)"
     ]
    }
   ],
   "source": [
    "from pyfeyn2.render.dot import DotRender, feynman_to_dot\n",
    "fd = FeynmanDiagram()\n",
    "\n",
    "v1 = Vertex()\n",
    "v2 = Vertex()\n",
    "v3 = Vertex()\n",
    "v4 = Vertex()\n",
    "v5 = Vertex()\n",
    "v6 = Vertex()\n",
    "\n",
    "p1 = Propagator().connect(v1, v2).set_type(\"gluon\")\n",
    "p2 = Propagator().connect(v2, v3).set_type(\"gluon\")\n",
    "p3 = Propagator().connect(v1, v4).set_type(\"gluon\")\n",
    "p4 = Propagator().connect(v2, v5).set_type(\"gluon\")\n",
    "p5 = Propagator().connect(v3, v6).set_type(\"gluon\")\n",
    "p6 = Propagator().connect(v5, v6).set_type(\"gluon\")\n",
    "p7 = Propagator().connect(v4, v5).set_type(\"gluon\")\n",
    "p8 = Propagator().connect(v4, v6).set_type(\"gluon\")\n",
    "\n",
    "l1 = Leg().set_target(v1).set_type(\"gluon\").set_incoming().set_xy(-2, 0)\n",
    "l2 = Leg().set_target(v3).set_type(\"gluon\").set_outgoing().set_xy(2, 0)\n",
    "\n",
    "fd.propagators.extend([p1, p2, p3, p4, p5, p6, p7, p8])\n",
    "fd.vertices.extend([v1, v2, v3, v4, v5, v6])\n",
    "fd.legs.extend([l1, l2])\n",
    "print(feynman_to_dot(fd))\n",
    "ffd= feynman_adjust_points(fd)\n",
    "TikzFeynmanRender(ffd).render()"
   ]
  },
  {
   "cell_type": "code",
   "execution_count": null,
   "id": "3b1c8fd6",
   "metadata": {},
   "outputs": [],
   "source": []
  }
 ],
 "metadata": {
  "kernelspec": {
   "display_name": "Python 3 (ipykernel)",
   "language": "python",
   "name": "python3"
  },
  "language_info": {
   "codemirror_mode": {
    "name": "ipython",
    "version": 3
   },
   "file_extension": ".py",
   "mimetype": "text/x-python",
   "name": "python",
   "nbconvert_exporter": "python",
   "pygments_lexer": "ipython3",
   "version": "3.9.16"
  }
 },
 "nbformat": 4,
 "nbformat_minor": 5
}
