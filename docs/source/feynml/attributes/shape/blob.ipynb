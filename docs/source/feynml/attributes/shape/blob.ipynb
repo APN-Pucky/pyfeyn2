{
 "cells": [
  {
   "cell_type": "markdown",
   "id": "b31425e4",
   "metadata": {},
   "source": [
    "# blob"
   ]
  },
  {
   "cell_type": "code",
   "execution_count": 1,
   "id": "35edb4a7",
   "metadata": {
    "scrolled": false
   },
   "outputs": [
    {
     "name": "stdout",
     "output_type": "stream",
     "text": [
      "tikz:\n"
     ]
    },
    {
     "data": {
      "image/png": "[encoded data removed]",
      "text/plain": [
       "<wand.image.Image: dec9120 'PDF' (79x79)>"
      ]
     },
     "metadata": {},
     "output_type": "display_data"
    },
    {
     "name": "stdout",
     "output_type": "stream",
     "text": [
      "pyx:\n"
     ]
    },
    {
     "data": {
      "image/png": "[encoded data removed]",
      "text/plain": [
       "<wand.image.Image: 162197d 'PDF' (157x157)>"
      ]
     },
     "metadata": {},
     "output_type": "display_data"
    },
    {
     "name": "stdout",
     "output_type": "stream",
     "text": [
      "feynmp:\n",
      "feynmp failed:\n",
      "Traceback (most recent call last):\n",
      "  File \"/home/apn/git/pyfeyn2/pyfeyn2/render/all.py\", line 84, in render\n",
      "    render(fd).render(dirpath + \"/\" + name + \".pdf\", **dynarg)\n",
      "  File \"/home/apn/git/pyfeyn2/pyfeyn2/render/latex/feynmp.py\", line 180, in __init__\n",
      "    self.set_feynman_diagram(fd)\n",
      "  File \"/home/apn/git/pyfeyn2/pyfeyn2/render/latex/feynmp.py\", line 184, in set_feynman_diagram\n",
      "    self.set_src_diag(NoEscape(feynman_to_feynmp(fd)))\n",
      "  File \"/home/apn/git/pyfeyn2/pyfeyn2/render/latex/feynmp.py\", line 132, in feynman_to_feynmp\n",
      "    src = do_legs(src, incoming, True)\n",
      "  File \"/home/apn/git/pyfeyn2/pyfeyn2/render/latex/feynmp.py\", line 115, in do_legs\n",
      "    tttype = type_map[lstyle.getProperty(\"line\").value]\n",
      "KeyError: 'line'\n",
      "\n",
      "feynman:\n",
      "feynman failed:\n",
      "Traceback (most recent call last):\n",
      "  File \"/home/apn/git/pyfeyn2/pyfeyn2/render/all.py\", line 84, in render\n",
      "    render(fd).render(dirpath + \"/\" + name + \".pdf\", **dynarg)\n",
      "  File \"/home/apn/git/pyfeyn2/pyfeyn2/render/mpl/feynman.py\", line 154, in render\n",
      "    for style in get_styled_lines(self.fd, l):\n",
      "  File \"/home/apn/git/pyfeyn2/pyfeyn2/render/mpl/feynman.py\", line 39, in get_styled_lines\n",
      "    for i in namedlines[lname]:\n",
      "KeyError: 'line'\n",
      "\n",
      "dot:\n",
      "dot failed:\n",
      "Traceback (most recent call last):\n",
      "  File \"/home/apn/git/pyfeyn2/pyfeyn2/render/all.py\", line 84, in render\n",
      "    render(fd).render(dirpath + \"/\" + name + \".pdf\", **dynarg)\n",
      "  File \"/home/apn/git/pyfeyn2/pyfeyn2/render/latex/dot.py\", line 79, in __init__\n",
      "    self.set_feynman_diagram(fd)\n",
      "  File \"/home/apn/git/pyfeyn2/pyfeyn2/render/latex/dot.py\", line 83, in set_feynman_diagram\n",
      "    self.src_dot = feynman_to_dot(\n",
      "  File \"/home/apn/git/pyfeyn2/pyfeyn2/interface/dot.py\", line 70, in feynman_to_dot\n",
      "    thestyle = styler(fd, l)\n",
      "  File \"/home/apn/git/pyfeyn2/pyfeyn2/render/latex/dot.py\", line 39, in stylize_connect\n",
      "    style = 'style=\"{}\",texmode=\"raw\"'.format(map_feyn_to_tikz[lname])\n",
      "KeyError: 'line'\n",
      "\n",
      "asciipdf:\n",
      "asciipdf failed:\n",
      "Traceback (most recent call last):\n",
      "  File \"/home/apn/git/pyfeyn2/pyfeyn2/render/all.py\", line 84, in render\n",
      "    render(fd).render(dirpath + \"/\" + name + \".pdf\", **dynarg)\n",
      "  File \"/home/apn/git/pyfeyn2/pyfeyn2/render/text/asciipdf.py\", line 25, in render\n",
      "    ASCIIRender.render(\n",
      "  File \"/home/apn/git/pyfeyn2/pyfeyn2/render/text/ascii.py\", line 249, in render\n",
      "    self.draw_connector(pane,p,src,tar,fmt)\n",
      "UnboundLocalError: local variable 'p' referenced before assignment\n",
      "\n",
      "unicodepdf:\n",
      "unicodepdf failed:\n",
      "Traceback (most recent call last):\n",
      "  File \"/home/apn/git/pyfeyn2/pyfeyn2/render/all.py\", line 84, in render\n",
      "    render(fd).render(dirpath + \"/\" + name + \".pdf\", **dynarg)\n",
      "  File \"/home/apn/git/pyfeyn2/pyfeyn2/render/text/unicodepdf.py\", line 64, in render\n",
      "    UnicodeRender.render(\n",
      "  File \"/home/apn/git/pyfeyn2/pyfeyn2/render/text/ascii.py\", line 249, in render\n",
      "    self.draw_connector(pane,p,src,tar,fmt)\n",
      "UnboundLocalError: local variable 'p' referenced before assignment\n",
      "\n"
     ]
    },
    {
     "data": {
      "image/png": "[encoded data removed]",
      "text/plain": [
       "<Figure size 500x500 with 1 Axes>"
      ]
     },
     "metadata": {},
     "output_type": "display_data"
    }
   ],
   "source": [
    "from pyfeyn2.render.all import AllRender\n",
    "ar = AllRender().demo_vertex(\"blob\")"
   ]
  },
  {
   "cell_type": "code",
   "execution_count": null,
   "id": "f3ce7911",
   "metadata": {},
   "outputs": [],
   "source": []
  }
 ],
 "metadata": {
  "kernelspec": {
   "display_name": "Python 3 (ipykernel)",
   "language": "python",
   "name": "python3"
  },
  "language_info": {
   "codemirror_mode": {
    "name": "ipython",
    "version": 3
   },
   "file_extension": ".py",
   "mimetype": "text/x-python",
   "name": "python",
   "nbconvert_exporter": "python",
   "pygments_lexer": "ipython3",
   "version": "3.10.10"
  }
 },
 "nbformat": 4,
 "nbformat_minor": 5
}
