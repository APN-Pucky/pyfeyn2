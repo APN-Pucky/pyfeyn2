{
 "cells": [
  {
   "cell_type": "markdown",
   "id": "d7842a61",
   "metadata": {},
   "source": [
    "# FeynML"
   ]
  },
  {
   "cell_type": "markdown",
   "id": "e7d1a0bd",
   "metadata": {},
   "source": [
    "## Write FeynmanDiagram"
   ]
  },
  {
   "cell_type": "markdown",
   "id": "2c94293d",
   "metadata": {},
   "source": [
    "Convenient saving and loading of style independent feynman diagrams as XML or FeynML."
   ]
  },
  {
   "cell_type": "code",
   "execution_count": 1,
   "id": "8fe30ac6",
   "metadata": {},
   "outputs": [],
   "source": [
    "from xsdata.formats.dataclass.parsers import XmlParser\n",
    "from xsdata.formats.dataclass.serializers import XmlSerializer\n",
    "from xsdata.formats.dataclass.serializers.config import SerializerConfig\n",
    "\n",
    "from pyfeyn2.feynmandiagram import (\n",
    "    FeynmanDiagram,\n",
    "    FeynML,\n",
    "    Head,\n",
    "    Leg,\n",
    "    Meta,\n",
    "    Propagator,\n",
    "    Vertex,\n",
    ")"
   ]
  },
  {
   "cell_type": "code",
   "execution_count": 2,
   "id": "48bb6b54",
   "metadata": {},
   "outputs": [
    {
     "name": "stdout",
     "output_type": "stream",
     "text": [
      "<?xml version=\"1.0\" encoding=\"UTF-8\"?>\n",
      "<diagram>\n",
      "  <propagator id=\"p1\" source=\"v1\" target=\"v2\" pdgid=\"21\" type=\"\" latexname=\"g\" label=\"\"/>\n",
      "  <vertex id=\"v1\" label=\"\"/>\n",
      "  <vertex id=\"v2\" label=\"\"/>\n",
      "  <leg id=\"l1\" target=\"\" pdgid=\"21\" type=\"\" latexname=\"g\" label=\"\" sense=\"\"/>\n",
      "</diagram>\n",
      "\n"
     ]
    }
   ],
   "source": [
    "fd = FeynmanDiagram()\n",
    "v1 = Vertex(\"v1\")\n",
    "v2 = Vertex(\"v2\")\n",
    "p1 = Propagator(\"p1\")\n",
    "l1 = Leg(\"l1\")\n",
    "p1.set_source(v1)\n",
    "p1.set_target(v2)\n",
    "fd.propagators.append(p1)\n",
    "fd.vertices.append(v1)\n",
    "fd.vertices.append(v2)\n",
    "fd.legs.append(l1)\n",
    "\n",
    "config = SerializerConfig(pretty_print=True)\n",
    "serializer = XmlSerializer(config=config)\n",
    "print(serializer.render(fd))"
   ]
  },
  {
   "cell_type": "markdown",
   "id": "1ef0c6a3",
   "metadata": {},
   "source": [
    "## Write FeynML"
   ]
  },
  {
   "cell_type": "code",
   "execution_count": 3,
   "id": "0fad9574",
   "metadata": {},
   "outputs": [
    {
     "name": "stdout",
     "output_type": "stream",
     "text": [
      "<?xml version=\"1.0\" encoding=\"UTF-8\"?>\n",
      "<feynml>\n",
      "  <head>\n",
      "    <meta name=\"pyfeyn2\" value=\"test\"/>\n",
      "    <description>Simple single test diagram</description>\n",
      "  </head>\n",
      "  <diagram>\n",
      "    <propagator id=\"p1\" source=\"v1\" target=\"v2\" pdgid=\"21\" type=\"\" latexname=\"g\" label=\"\"/>\n",
      "    <vertex id=\"v1\" label=\"\"/>\n",
      "    <vertex id=\"v2\" label=\"\"/>\n",
      "    <leg id=\"l1\" target=\"\" pdgid=\"21\" type=\"\" latexname=\"g\" label=\"\" sense=\"\"/>\n",
      "  </diagram>\n",
      "</feynml>\n",
      "\n"
     ]
    }
   ],
   "source": [
    "fml = FeynML(\n",
    "        head=Head(\n",
    "            metas=Meta(name=\"pyfeyn2\", value=\"test\"),\n",
    "            description=\"Simple single test diagram\",\n",
    "        ),\n",
    "        diagrams=fd,\n",
    "    )\n",
    "\n",
    "config = SerializerConfig(pretty_print=True)\n",
    "serializer = XmlSerializer(config=config)\n",
    "print(serializer.render(fml))"
   ]
  },
  {
   "cell_type": "markdown",
   "id": "39fc6ea2",
   "metadata": {},
   "source": [
    "## Read FeynML"
   ]
  },
  {
   "cell_type": "code",
   "execution_count": 4,
   "id": "3d9960ef",
   "metadata": {
    "scrolled": false
   },
   "outputs": [
    {
     "name": "stdout",
     "output_type": "stream",
     "text": [
      "FeynML(head=[Head(metas=[Meta(name='creator', value='PyFeyn')], description='\\n   A sample diagram showing a QCD correction to the Drell-Yan process.\\n   ')], diagrams=[FeynmanDiagram(propagators=[Propagator(id='P2', source='V0', target='V1', bend=None, pdgid=21, type='photon', latexname='g', style=None, label='Z'), Propagator(id='P4', source='V5', target='V1', bend=None, pdgid=21, type='fermion', latexname='g', style=None, label=''), Propagator(id='P5', source='V1', target='V6', bend=None, pdgid=21, type='fermion', latexname='g', style=None, label=''), Propagator(id='P7', source='V5', target='V6', bend=0.5, pdgid=21, type='gluon', latexname='g', style='parallel-arrow-displace:0.2;', label='g')], vertices=[Vertex(id='V0', x=-2.0, y=0.0, z=None, style=None, label=''), Vertex(id='V1', x=2.0, y=0.0, z=None, style=None, label=''), Vertex(id='V5', x=3.0, y=-1.0, z=None, style=None, label=''), Vertex(id='V6', x=3.0, y=1.0, z=None, style=None, label='')], legs=[Leg(id='E0', target='V0', x=-4.0, y=2.0, z=None, bend=None, pdgid=21, type='fermion', latexname='g', style='arrow-pos:0.53;', label='e-', sense='incoming'), Leg(id='E1', target='V0', x=-4.0, y=-2.0, z=None, bend=None, pdgid=21, type='fermion', latexname='g', style='arrow-pos:0.53; parallel-arrow-displace:-0.06; parallel-arrow-sense:-1;', label='e+', sense='outgoing'), Leg(id='E2', target='V5', x=4.0, y=-2.0, z=None, bend=None, pdgid=21, type='fermion', latexname='g', style='arrow-pos:0.53; parallel-arrow-displace:-0.06; parallel-arrow-sense:-1;', label='q+', sense='incoming'), Leg(id='E3', target='V6', x=4.0, y=2.0, z=None, bend=None, pdgid=21, type='fermion', latexname='g', style='arrow-pos:0.53;', label='q-', sense='outgoing')], labels=[Label(text='Drell-Yan QCD vertex correction', x=0.0, y=2.0, z=None, id='L0')])])\n"
     ]
    },
    {
     "data": {
      "image/png": "[encoded data removed]",
      "text/plain": [
       "<wand.image.Image: f2258f4 'PDF' (630x315)>"
      ]
     },
     "metadata": {},
     "output_type": "display_data"
    },
    {
     "data": {
      "image/png": "[encoded data removed]",
      "text/plain": [
       "<wand.image.Image: f2258f4 'PDF' (630x315)>"
      ]
     },
     "execution_count": 4,
     "metadata": {},
     "output_type": "execute_result"
    }
   ],
   "source": [
    "from pathlib import Path\n",
    "from pyfeyn2.render.pyx.pyxrender import PyxRender\n",
    "\n",
    "xml_string = Path(\"test.fml\").read_text()\n",
    "parser = XmlParser()\n",
    "fml = parser.from_string(xml_string, FeynML)\n",
    "print(fml)\n",
    "PyxRender(fml.diagrams[0]).render()"
   ]
  },
  {
   "cell_type": "code",
   "execution_count": null,
   "id": "37a9907d",
   "metadata": {},
   "outputs": [],
   "source": []
  }
 ],
 "metadata": {
  "kernelspec": {
   "display_name": "Python 3 (ipykernel)",
   "language": "python",
   "name": "python3"
  },
  "language_info": {
   "codemirror_mode": {
    "name": "ipython",
    "version": 3
   },
   "file_extension": ".py",
   "mimetype": "text/x-python",
   "name": "python",
   "nbconvert_exporter": "python",
   "pygments_lexer": "ipython3",
   "version": "3.9.16"
  }
 },
 "nbformat": 4,
 "nbformat_minor": 5
}
