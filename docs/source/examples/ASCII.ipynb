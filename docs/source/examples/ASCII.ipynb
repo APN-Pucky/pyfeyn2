{
 "cells": [
  {
   "cell_type": "markdown",
   "id": "8755f09e",
   "metadata": {},
   "source": [
    "# ASCII"
   ]
  },
  {
   "cell_type": "code",
   "execution_count": 1,
   "id": "00b27fa3",
   "metadata": {},
   "outputs": [],
   "source": [
    "from pyfeyn2.feynmandiagram import FeynmanDiagram, Leg, Propagator, Vertex\n",
    "from pyfeyn2.render.ascii import ASCIIRender\n",
    "from pyfeyn2.render.dot import feynman_adjust_points"
   ]
  },
  {
   "cell_type": "code",
   "execution_count": 2,
   "id": "b2236bc4",
   "metadata": {},
   "outputs": [],
   "source": [
    "fd = FeynmanDiagram()\n",
    "v1 = Vertex(\"v1\")\n",
    "v2 = Vertex(\"v2\")\n",
    "v3 = Vertex(\"v3\")\n",
    "v4 = Vertex(\"v4\")\n",
    "p1 = Propagator(\"p1\").connect(v1, v2).set_type(\"gluon\")\n",
    "p2 = Propagator(\"p2\").connect(v1, v3).set_type(\"gluon\")\n",
    "p3 = Propagator(\"p3\").connect(v3, v2).set_type(\"gluon\")\n",
    "p4 = Propagator(\"p4\").connect(v4, v3).set_type(\"gluon\")\n",
    "p5 = Propagator(\"p5\").connect(v4, v2).set_type(\"gluon\")\n",
    "l1 = Leg(\"l1\").set_target(v1).set_type(\"gluon\").set_incoming().set_xy(-2, 1)\n",
    "l2 = Leg(\"l2\").set_target(v1).set_type(\"gluon\").set_incoming().set_xy(-2, -1)\n",
    "l3 = Leg(\"l3\").set_target(v2).set_type(\"gluon\").set_outgoing().set_xy(2, -2)\n",
    "l4 = Leg(\"l4\").set_target(v3).set_type(\"gluon\").set_outgoing().set_xy(2, 2)\n",
    "l5 = Leg(\"l5\").set_target(v4).set_type(\"gluon\").set_outgoing().set_xy(2, 1)\n",
    "l6 = Leg(\"l6\").set_target(v4).set_type(\"gluon\").set_outgoing().set_xy(2, -1)\n",
    "\n",
    "fd.propagators.extend([p1, p2, p3, p4, p5])\n",
    "fd.vertices.extend([v1, v2, v3, v4])\n",
    "fd.legs.extend([l1, l2, l3, l4, l5, l6])\n",
    "fd= feynman_adjust_points(fd)"
   ]
  },
  {
   "cell_type": "code",
   "execution_count": 10,
   "id": "7ffda508",
   "metadata": {},
   "outputs": [
    {
     "name": "stdout",
     "output_type": "stream",
     "text": [
      "                                                                                \n",
      "                                                                              OO\n",
      "                                                                            OO  \n",
      "                                                                          OO    \n",
      "                                                                       OOO      \n",
      "                                                                     OO         \n",
      "                                                                   OO           \n",
      "                                                                OOO             \n",
      "      OO                                                      OO               O\n",
      "        OOOO                                                OO               OO \n",
      "            OOO                                          OOO               OO   \n",
      "               OOOO                                    OO                 O     \n",
      "                   OOO                               OO                 OO      \n",
      "                      OOOO                       OOOOO                 O        \n",
      "                          OOO              OOOOOO  O  OOOOO          OO         \n",
      "                             OOOO    OOOOOO        O       OOOOO   OO           \n",
      "                                OOOOO              O            OOOO            \n",
      "                            OOOO     OOOO          O         OOOO   OO          \n",
      "                       OOOOO             OOOO      O     OOOO         OO        \n",
      "                  OOOOO                      OOOO  O OOOO               OO      \n",
      "             OOOOO                               OOOO                     OO    \n",
      "         OOOO                                        OOO                    OO  \n",
      "      OOO                                               OOO                   OO\n",
      "                                                           OOO                  \n",
      "                                                              OOOO              \n",
      "                                                                  OOO           \n",
      "                                                                     OOO        \n",
      "                                                                        OOO     \n",
      "                                                                           OOO  \n",
      "                                                                              OO\n"
     ]
    }
   ],
   "source": [
    "tfd = ASCIIRender(fd)\n",
    "s= tfd.render(show=False,height=30,width=80)\n",
    "print(s)"
   ]
  },
  {
   "cell_type": "code",
   "execution_count": null,
   "id": "6acf6551",
   "metadata": {},
   "outputs": [],
   "source": []
  },
  {
   "cell_type": "code",
   "execution_count": null,
   "id": "c79ef31d",
   "metadata": {},
   "outputs": [],
   "source": []
  }
 ],
 "metadata": {
  "kernelspec": {
   "display_name": "Python 3 (ipykernel)",
   "language": "python",
   "name": "python3"
  },
  "language_info": {
   "codemirror_mode": {
    "name": "ipython",
    "version": 3
   },
   "file_extension": ".py",
   "mimetype": "text/x-python",
   "name": "python",
   "nbconvert_exporter": "python",
   "pygments_lexer": "ipython3",
   "version": "3.9.15"
  }
 },
 "nbformat": 4,
 "nbformat_minor": 5
}
