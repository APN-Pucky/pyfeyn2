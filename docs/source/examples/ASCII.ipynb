{
 "cells": [
  {
   "cell_type": "markdown",
   "id": "449680ad",
   "metadata": {},
   "source": [
    "# ASCII"
   ]
  },
  {
   "cell_type": "code",
   "execution_count": 1,
   "id": "4b9bb504",
   "metadata": {},
   "outputs": [],
   "source": [
    "from pyfeyn2.feynmandiagram import FeynmanDiagram, Leg, Propagator, Vertex\n",
    "from pyfeyn2.render.ascii import ASCIIRender\n",
    "from pyfeyn2.render.dot import feynman_adjust_points"
   ]
  },
  {
   "cell_type": "code",
   "execution_count": 2,
   "id": "a9b20b16",
   "metadata": {},
   "outputs": [],
   "source": [
    "fd = FeynmanDiagram()\n",
    "v1 = Vertex(\"v1\")\n",
    "v2 = Vertex(\"v2\")\n",
    "v3 = Vertex(\"v3\")\n",
    "v4 = Vertex(\"v4\")\n",
    "p1 = Propagator(\"p1\").connect(v1, v2).set_type(\"gluon\")\n",
    "p2 = Propagator(\"p2\").connect(v1, v3).set_type(\"gluon\")\n",
    "p3 = Propagator(\"p3\").connect(v3, v2).set_type(\"gluon\")\n",
    "p4 = Propagator(\"p4\").connect(v4, v3).set_type(\"gluon\")\n",
    "p5 = Propagator(\"p5\").connect(v4, v2).set_type(\"gluon\")\n",
    "l1 = Leg(\"l1\").set_target(v1).set_type(\"gluon\").set_incoming().set_xy(-2, 1)\n",
    "l2 = Leg(\"l2\").set_target(v1).set_type(\"gluon\").set_incoming().set_xy(-2, -1)\n",
    "l3 = Leg(\"l3\").set_target(v2).set_type(\"gluon\").set_outgoing().set_xy(2, -2)\n",
    "l4 = Leg(\"l4\").set_target(v3).set_type(\"gluon\").set_outgoing().set_xy(2, 2)\n",
    "l5 = Leg(\"l5\").set_target(v4).set_type(\"gluon\").set_outgoing().set_xy(2, 1)\n",
    "l6 = Leg(\"l6\").set_target(v4).set_type(\"gluon\").set_outgoing().set_xy(2, -1)\n",
    "\n",
    "fd.propagators.extend([p1, p2, p3, p4, p5])\n",
    "fd.vertices.extend([v1, v2, v3, v4])\n",
    "fd.legs.extend([l1, l2, l3, l4, l5, l6])\n",
    "fd= feynman_adjust_points(fd)"
   ]
  },
  {
   "cell_type": "code",
   "execution_count": 3,
   "id": "d1b01295",
   "metadata": {},
   "outputs": [
    {
     "name": "stdout",
     "output_type": "stream",
     "text": [
      "                                                                                                    \n",
      "                                                                                                    \n",
      "                                                                                                   O\n",
      "                                                                                                 OO \n",
      "                                                                                               OO   \n",
      "                                                                                             OO     \n",
      "                                                                                            O       \n",
      "                                                                                          OO        \n",
      "                                                                                        OO          \n",
      "                                                                                      OO            \n",
      "                                                                                     O              \n",
      "                                                                                   OO               \n",
      "                                                                                 OO                 \n",
      "                                                                               OO                   \n",
      "        OO                                                                    O                    O\n",
      "          OO                                                                OO                    O \n",
      "            OOO                                                           OO                    OO  \n",
      "               OO                                                       OO                     O    \n",
      "                 OOO                                                   O                      O     \n",
      "                    OO                                               OO                      O      \n",
      "                      OOO                                          OO                       O       \n",
      "                         OO                                      OO                       OO        \n",
      "                           OOO                                 OOO                       O          \n",
      "                              OO                           OOOO O OOO                   O           \n",
      "                                OOO                     OOO     O    OOO               O            \n",
      "                                   OO               OOOO        O       OOO           O             \n",
      "                                     OOO         OOO            O          OOO      OO              \n",
      "                                        OO   OOOO               O             OOO  O                \n",
      "                                          OOO                   O                OO                 \n",
      "                                      OOOO   OOOO               O             OOO  OO               \n",
      "                                  OOOO           OOO            O          OOO       OO             \n",
      "                              OOOO                  OOOO        O       OOO            OO           \n",
      "                          OOOO                          OOO     O    OOO                 OO         \n",
      "                      OOOO                                 OOOO O OOO                      OO       \n",
      "                  OOOO                                         OOO                           OO     \n",
      "              OOOO                                                OO                           OO   \n",
      "          OOOO                                                      OO                           OO \n",
      "        OO                                                            OOO                          O\n",
      "                                                                         OO                         \n",
      "                                                                           OO                       \n",
      "                                                                             OOO                    \n",
      "                                                                                OO                  \n",
      "                                                                                  OO                \n",
      "                                                                                    OOO             \n",
      "                                                                                       OO           \n",
      "                                                                                         OO         \n",
      "                                                                                           OOO      \n",
      "                                                                                              OO    \n",
      "                                                                                                OO  \n",
      "                                                                                                  OO\n"
     ]
    }
   ],
   "source": [
    "tfd = ASCIIRender(fd)\n",
    "s= tfd.render(show=False)\n",
    "print('')\n",
    "print(s)\n"
   ]
  },
  {
   "cell_type": "code",
   "execution_count": null,
   "id": "3db9e1fb",
   "metadata": {},
   "outputs": [],
   "source": []
  },
  {
   "cell_type": "code",
   "execution_count": null,
   "id": "df2c407c",
   "metadata": {},
   "outputs": [],
   "source": []
  }
 ],
 "metadata": {
  "kernelspec": {
   "display_name": "Python 3 (ipykernel)",
   "language": "python",
   "name": "python3"
  },
  "language_info": {
   "codemirror_mode": {
    "name": "ipython",
    "version": 3
   },
   "file_extension": ".py",
   "mimetype": "text/x-python",
   "name": "python",
   "nbconvert_exporter": "python",
   "pygments_lexer": "ipython3",
   "version": "3.9.15"
  }
 },
 "nbformat": 4,
 "nbformat_minor": 5
}
