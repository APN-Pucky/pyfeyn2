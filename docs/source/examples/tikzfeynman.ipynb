{
 "cells": [
  {
   "cell_type": "markdown",
   "id": "f32ecc80",
   "metadata": {},
   "source": [
    "# TIKZ-Feynman"
   ]
  },
  {
   "cell_type": "code",
   "execution_count": 1,
   "id": "d7959cdb",
   "metadata": {},
   "outputs": [],
   "source": [
    "from pyfeyn2.feynmandiagram import FeynmanDiagram, Leg, Propagator, Vertex\n",
    "from pyfeyn2.render.tikzfeynman import TikzFeynmanRender\n",
    "from pyfeyn2.render.dot import feynman_adjust_points"
   ]
  },
  {
   "cell_type": "markdown",
   "id": "891100ba",
   "metadata": {},
   "source": [
    "## Simple Case"
   ]
  },
  {
   "cell_type": "markdown",
   "id": "151afea0",
   "metadata": {},
   "source": [
    "We set the positions of all vertices here."
   ]
  },
  {
   "cell_type": "code",
   "execution_count": 2,
   "id": "937fa0bc",
   "metadata": {},
   "outputs": [],
   "source": [
    "fd = FeynmanDiagram()\n",
    "v1 = Vertex(\"v1\").set_xy(-1, 0)\n",
    "v2 = Vertex(\"v2\").set_xy(1, 0)\n",
    "p1 = Propagator(\"p1\").connect(v1, v2).set_type(\"gluon\")\n",
    "l1 = Leg(\"l1\").set_target(v1).set_xy(-2, 1).set_type(\"gluon\").set_incoming()\n",
    "l2 = Leg(\"l2\").set_target(v1).set_xy(-2, -1).set_type(\"gluon\").set_incoming()\n",
    "l3 = Leg(\"l3\").set_target(v2).set_xy(2, 1).set_type(\"gluon\").set_outgoing()\n",
    "l4 = Leg(\"l4\").set_target(v2).set_xy(2, -1).set_type(\"gluon\").set_outgoing()\n",
    "p1.set_source(v1)\n",
    "p1.set_target(v2)\n",
    "fd.propagators.append(p1)\n",
    "fd.vertices.extend([v1, v2])\n",
    "fd.legs.extend([l1, l2, l3, l4])"
   ]
  },
  {
   "cell_type": "code",
   "execution_count": 3,
   "id": "a1474ec0",
   "metadata": {},
   "outputs": [
    {
     "name": "stdout",
     "output_type": "stream",
     "text": [
      "\\documentclass[preview,crop,tikz]{standalone}%\n",
      "\\usepackage[T1]{fontenc}%\n",
      "\\usepackage[utf8]{inputenc}%\n",
      "\\usepackage{lmodern}%\n",
      "\\usepackage{textcomp}%\n",
      "\\usepackage{lastpage}%\n",
      "%\n",
      "\\RequirePackage{luatex85}%\n",
      "\\usepackage[compat=1.1.0]{tikz-feynman}%\n",
      "%\n",
      "\\begin{document}%\n",
      "\\normalsize%\n",
      "\\begin{tikzpicture}\n",
      "\\begin{feynman}\n",
      "\t\\vertex (v1) [label=] at (-1.0,0.0);\n",
      "\t\\vertex (v2) [label=] at (1.0,0.0);\n",
      "\t\\vertex (l1) [label=] at (-2.0,1.0);\n",
      "\t\\vertex (l2) [label=] at (-2.0,-1.0);\n",
      "\t\\vertex (l3) [label=] at (2.0,1.0);\n",
      "\t\\vertex (l4) [label=] at (2.0,-1.0);\n",
      "\t\\diagram*{\n",
      "\t\t(v1) -- [gluon] (v2),\n",
      "\t\t(l1) -- [gluon] (v1),\n",
      "\t\t(l2) -- [gluon] (v1),\n",
      "\t\t(v2) -- [gluon] (l3),\n",
      "\t\t(v2) -- [gluon] (l4),\n",
      "\t};\n",
      "\\end{feynman}\n",
      "\\end{tikzpicture}\n",
      "%\n",
      "\\end{document}\n"
     ]
    }
   ],
   "source": [
    "tfd = TikzFeynmanRender(fd)\n",
    "print(tfd.get_src())"
   ]
  },
  {
   "cell_type": "code",
   "execution_count": 4,
   "id": "a7b7739c",
   "metadata": {},
   "outputs": [
    {
     "data": {
      "image/png": "[encoded data removed]",
      "text/plain": [
       "<wand.image.Image: 6a79cab 'PDF' (167x90)>"
      ]
     },
     "execution_count": 4,
     "metadata": {},
     "output_type": "execute_result"
    }
   ],
   "source": [
    "tfd.render(\"test.pdf\")"
   ]
  },
  {
   "cell_type": "markdown",
   "id": "99fbd5ba",
   "metadata": {},
   "source": [
    "## Complicated Case"
   ]
  },
  {
   "cell_type": "markdown",
   "id": "62f35db5",
   "metadata": {},
   "source": [
    "We only set the positions of the Legs here."
   ]
  },
  {
   "cell_type": "code",
   "execution_count": 5,
   "id": "dda6bc22",
   "metadata": {},
   "outputs": [],
   "source": [
    "fd = FeynmanDiagram()\n",
    "v1 = Vertex(\"v1\")\n",
    "v2 = Vertex(\"v2\")\n",
    "v3 = Vertex(\"v3\")\n",
    "v4 = Vertex(\"v4\")\n",
    "p1 = Propagator(\"p1\").connect(v1, v2).set_type(\"gluon\")\n",
    "p2 = Propagator(\"p2\").connect(v1, v3).set_type(\"gluon\")\n",
    "p3 = Propagator(\"p3\").connect(v3, v2).set_type(\"gluon\")\n",
    "p4 = Propagator(\"p4\").connect(v4, v3).set_type(\"gluon\")\n",
    "p5 = Propagator(\"p5\").connect(v4, v2).set_type(\"gluon\")\n",
    "l1 = Leg(\"l1\").set_target(v1).set_type(\"gluon\").set_incoming().set_xy(-2, 1)\n",
    "l2 = Leg(\"l2\").set_target(v1).set_type(\"gluon\").set_incoming().set_xy(-2, -1)\n",
    "l3 = Leg(\"l3\").set_target(v2).set_type(\"gluon\").set_outgoing().set_xy(2, -2)\n",
    "l4 = Leg(\"l4\").set_target(v3).set_type(\"gluon\").set_outgoing().set_xy(2, 2)\n",
    "l5 = Leg(\"l5\").set_target(v4).set_type(\"gluon\").set_outgoing().set_xy(2, 1)\n",
    "l6 = Leg(\"l6\").set_target(v4).set_type(\"gluon\").set_outgoing().set_xy(2, -1)\n",
    "\n",
    "fd.propagators.extend([p1, p2, p3, p4, p5])\n",
    "fd.vertices.extend([v1, v2, v3, v4])\n",
    "fd.legs.extend([l1, l2, l3, l4, l5, l6])"
   ]
  },
  {
   "cell_type": "markdown",
   "id": "8bf8b95c",
   "metadata": {},
   "source": [
    "Now calculate the positions of vertices."
   ]
  },
  {
   "cell_type": "code",
   "execution_count": 6,
   "id": "2cc1456b",
   "metadata": {},
   "outputs": [],
   "source": [
    "ffd= feynman_adjust_points(fd)"
   ]
  },
  {
   "cell_type": "code",
   "execution_count": 7,
   "id": "87c4b396",
   "metadata": {},
   "outputs": [
    {
     "data": {
      "image/png": "[encoded data removed]",
      "text/plain": [
       "<wand.image.Image: f557330 'PDF' (189x190)>"
      ]
     },
     "execution_count": 7,
     "metadata": {},
     "output_type": "execute_result"
    }
   ],
   "source": [
    "TikzFeynmanRender(ffd).render()"
   ]
  },
  {
   "cell_type": "code",
   "execution_count": 8,
   "id": "eb5d9530",
   "metadata": {},
   "outputs": [
    {
     "name": "stdout",
     "output_type": "stream",
     "text": [
      "graph G {\n",
      "rankdir=LR;\n",
      "layout=neato;\n",
      "node [style=\"invis\"];\n",
      "\t\tLeg14 [ pos=\"-2.0,0.0!\"];\n",
      "\t\tLeg15 [ pos=\"2.0,0.0!\"];\n",
      "edge [style=\"decorate,decoration=coil,aspect=0.3,segment length=1mm\"];\n",
      "\t\tVertex0 -- Vertex1;\n",
      "edge [style=\"decorate,decoration=coil,aspect=0.3,segment length=1mm\"];\n",
      "\t\tVertex1 -- Vertex2;\n",
      "edge [style=\"decorate,decoration=coil,aspect=0.3,segment length=1mm\"];\n",
      "\t\tVertex0 -- Vertex3;\n",
      "edge [style=\"decorate,decoration=coil,aspect=0.3,segment length=1mm\"];\n",
      "\t\tVertex1 -- Vertex4;\n",
      "edge [style=\"decorate,decoration=coil,aspect=0.3,segment length=1mm\"];\n",
      "\t\tVertex2 -- Vertex5;\n",
      "edge [style=\"decorate,decoration=coil,aspect=0.3,segment length=1mm\"];\n",
      "\t\tVertex4 -- Vertex5;\n",
      "edge [style=\"decorate,decoration=coil,aspect=0.3,segment length=1mm\"];\n",
      "\t\tVertex3 -- Vertex4;\n",
      "edge [style=\"decorate,decoration=coil,aspect=0.3,segment length=1mm\"];\n",
      "\t\tVertex3 -- Vertex5;\n",
      "edge [style=\"decorate,decoration=coil,aspect=0.3,segment length=1mm\"];\n",
      "\t\tLeg14 -- Vertex0;\n",
      "edge [style=\"decorate,decoration=coil,aspect=0.3,segment length=1mm\"];\n",
      "\t\tVertex2 -- Leg15;\n",
      "{rank=min; Leg14 }\n",
      "{rank=max; Leg15 ;}\n",
      "}\n"
     ]
    },
    {
     "data": {
      "image/png": "[encoded data removed]",
      "text/plain": [
       "<wand.image.Image: 95e21eb 'PDF' (182x86)>"
      ]
     },
     "execution_count": 8,
     "metadata": {},
     "output_type": "execute_result"
    }
   ],
   "source": [
    "from pyfeyn2.render.dot import DotRender, feynman_to_dot\n",
    "fd = FeynmanDiagram()\n",
    "\n",
    "v1 = Vertex()\n",
    "v2 = Vertex()\n",
    "v3 = Vertex()\n",
    "v4 = Vertex()\n",
    "v5 = Vertex()\n",
    "v6 = Vertex()\n",
    "\n",
    "p1 = Propagator().connect(v1, v2).set_type(\"gluon\")\n",
    "p2 = Propagator().connect(v2, v3).set_type(\"gluon\")\n",
    "p3 = Propagator().connect(v1, v4).set_type(\"gluon\")\n",
    "p4 = Propagator().connect(v2, v5).set_type(\"gluon\")\n",
    "p5 = Propagator().connect(v3, v6).set_type(\"gluon\")\n",
    "p6 = Propagator().connect(v5, v6).set_type(\"gluon\")\n",
    "p7 = Propagator().connect(v4, v5).set_type(\"gluon\")\n",
    "p8 = Propagator().connect(v4, v6).set_type(\"gluon\")\n",
    "\n",
    "l1 = Leg().set_target(v1).set_type(\"gluon\").set_incoming().set_xy(-2, 0)\n",
    "l2 = Leg().set_target(v3).set_type(\"gluon\").set_outgoing().set_xy(2, 0)\n",
    "\n",
    "fd.propagators.extend([p1, p2, p3, p4, p5, p6, p7, p8])\n",
    "fd.vertices.extend([v1, v2, v3, v4, v5, v6])\n",
    "fd.legs.extend([l1, l2])\n",
    "print(feynman_to_dot(fd))\n",
    "ffd= feynman_adjust_points(fd)\n",
    "TikzFeynmanRender(ffd).render()"
   ]
  },
  {
   "cell_type": "code",
   "execution_count": null,
   "id": "3b1c8fd6",
   "metadata": {},
   "outputs": [],
   "source": []
  }
 ],
 "metadata": {
  "kernelspec": {
   "display_name": "Python 3 (ipykernel)",
   "language": "python",
   "name": "python3"
  },
  "language_info": {
   "codemirror_mode": {
    "name": "ipython",
    "version": 3
   },
   "file_extension": ".py",
   "mimetype": "text/x-python",
   "name": "python",
   "nbconvert_exporter": "python",
   "pygments_lexer": "ipython3",
   "version": "3.9.15"
  }
 },
 "nbformat": 4,
 "nbformat_minor": 5
}
